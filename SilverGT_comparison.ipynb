{
 "cells": [
  {
   "cell_type": "code",
   "execution_count": 1,
   "metadata": {},
   "outputs": [],
   "source": [
    "import pandas as pd\n",
    "import numpy as np\n",
    "from itertools import combinations\n",
    "import statistics\n",
    "import math\n",
    "from sklearn import metrics\n",
    "import matplotlib.pyplot as plt\n",
    "import seaborn as sns\n",
    "import pickle "
   ]
  },
  {
   "cell_type": "markdown",
   "metadata": {},
   "source": [
    "# Bootstrap"
   ]
  },
  {
   "cell_type": "code",
   "execution_count": 592,
   "metadata": {},
   "outputs": [],
   "source": [
    "SAMPLE_SIZE = 50\n",
    "ITERATION = 100"
   ]
  },
  {
   "cell_type": "code",
   "execution_count": 578,
   "metadata": {},
   "outputs": [],
   "source": [
    "sample_ids = [list(range(1,101))]"
   ]
  },
  {
   "cell_type": "code",
   "execution_count": 579,
   "metadata": {},
   "outputs": [],
   "source": [
    "# PatientId(1~100)\n",
    "sample_ids = []\n",
    "for _ in range(ITERATION):\n",
    "    x = np.random.choice(range(1,101), size=SAMPLE_SIZE, replace=True)\n",
    "    x.sort()\n",
    "    sample_ids.append(list(x))\n",
    "\n",
    "# sample_ids"
   ]
  },
  {
   "cell_type": "code",
   "execution_count": 501,
   "metadata": {},
   "outputs": [],
   "source": [
    "import pickle \n",
    "\n",
    "with open(f\"./bootstrap\", \"wb\") as fp:   #Pickling\n",
    "    pickle.dump(sample_ids, fp)"
   ]
  },
  {
   "cell_type": "code",
   "execution_count": 54,
   "metadata": {},
   "outputs": [],
   "source": [
    "with open(f\"./bootstrap\", \"rb\") as fp:   # Unpickling\n",
    "    sample_ids = pickle.load(fp)"
   ]
  },
  {
   "cell_type": "markdown",
   "metadata": {},
   "source": [
    "# Image-based"
   ]
  },
  {
   "cell_type": "code",
   "execution_count": 55,
   "metadata": {},
   "outputs": [],
   "source": [
    "# def accuracy(x,y):\n",
    "#     check = list(x == y)\n",
    "#     correct = check.count(True)\n",
    "#     accuracy = correct/SAMPLE_SIZE\n",
    "#     return accuracy\n",
    "\n",
    "def TPTNFPFN(x,answer):\n",
    "    TP = 0\n",
    "    TN = 0\n",
    "    FP = 0\n",
    "    FN = 0\n",
    "    for i in range(len(answer)):\n",
    "        if answer[i] == 1:\n",
    "            if x[i] == 1:\n",
    "                TP += 1\n",
    "            elif x[i] == 0:\n",
    "                FN += 1\n",
    "        elif answer[i] == 0:\n",
    "            if x[i] == 0:\n",
    "                TN += 1\n",
    "            elif x[i] == 1:\n",
    "                FP += 1\n",
    "#     print(f'TP is {TP}')\n",
    "#     print(f'TN is {TN}')\n",
    "#     print(f'FP is {FP}')\n",
    "#     print(f'FN is {FN}')\n",
    "    return TP, TN, FP, FN\n",
    "\n",
    "def accuracy(answer, x):\n",
    "    TP, TN, FP, FN = TPTNFPFN(x, answer)\n",
    "    \n",
    "    sensitivity = TP / (TP+FN)\n",
    "    specificity = TN / (TN+FP)\n",
    "    accuracy = (TP+TN)/(TP+FP+TN+FN)\n",
    "    \n",
    "#     print(f'sensitivity {sensitivity}')\n",
    "#     print(f'specificity {specificity}')\n",
    "#     print(f'accuracy {accuracy}')\n",
    "\n",
    "    return sensitivity, specificity, accuracy"
   ]
  },
  {
   "cell_type": "code",
   "execution_count": 56,
   "metadata": {},
   "outputs": [],
   "source": [
    "raters = ['R11_1', 'R14_1', 'R15_1', 'R16_1', 'R20_1', 'R21_1', 'R23_1', 'R26_1', 'R28_1', 'R29_1']"
   ]
  },
  {
   "cell_type": "code",
   "execution_count": 57,
   "metadata": {},
   "outputs": [],
   "source": [
    "def accuracies(ct_df, silver_df, samples):\n",
    "    accuracies_ = []\n",
    "    for sample in samples:\n",
    "        sample = list(np.array(sample)-1)\n",
    "        sample_ct = ct_df.iloc[sample].reset_index(drop=True)\n",
    "        sample_silver = silver_df.iloc[sample].reset_index(drop=True)\n",
    "        acc = accuracy(sample_ct[sample_ct.columns[0]], sample_silver[sample_silver.columns[0]])\n",
    "        accuracies_.append(acc)\n",
    "        \n",
    "    return accuracies_"
   ]
  },
  {
   "cell_type": "code",
   "execution_count": 58,
   "metadata": {},
   "outputs": [],
   "source": [
    "ct = pd.read_csv(f'./constructed/image-based_CT.csv')"
   ]
  },
  {
   "cell_type": "code",
   "execution_count": 59,
   "metadata": {},
   "outputs": [],
   "source": [
    "indiv = pd.read_csv(f'./constructed/image-based_1_majority_votes.csv')[['1vote4']] # R20\n",
    "indiv_acc = accuracies(ct, indiv, sample_ids)"
   ]
  },
  {
   "cell_type": "code",
   "execution_count": 60,
   "metadata": {
    "scrolled": true
   },
   "outputs": [],
   "source": [
    "mv = pd.read_csv(f'./constructed/image-based_7_majority_votes.csv')[['7vote7']]\n",
    "mv_acc = accuracies(ct, mv, sample_ids)"
   ]
  },
  {
   "cell_type": "code",
   "execution_count": 61,
   "metadata": {},
   "outputs": [],
   "source": [
    "cons2 = pd.read_csv(f'./constructed/image-based_consensus2.csv')\n",
    "cons2_acc = accuracies(ct, cons2, sample_ids)"
   ]
  },
  {
   "cell_type": "code",
   "execution_count": 62,
   "metadata": {},
   "outputs": [],
   "source": [
    "cons3 = pd.read_csv(f'./constructed/image-based_consensus3.csv')\n",
    "cons3_acc = accuracies(ct, cons3, sample_ids)"
   ]
  },
  {
   "cell_type": "code",
   "execution_count": 63,
   "metadata": {},
   "outputs": [],
   "source": [
    "lca2 = pd.read_csv(f'./constructed/image-based_lca_2.csv')\n",
    "lca2_acc = accuracies(ct, lca2, sample_ids)"
   ]
  },
  {
   "cell_type": "code",
   "execution_count": 64,
   "metadata": {},
   "outputs": [],
   "source": [
    "lca3 = pd.read_csv(f'./constructed/image-based_lca_3.csv')\n",
    "lca3_acc = accuracies(ct, lca3, sample_ids)"
   ]
  },
  {
   "cell_type": "markdown",
   "metadata": {},
   "source": [
    "## Distribution Comparison"
   ]
  },
  {
   "cell_type": "code",
   "execution_count": 65,
   "metadata": {},
   "outputs": [
    {
     "name": "stderr",
     "output_type": "stream",
     "text": [
      "/usr/local/lib/python3.6/dist-packages/seaborn/distributions.py:316: UserWarning: Dataset has 0 variance; skipping density estimate. Pass `warn_singular=False` to disable this warning.\n",
      "  warnings.warn(msg, UserWarning)\n",
      "/usr/local/lib/python3.6/dist-packages/seaborn/distributions.py:316: UserWarning: Dataset has 0 variance; skipping density estimate. Pass `warn_singular=False` to disable this warning.\n",
      "  warnings.warn(msg, UserWarning)\n",
      "/usr/local/lib/python3.6/dist-packages/seaborn/distributions.py:316: UserWarning: Dataset has 0 variance; skipping density estimate. Pass `warn_singular=False` to disable this warning.\n",
      "  warnings.warn(msg, UserWarning)\n",
      "/usr/local/lib/python3.6/dist-packages/seaborn/distributions.py:316: UserWarning: Dataset has 0 variance; skipping density estimate. Pass `warn_singular=False` to disable this warning.\n",
      "  warnings.warn(msg, UserWarning)\n"
     ]
    },
    {
     "data": {
      "image/png": "[encoded data removed]",
      "text/plain": [
       "<Figure size 1440x360 with 1 Axes>"
      ]
     },
     "metadata": {
      "needs_background": "light"
     },
     "output_type": "display_data"
    }
   ],
   "source": [
    "plt.figure(figsize=(20,5))\n",
    "\n",
    "sns.kdeplot(data = np.array(indiv_acc)[:,1], color=\"red\", shade=True)\n",
    "sns.kdeplot(data = np.array(mv_acc)[:,1], color=\"orange\", shade=True)\n",
    "sns.kdeplot(data = np.array(cons2_acc)[:,1], color=\"yellow\", shade=True)\n",
    "sns.kdeplot(data = np.array(cons3_acc)[:,1], color=\"green\", shade=True)\n",
    "sns.kdeplot(data = np.array(lca2_acc)[:,1], color=\"blue\", shade=True)\n",
    "sns.kdeplot(data = np.array(lca3_acc)[:,1], color=\"purple\", shade=True)\n",
    "plt.show()"
   ]
  },
  {
   "cell_type": "code",
   "execution_count": 70,
   "metadata": {},
   "outputs": [
    {
     "name": "stdout",
     "output_type": "stream",
     "text": [
      "('indiv_acc', 'mv_acc')\n",
      "t-statistics:-13.87034001921044, p-value: 6.0772249881320035e-25\n",
      "('indiv_acc', 'cons2_acc')\n",
      "t-statistics:-13.87034001921044, p-value: 6.0772249881320035e-25\n",
      "('indiv_acc', 'cons3_acc')\n",
      "t-statistics:-8.063930977766159, p-value: 1.3889746107011097e-13\n",
      "('indiv_acc', 'lca2_acc')\n",
      "t-statistics:-13.87034001921044, p-value: 6.0772249881320035e-25\n",
      "('indiv_acc', 'lca3_acc')\n",
      "t-statistics:-13.87034001921044, p-value: 6.0772249881320035e-25\n",
      "('mv_acc', 'cons2_acc')\n",
      "t-statistics:nan, p-value: nan\n",
      "('mv_acc', 'cons3_acc')\n",
      "t-statistics:6.964395951292852, p-value: 3.6685104646672857e-10\n",
      "('mv_acc', 'lca2_acc')\n",
      "t-statistics:nan, p-value: nan\n",
      "('mv_acc', 'lca3_acc')\n",
      "t-statistics:nan, p-value: nan\n",
      "('cons2_acc', 'cons3_acc')\n",
      "t-statistics:6.964395951292852, p-value: 3.6685104646672857e-10\n",
      "('cons2_acc', 'lca2_acc')\n",
      "t-statistics:nan, p-value: nan\n",
      "('cons2_acc', 'lca3_acc')\n",
      "t-statistics:nan, p-value: nan\n",
      "('cons3_acc', 'lca2_acc')\n",
      "t-statistics:-6.964395951292852, p-value: 3.6685104646672857e-10\n",
      "('cons3_acc', 'lca3_acc')\n",
      "t-statistics:-6.964395951292852, p-value: 3.6685104646672857e-10\n",
      "('lca2_acc', 'lca3_acc')\n",
      "t-statistics:nan, p-value: nan\n"
     ]
    }
   ],
   "source": [
    "from scipy import stats\n",
    "\n",
    "names = ['indiv_acc','mv_acc','cons2_acc','cons3_acc','lca2_acc','lca3_acc']\n",
    "names_combs = list(combinations(names,2))\n",
    "\n",
    "m = 1\n",
    "\n",
    "for idx, comb in enumerate(list(combinations([np.array(indiv_acc)[:,m],np.array(mv_acc)[:,m],np.array(cons2_acc)[:,m],np.array(cons3_acc)[:,m],np.array(lca2_acc)[:,m],np.array(lca3_acc)[:,m]],2))):\n",
    "    t_stat, p_val = stats.ttest_ind(list(comb)[0], list(comb)[1],\n",
    "                                    equal_var=False)\n",
    "    print(names_combs[idx])\n",
    "    print(f\"t-statistics:{t_stat}, p-value: {p_val}\")"
   ]
  },
  {
   "cell_type": "code",
   "execution_count": 67,
   "metadata": {},
   "outputs": [
    {
     "name": "stdout",
     "output_type": "stream",
     "text": [
      "0.8212 (0.8111140772178862, 0.8312859227821139)\n",
      "0.8434 (0.8331075015952977, 0.8536924984047024)\n",
      "0.8106 (0.799229774848733, 0.8219702251512669)\n",
      "0.792 (0.7808053391640637, 0.8031946608359364)\n",
      "0.8626 (0.853084705425303, 0.872115294574697)\n",
      "0.8742 (0.8647074633155832, 0.8836925366844167)\n"
     ]
    }
   ],
   "source": [
    "# 95% CI\n",
    "\n",
    "lst = [indiv_acc,mv_acc,cons2_acc,cons3_acc,lca2_acc,lca3_acc]\n",
    "for item in lst:\n",
    "    x = np.array(item)[:,2]\n",
    "\n",
    "    m = statistics.mean(x)\n",
    "    s = statistics.stdev(x)\n",
    "\n",
    "    dof = len(x)\n",
    "\n",
    "    confidence = 0.95\n",
    "\n",
    "    t_crit = np.abs(stats.t.ppf((1-confidence)/2,dof))\n",
    "\n",
    "    print(m, (m-s*t_crit/np.sqrt(dof), m+s*t_crit/np.sqrt(dof)))"
   ]
  },
  {
   "cell_type": "markdown",
   "metadata": {},
   "source": [
    "# Lesion-based"
   ]
  },
  {
   "cell_type": "code",
   "execution_count": 19,
   "metadata": {},
   "outputs": [],
   "source": [
    "# 1    2    3    4    5    6    7    8    9    10\n",
    "# R11, R14, R15, R16, R20, R21, R23, R26, R28, R29\n",
    "\n",
    "raters = ['R11', 'R14', 'R15', 'R16', 'R20', 'R21', 'R23', 'R26', 'R28', 'R29']"
   ]
  },
  {
   "cell_type": "code",
   "execution_count": 20,
   "metadata": {},
   "outputs": [],
   "source": [
    "lesion_df = pd.read_csv('./Lesion_based_data/lesion_df.csv').reset_index()"
   ]
  },
  {
   "cell_type": "code",
   "execution_count": 21,
   "metadata": {},
   "outputs": [],
   "source": [
    "def str2arr(strg):\n",
    "    if strg in [0,'0']:\n",
    "        return 0\n",
    "\n",
    "    coors = strg[1:-1].split(' ')\n",
    "    while '' in coors:\n",
    "        coors.remove('')\n",
    "    coors = np.array(coors).astype(float)\n",
    "    return coors\n",
    "\n",
    "# herbwood.tistory.com/3?category=867198\n",
    "# Boolean function for intersection\n",
    "def boxesIntersect(boxA, boxB):\n",
    "    if type(boxA) == str:\n",
    "        boxA = str2arr(boxA)\n",
    "    if type(boxB) == str:\n",
    "        boxB = str2arr(boxB)\n",
    "    \n",
    "    if type(boxA) == int:\n",
    "        if type(boxB) == int: # TN\n",
    "            return 'TN'\n",
    "        else: # FP\n",
    "            return 'FP'\n",
    "        \n",
    "    elif type(boxB) == int: # FN\n",
    "        return 'FN'\n",
    "    \n",
    "    else: # TP 일수도 아닐 수도 (겹치면 True, 안겹치면 False)\n",
    "        boxA = boxA.astype(float)\n",
    "        boxB = boxB.astype(float)\n",
    "\n",
    "        if boxA[0] > boxB[2]:\n",
    "            return 'FP' # boxA is on the right of boxB\n",
    "        if boxB[0] > boxA[2]:\n",
    "            return 'FP' # boxA is on the left of boxB\n",
    "        if boxA[3] < boxB[1]:\n",
    "            return 'FP' # boxA is above boxB\n",
    "        if boxA[1] > boxB[3]:\n",
    "            return 'FP' # boxA is below boxB\n",
    "        return True\n",
    "\n",
    "def iou(A,B):  \n",
    "    if boxesIntersect(A, B) != True:\n",
    "        return 0\n",
    "    \n",
    "    if type(A) == str:\n",
    "        A = str2arr(A)\n",
    "    if type(B) == str:\n",
    "        B = str2arr(B)\n",
    "    \n",
    "    A = A.astype(float)\n",
    "    B = B.astype(float)\n",
    "    \n",
    "    # A = (x1, y1, x2, y2)\n",
    "    A_area = (A[2] - A[0] + 1) * (A[3] - A[1] + 1)\n",
    "    B_area = (B[2] - B[0] + 1) * (B[3] - B[1] + 1)\n",
    "\n",
    "    # find intersection box\n",
    "    x1 = max(A[0], B[0])\n",
    "    y1 = max(A[1], B[1])\n",
    "    x2 = min(A[2], B[2])\n",
    "    y2 = min(A[3], B[3])\n",
    "\n",
    "    # compute the width and height of the intersection\n",
    "    w = max(0, x2 - x1 + 1)\n",
    "    h = max(0, y2 - y1 + 1)\n",
    "\n",
    "    inter = w * h\n",
    "    iou_ = inter / (A_area + B_area - inter)\n",
    "\n",
    "    return iou_\n",
    "\n",
    "def check_box_in_list(box, boxlist, thres):\n",
    "    for boxx in boxlist:\n",
    "        if type(str2arr(boxx)) != int:\n",
    "            box2 = str2arr(box)\n",
    "            boxx = str2arr(boxx)\n",
    "\n",
    "            box2 = box2.astype(float)\n",
    "            boxx = boxx.astype(float)\n",
    "\n",
    "            if box2[0] > boxx[2]:\n",
    "                continue # boxA is on the right of boxB\n",
    "            if boxx[0] > box2[2]:\n",
    "                continue # boxA is on the left of boxB\n",
    "            if box2[3] < boxx[1]:\n",
    "                continue # boxA is above boxB\n",
    "            if box2[1] > boxx[3]:\n",
    "                continue # boxA is below boxB\n",
    "            if iou(box2, boxx)>thres:\n",
    "                return True\n",
    "    return False\n",
    "\n",
    "def marking(ct, silver,thres):\n",
    "    result = []\n",
    "\n",
    "    pids = list(set(silver['DB_PatientId']))\n",
    "    pids.sort()\n",
    "    pids\n",
    "    \n",
    "    for caseId in pids:\n",
    "#         print(f'===========Case {caseId}=========')\n",
    "        ct_ans = list(ct[ct['DB_PatientId']==caseId]['mask'])[0]\n",
    "        silver_ans = list(silver[silver['DB_PatientId']==caseId]['mask'])\n",
    "        for i in range(len(silver_ans)):\n",
    "#             print(ct_ans, silver_ans[i])\n",
    "#             print(boxesIntersect(ct_ans, silver_ans[i]))\n",
    "            if boxesIntersect(ct_ans, silver_ans[i]) == True:\n",
    "#                 print(iou(ct_ans, silver_ans[i]))\n",
    "                if iou(ct_ans, silver_ans[i])>thres:\n",
    "#                     print('TP')\n",
    "                    result.append('TP')\n",
    "                else:\n",
    "#                     print('FP')\n",
    "                    result.append('FP')\n",
    "            else:\n",
    "                result.append(boxesIntersect(ct_ans, silver_ans[i]))\n",
    "        if type(str2arr(ct_ans)) != int:\n",
    "            if not check_box_in_list(ct_ans, silver_ans, thres):\n",
    "                result.append('FN')\n",
    "    return result\n",
    "\n",
    "# def f1score(silver, thres, prnt=True):\n",
    "#     result = marking(silver, thres)\n",
    "\n",
    "#     TP = result.count('TP')\n",
    "#     FP = result.count('FP')\n",
    "#     TN = result.count('TN')\n",
    "#     FN = result.count('FN')\n",
    "\n",
    "#     precision = TP / (TP+FP)\n",
    "#     recall = TP / (TP+FN)\n",
    "\n",
    "#     f1 = 2 * (precision * recall)/(precision+recall)\n",
    "    \n",
    "#     if prnt:\n",
    "#         print(f'TP {TP}')\n",
    "#         print(f'FP {FP}')\n",
    "#         print(f'TN {TN}')\n",
    "#         print(f'FN {FN}')\n",
    "#         print(f'precision {precision}')\n",
    "#         print(f'recall {recall}')\n",
    "#         print(f'f1-score {f1}')\n",
    "\n",
    "#     return precision, recall, f1\n",
    "\n",
    "def accuracies(ct, silver, thres, prnt=True):\n",
    "    result = marking(ct, silver, thres)\n",
    "\n",
    "    TP = result.count('TP')\n",
    "    FP = result.count('FP')\n",
    "    TN = result.count('TN')\n",
    "    FN = result.count('FN')\n",
    "\n",
    "    sensitivity = TP / (TP+FN)\n",
    "    specificity = TN / (TN+FP)\n",
    "    accuracy = (TP+TN)/(TP+FP+TN+FN)\n",
    "    \n",
    "    if prnt:\n",
    "        print(f'TP {TP}')\n",
    "        print(f'FP {FP}')\n",
    "        print(f'TN {TN}')\n",
    "        print(f'FN {FN}')\n",
    "        print(f'sensitivity {sensitivity}')\n",
    "        print(f'specificity {specificity}')\n",
    "        print(f'accuracy {accuracy}')\n",
    "\n",
    "    return sensitivity, specificity, accuracy"
   ]
  },
  {
   "cell_type": "code",
   "execution_count": 22,
   "metadata": {},
   "outputs": [],
   "source": [
    "THRES = 0.1"
   ]
  },
  {
   "cell_type": "code",
   "execution_count": 23,
   "metadata": {},
   "outputs": [],
   "source": [
    "def scores(ct_df, silver_df, samples):\n",
    "    sensitivities_ = []\n",
    "    specificities_ = []\n",
    "    accuracies_ = []\n",
    "    for sample in samples:\n",
    "        patients = set(silver_df['DB_PatientId'])\n",
    "        sample = list(set(sample)-(set(sample)-patients))\n",
    "        sample.sort()\n",
    "        \n",
    "        db_silver_ids = []\n",
    "        msks_silver = []\n",
    "        db_ct_ids = []\n",
    "        msks_ct = []\n",
    "        for num in sample:\n",
    "            ct = list(ct_df[ct_df['DB_PatientId']==num]['mask'])\n",
    "            msks_ct += ct\n",
    "            db_ct_ids += [num for _ in ct]\n",
    "            \n",
    "            silver = list(silver_df[silver_df['DB_PatientId']==num]['mask'])\n",
    "            msks_silver += silver\n",
    "            db_silver_ids += [num for _ in silver]\n",
    "            \n",
    "        sample_ct = pd.DataFrame.from_dict({'DB_PatientId':db_ct_ids, 'mask':msks_ct})\n",
    "        sample_silver = pd.DataFrame.from_dict({'DB_PatientId':db_silver_ids, 'mask':msks_silver})\n",
    "        \n",
    "        sens, spec, acc = accuracies(sample_ct, sample_silver, THRES, False)\n",
    "        sensitivities_.append(sens)\n",
    "        specificities_.append(spec)\n",
    "        accuracies_.append(acc)\n",
    "        \n",
    "    return sensitivities_,specificities_,accuracies_"
   ]
  },
  {
   "cell_type": "code",
   "execution_count": 24,
   "metadata": {},
   "outputs": [],
   "source": [
    "# def scores(silver_df, samples):\n",
    "#     precisions_ = []\n",
    "#     recalls_ = []\n",
    "#     f1s_ = []\n",
    "#     for sample in samples:\n",
    "#         patients = set(silver_df['DB_PatientId'])\n",
    "#         sample = list(set(sample)-(set(sample)-patients))\n",
    "#         sample.sort()\n",
    "        \n",
    "#         db_ids = []\n",
    "#         msks = []\n",
    "#         for num in sample:\n",
    "#             target = list(silver_df[silver_df['DB_PatientId']==num]['mask'])\n",
    "#             msks += target\n",
    "#             db_ids += [num for _ in target]\n",
    "            \n",
    "#         sample_silver = pd.DataFrame.from_dict({'DB_PatientId':db_ids, 'mask':msks})\n",
    "#         prec, rec, f1 = f1score(sample_silver, THRES, False)\n",
    "#         precisions_.append(prec)\n",
    "#         recalls_.append(rec)\n",
    "#         f1s_.append(f1)\n",
    "        \n",
    "#     return precisions_,recalls_,f1s_"
   ]
  },
  {
   "cell_type": "code",
   "execution_count": 25,
   "metadata": {},
   "outputs": [],
   "source": [
    "SAMPLE_SIZE = 50\n",
    "ITERATION = 100"
   ]
  },
  {
   "cell_type": "code",
   "execution_count": 26,
   "metadata": {},
   "outputs": [],
   "source": [
    "sample_ids = [list(range(1,101))]"
   ]
  },
  {
   "cell_type": "code",
   "execution_count": 27,
   "metadata": {},
   "outputs": [],
   "source": [
    "# PatientId(1~100)\n",
    "sample_ids = []\n",
    "for _ in range(ITERATION):\n",
    "    x = np.random.choice(range(1,101), size=SAMPLE_SIZE, replace=True)\n",
    "    x.sort()\n",
    "    sample_ids.append(list(x))\n",
    "\n",
    "# sample_ids"
   ]
  },
  {
   "cell_type": "code",
   "execution_count": 28,
   "metadata": {},
   "outputs": [
    {
     "data": {
      "text/html": [
       "<div>\n",
       "<style scoped>\n",
       "    .dataframe tbody tr th:only-of-type {\n",
       "        vertical-align: middle;\n",
       "    }\n",
       "\n",
       "    .dataframe tbody tr th {\n",
       "        vertical-align: top;\n",
       "    }\n",
       "\n",
       "    .dataframe thead th {\n",
       "        text-align: right;\n",
       "    }\n",
       "</style>\n",
       "<table border=\"1\" class=\"dataframe\">\n",
       "  <thead>\n",
       "    <tr style=\"text-align: right;\">\n",
       "      <th></th>\n",
       "      <th>DB_PatientId</th>\n",
       "      <th>mask</th>\n",
       "    </tr>\n",
       "  </thead>\n",
       "  <tbody>\n",
       "    <tr>\n",
       "      <th>0</th>\n",
       "      <td>1</td>\n",
       "      <td>[1657  929 1977 1218]</td>\n",
       "    </tr>\n",
       "    <tr>\n",
       "      <th>1</th>\n",
       "      <td>2</td>\n",
       "      <td>0</td>\n",
       "    </tr>\n",
       "    <tr>\n",
       "      <th>2</th>\n",
       "      <td>3</td>\n",
       "      <td>0</td>\n",
       "    </tr>\n",
       "    <tr>\n",
       "      <th>3</th>\n",
       "      <td>4</td>\n",
       "      <td>0</td>\n",
       "    </tr>\n",
       "    <tr>\n",
       "      <th>4</th>\n",
       "      <td>5</td>\n",
       "      <td>[1253 1479 1786 2023]</td>\n",
       "    </tr>\n",
       "  </tbody>\n",
       "</table>\n",
       "</div>"
      ],
      "text/plain": [
       "   DB_PatientId                   mask\n",
       "0             1  [1657  929 1977 1218]\n",
       "1             2                      0\n",
       "2             3                      0\n",
       "3             4                      0\n",
       "4             5  [1253 1479 1786 2023]"
      ]
     },
     "execution_count": 28,
     "metadata": {},
     "output_type": "execute_result"
    }
   ],
   "source": [
    "ct = pd.read_csv('./constructed/lesion-based_CT.csv')\n",
    "ct.head()"
   ]
  },
  {
   "cell_type": "code",
   "execution_count": 29,
   "metadata": {
    "scrolled": true
   },
   "outputs": [],
   "source": [
    "indiv = pd.read_csv(f'./constructed/lesion-based_R20.csv') # R20\n",
    "indiv_scores = scores(ct, indiv, sample_ids)"
   ]
  },
  {
   "cell_type": "code",
   "execution_count": 30,
   "metadata": {},
   "outputs": [],
   "source": [
    "mv = pd.read_csv(f'./constructed/lesion-based_7_majority_votes.csv')\n",
    "mv = mv[mv['7vote0']==1][['DB_PatientId','mask']] # 7 avg와 가장 유사한 vote\n",
    "mv_scores = scores(ct, mv, sample_ids)"
   ]
  },
  {
   "cell_type": "code",
   "execution_count": 31,
   "metadata": {},
   "outputs": [],
   "source": [
    "cons2 = pd.read_csv(f'./constructed/lesion-based_consensus2.csv') # R20\n",
    "cons2_scores = scores(ct, cons2, sample_ids)"
   ]
  },
  {
   "cell_type": "code",
   "execution_count": 32,
   "metadata": {},
   "outputs": [],
   "source": [
    "cons3 = pd.read_csv(f'./constructed/lesion-based_consensus3.csv') # R20\n",
    "cons3_scores = scores(ct, cons3, sample_ids)"
   ]
  },
  {
   "cell_type": "code",
   "execution_count": 33,
   "metadata": {},
   "outputs": [],
   "source": [
    "lca2 = pd.read_csv(f'./constructed/lesion-based_lca_2.csv') # R20\n",
    "lca2_scores = scores(ct, lca2, sample_ids)"
   ]
  },
  {
   "cell_type": "code",
   "execution_count": 34,
   "metadata": {},
   "outputs": [],
   "source": [
    "lca3 = pd.read_csv(f'./constructed/lesion-based_lca_3.csv') # R20\n",
    "lca3_scores = scores(ct, lca3, sample_ids)"
   ]
  },
  {
   "cell_type": "markdown",
   "metadata": {},
   "source": [
    "## Distribution Comparison"
   ]
  },
  {
   "cell_type": "code",
   "execution_count": 49,
   "metadata": {},
   "outputs": [
    {
     "data": {
      "image/png": "[encoded data removed]",
      "text/plain": [
       "<Figure size 1440x360 with 1 Axes>"
      ]
     },
     "metadata": {
      "needs_background": "light"
     },
     "output_type": "display_data"
    }
   ],
   "source": [
    "#Precision / Sensitivity\n",
    "\n",
    "plt.figure(figsize=(20,5))\n",
    "\n",
    "sns.kdeplot(data = indiv_scores[0], color=\"red\", shade=True)\n",
    "sns.kdeplot(data = mv_scores[0], color=\"orange\", shade=True)\n",
    "sns.kdeplot(data = cons2_scores[0], color=\"yellow\", shade=True)\n",
    "sns.kdeplot(data = cons3_scores[0], color=\"green\", shade=True)\n",
    "sns.kdeplot(data = lca2_scores[0], color=\"blue\", shade=True)\n",
    "sns.kdeplot(data = lca3_scores[0], color=\"purple\", shade=True)\n",
    "plt.show()"
   ]
  },
  {
   "cell_type": "code",
   "execution_count": 50,
   "metadata": {},
   "outputs": [
    {
     "data": {
      "image/png": "[encoded data removed]",
      "text/plain": [
       "<Figure size 1440x360 with 1 Axes>"
      ]
     },
     "metadata": {
      "needs_background": "light"
     },
     "output_type": "display_data"
    }
   ],
   "source": [
    "#Recall / Specificity\n",
    "\n",
    "plt.figure(figsize=(20,5))\n",
    "\n",
    "sns.kdeplot(data = indiv_scores[1], color=\"red\", shade=True)\n",
    "sns.kdeplot(data = mv_scores[1], color=\"orange\", shade=True)\n",
    "sns.kdeplot(data = cons2_scores[1], color=\"yellow\", shade=True)\n",
    "sns.kdeplot(data = cons3_scores[1], color=\"green\", shade=True)\n",
    "sns.kdeplot(data = lca2_scores[1], color=\"blue\", shade=True)\n",
    "sns.kdeplot(data = lca3_scores[1], color=\"purple\", shade=True)\n",
    "plt.show()"
   ]
  },
  {
   "cell_type": "code",
   "execution_count": 51,
   "metadata": {},
   "outputs": [
    {
     "data": {
      "image/png": "[encoded data removed]",
      "text/plain": [
       "<Figure size 1440x360 with 1 Axes>"
      ]
     },
     "metadata": {
      "needs_background": "light"
     },
     "output_type": "display_data"
    }
   ],
   "source": [
    "#f1-score / Accuracy\n",
    "\n",
    "plt.figure(figsize=(20,5))\n",
    "\n",
    "sns.kdeplot(data = indiv_scores[2], color=\"red\", shade=True)\n",
    "sns.kdeplot(data = mv_scores[2], color=\"orange\", shade=True)\n",
    "sns.kdeplot(data = cons2_scores[2], color=\"yellow\", shade=True)\n",
    "sns.kdeplot(data = cons3_scores[2], color=\"green\", shade=True)\n",
    "sns.kdeplot(data = lca2_scores[2], color=\"blue\", shade=True)\n",
    "sns.kdeplot(data = lca3_scores[2], color=\"purple\", shade=True)\n",
    "plt.show()"
   ]
  },
  {
   "cell_type": "code",
   "execution_count": 35,
   "metadata": {},
   "outputs": [
    {
     "name": "stdout",
     "output_type": "stream",
     "text": [
      "('indiv_scores', 'mv_scores')\n",
      "t-statistics:2.289276764502814, p-value: 0.02311904965979135\n",
      "('indiv_scores', 'cons2_scores')\n",
      "t-statistics:8.112445926031866, p-value: 5.731860180790342e-14\n",
      "('indiv_scores', 'cons3_scores')\n",
      "t-statistics:5.537380888001976, p-value: 9.810641526494763e-08\n",
      "('indiv_scores', 'lca2_scores')\n",
      "t-statistics:0.6110333538158025, p-value: 0.5418792771018772\n",
      "('indiv_scores', 'lca3_scores')\n",
      "t-statistics:2.4372551210278246, p-value: 0.015696193876488743\n",
      "('mv_scores', 'cons2_scores')\n",
      "t-statistics:5.773998918574842, p-value: 3.028620801083197e-08\n",
      "('mv_scores', 'cons3_scores')\n",
      "t-statistics:3.211335901042727, p-value: 0.0015435154141385098\n",
      "('mv_scores', 'lca2_scores')\n",
      "t-statistics:-1.6254456507681565, p-value: 0.10566549210602517\n",
      "('mv_scores', 'lca3_scores')\n",
      "t-statistics:0.04767120683224223, p-value: 0.9620267498643075\n",
      "('cons2_scores', 'cons3_scores')\n",
      "t-statistics:-2.594975259576776, p-value: 0.010170194999694728\n",
      "('cons2_scores', 'lca2_scores')\n",
      "t-statistics:-7.277546795987489, p-value: 8.726620121239674e-12\n",
      "('cons2_scores', 'lca3_scores')\n",
      "t-statistics:-6.026486369812066, p-value: 8.075513963063933e-09\n",
      "('cons3_scores', 'lca2_scores')\n",
      "t-statistics:-4.779549405940242, p-value: 3.4672259116488926e-06\n",
      "('cons3_scores', 'lca3_scores')\n",
      "t-statistics:-3.321297673207918, p-value: 0.001066900036905306\n",
      "('lca2_scores', 'lca3_scores')\n",
      "t-statistics:1.7402284594645032, p-value: 0.0834122810270476\n"
     ]
    }
   ],
   "source": [
    "#Precision / Sensitivity\n",
    "\n",
    "from scipy import stats\n",
    "\n",
    "names = ['indiv_scores','mv_scores','cons2_scores','cons3_scores','lca2_scores','lca3_scores']\n",
    "names_combs = list(combinations(names,2))\n",
    "\n",
    "for idx, comb in enumerate(list(combinations([indiv_scores[0],mv_scores[0],cons2_scores[0],cons3_scores[0],lca2_scores[0],lca3_scores[0]],2))):\n",
    "    t_stat, p_val = stats.ttest_ind(list(comb)[0], list(comb)[1],\n",
    "                                    equal_var=False)\n",
    "    print(names_combs[idx])\n",
    "    print(f\"t-statistics:{t_stat}, p-value: {p_val}\")"
   ]
  },
  {
   "cell_type": "code",
   "execution_count": 36,
   "metadata": {},
   "outputs": [
    {
     "name": "stdout",
     "output_type": "stream",
     "text": [
      "('indiv_scores', 'mv_scores')\n",
      "t-statistics:-21.305847741176525, p-value: 3.785866014336264e-45\n",
      "('indiv_scores', 'cons2_scores')\n",
      "t-statistics:-6.658718202842235, p-value: 2.6797652249744743e-10\n",
      "('indiv_scores', 'cons3_scores')\n",
      "t-statistics:-21.079992423481713, p-value: 4.0475014147808915e-45\n",
      "('indiv_scores', 'lca2_scores')\n",
      "t-statistics:-21.305847741176525, p-value: 3.785866014336264e-45\n",
      "('indiv_scores', 'lca3_scores')\n",
      "t-statistics:-21.305847741176525, p-value: 3.785866014336264e-45\n",
      "('mv_scores', 'cons2_scores')\n",
      "t-statistics:13.637044524002128, p-value: 1.7049561950747084e-27\n",
      "('mv_scores', 'cons3_scores')\n",
      "t-statistics:0.12442923022583895, p-value: 0.9011018981125902\n",
      "('mv_scores', 'lca2_scores')\n",
      "t-statistics:0.0, p-value: 1.0\n",
      "('mv_scores', 'lca3_scores')\n",
      "t-statistics:0.0, p-value: 1.0\n",
      "('cons2_scores', 'cons3_scores')\n",
      "t-statistics:-13.452114062174683, p-value: 3.2571242457726275e-27\n",
      "('cons2_scores', 'lca2_scores')\n",
      "t-statistics:-13.637044524002128, p-value: 1.7049561950747084e-27\n",
      "('cons2_scores', 'lca3_scores')\n",
      "t-statistics:-13.637044524002128, p-value: 1.7049561950747084e-27\n",
      "('cons3_scores', 'lca2_scores')\n",
      "t-statistics:-0.12442923022583895, p-value: 0.9011018981125902\n",
      "('cons3_scores', 'lca3_scores')\n",
      "t-statistics:-0.12442923022583895, p-value: 0.9011018981125902\n",
      "('lca2_scores', 'lca3_scores')\n",
      "t-statistics:0.0, p-value: 1.0\n"
     ]
    }
   ],
   "source": [
    "#Recall / Specificity\n",
    "\n",
    "from scipy import stats\n",
    "\n",
    "names = ['indiv_scores','mv_scores','cons2_scores','cons3_scores','lca2_scores','lca3_scores']\n",
    "names_combs = list(combinations(names,2))\n",
    "\n",
    "for idx, comb in enumerate(list(combinations([indiv_scores[1],mv_scores[1],cons2_scores[1],cons3_scores[1],lca2_scores[1],lca3_scores[1]],2))):\n",
    "    t_stat, p_val = stats.ttest_ind(list(comb)[0], list(comb)[1],\n",
    "                                    equal_var=False)\n",
    "    print(names_combs[idx])\n",
    "    print(f\"t-statistics:{t_stat}, p-value: {p_val}\")"
   ]
  },
  {
   "cell_type": "code",
   "execution_count": 59,
   "metadata": {},
   "outputs": [
    {
     "name": "stdout",
     "output_type": "stream",
     "text": [
      "('indiv_scores', 'mv_scores')\n",
      "t-statistics:-3.77377202468111, p-value: 0.0002130873150840444\n",
      "('indiv_scores', 'cons2_scores')\n",
      "t-statistics:5.125245143919438, p-value: 7.139180671437796e-07\n",
      "('indiv_scores', 'cons3_scores')\n",
      "t-statistics:1.1522673473078435, p-value: 0.2506190492867398\n",
      "('indiv_scores', 'lca2_scores')\n",
      "t-statistics:-6.014460957199236, p-value: 8.729523617863925e-09\n",
      "('indiv_scores', 'lca3_scores')\n",
      "t-statistics:-2.4280451976543587, p-value: 0.0160793643389967\n",
      "('mv_scores', 'cons2_scores')\n",
      "t-statistics:8.411141126425203, p-value: 7.995797839045892e-15\n",
      "('mv_scores', 'cons3_scores')\n",
      "t-statistics:4.666075426957936, p-value: 5.645944905273272e-06\n",
      "('mv_scores', 'lca2_scores')\n",
      "t-statistics:-2.137903786530396, p-value: 0.03375047498590635\n",
      "('mv_scores', 'lca3_scores')\n",
      "t-statistics:1.3445656592039124, p-value: 0.18030574481784395\n",
      "('cons2_scores', 'cons3_scores')\n",
      "t-statistics:-3.7766416924967783, p-value: 0.00021015761274621416\n",
      "('cons2_scores', 'lca2_scores')\n",
      "t-statistics:-10.502337094598255, p-value: 8.61739932218117e-21\n",
      "('cons2_scores', 'lca3_scores')\n",
      "t-statistics:-7.226693183210974, p-value: 1.0579927749569547e-11\n",
      "('cons3_scores', 'lca2_scores')\n",
      "t-statistics:-6.785770951403093, p-value: 1.3072109254636978e-10\n",
      "('cons3_scores', 'lca3_scores')\n",
      "t-statistics:-3.406668499609438, p-value: 0.0007966080992177844\n",
      "('lca2_scores', 'lca3_scores')\n",
      "t-statistics:3.5160570386309358, p-value: 0.0005431581846210302\n"
     ]
    }
   ],
   "source": [
    "#f1-score / Accuracy\n",
    "\n",
    "from scipy import stats\n",
    "\n",
    "names = ['indiv_scores','mv_scores','cons2_scores','cons3_scores','lca2_scores','lca3_scores']\n",
    "names_combs = list(combinations(names,2))\n",
    "\n",
    "for idx, comb in enumerate(list(combinations([indiv_scores[2],mv_scores[2],cons2_scores[2],cons3_scores[2],lca2_scores[2],lca3_scores[2]],2))):\n",
    "    t_stat, p_val = stats.ttest_ind(list(comb)[0], list(comb)[1],\n",
    "                                    equal_var=False)\n",
    "    print(names_combs[idx])\n",
    "    print(f\"t-statistics:{t_stat}, p-value: {p_val}\")"
   ]
  },
  {
   "cell_type": "code",
   "execution_count": 75,
   "metadata": {},
   "outputs": [
    {
     "name": "stdout",
     "output_type": "stream",
     "text": [
      "0.5225925550359257 (0.5047901616910432, 0.5403949483808083)\n",
      "0.4902313405090205 (0.4715847186413505, 0.5088779623766905)\n",
      "0.4015281744046715 (0.38454111648105227, 0.4185152323282907)\n",
      "0.4383350164159475 (0.4203074184914088, 0.45636261434048625)\n",
      "0.5118791508423118 (0.4925744323731844, 0.5311838693114393)\n",
      "0.48394102876355405 (0.46679759371231355, 0.5010844638147945)\n"
     ]
    }
   ],
   "source": [
    "# 95% CI\n",
    "\n",
    "lst = [indiv_scores,mv_scores,cons2_scores,cons3_scores,lca2_scores,lca3_scores]\n",
    "for item in lst:\n",
    "    x = item[0]\n",
    "\n",
    "    m = statistics.mean(x)\n",
    "    s = statistics.stdev(x)\n",
    "\n",
    "    dof = len(x)\n",
    "\n",
    "    confidence = 0.95\n",
    "\n",
    "    t_crit = np.abs(stats.t.ppf((1-confidence)/2,dof))\n",
    "\n",
    "    print(m, (m-s*t_crit/np.sqrt(dof), m+s*t_crit/np.sqrt(dof)))"
   ]
  },
  {
   "cell_type": "code",
   "execution_count": null,
   "metadata": {},
   "outputs": [],
   "source": []
  },
  {
   "cell_type": "code",
   "execution_count": 22,
   "metadata": {},
   "outputs": [
    {
     "data": {
      "text/plain": [
       "(0.4848575043087241, 0.09442735330513066)"
      ]
     },
     "execution_count": 22,
     "metadata": {},
     "output_type": "execute_result"
    }
   ],
   "source": [
    "statistics.mean(rec), statistics.stdev(rec)"
   ]
  },
  {
   "cell_type": "code",
   "execution_count": 23,
   "metadata": {},
   "outputs": [
    {
     "name": "stdout",
     "output_type": "stream",
     "text": [
      "TP 23\n",
      "FP 18\n",
      "TN 47\n",
      "FN 14\n",
      "precision 0.5609756097560976\n",
      "recall 0.6216216216216216\n",
      "f1-score 0.5897435897435899\n"
     ]
    },
    {
     "data": {
      "text/plain": [
       "(0.5609756097560976, 0.6216216216216216, 0.5897435897435899)"
      ]
     },
     "execution_count": 23,
     "metadata": {},
     "output_type": "execute_result"
    }
   ],
   "source": [
    "silvergt = pd.read_csv('./constructed/lesion-based_R20.csv')\n",
    "silvergt = silvergt[['DB_PatientId','mask']]\n",
    "silvergt = silvergt.reset_index(drop=True)\n",
    "f1score(silvergt,THRES)"
   ]
  },
  {
   "cell_type": "code",
   "execution_count": 24,
   "metadata": {},
   "outputs": [
    {
     "name": "stderr",
     "output_type": "stream",
     "text": [
      "/usr/local/lib/python3.6/dist-packages/seaborn/distributions.py:2619: FutureWarning: `distplot` is a deprecated function and will be removed in a future version. Please adapt your code to use either `displot` (a figure-level function with similar flexibility) or `histplot` (an axes-level function for histograms).\n",
      "  warnings.warn(msg, FutureWarning)\n"
     ]
    },
    {
     "data": {
      "text/plain": [
       "(0.0, 1.0)"
      ]
     },
     "execution_count": 24,
     "metadata": {},
     "output_type": "execute_result"
    },
    {
     "data": {
      "image/png": "[encoded data removed]",
      "text/plain": [
       "<Figure size 432x288 with 1 Axes>"
      ]
     },
     "metadata": {
      "needs_background": "light"
     },
     "output_type": "display_data"
    }
   ],
   "source": [
    "import seaborn as sns\n",
    "import matplotlib.pyplot as plt\n",
    "\n",
    "sns.distplot(f1s)\n",
    "plt.xlim(0, 1)\n",
    "# plt.title('3 majority votes [n=120]')"
   ]
  },
  {
   "cell_type": "markdown",
   "metadata": {},
   "source": [
    "## MV"
   ]
  },
  {
   "cell_type": "code",
   "execution_count": 197,
   "metadata": {},
   "outputs": [],
   "source": [
    "k = 9\n",
    "i = 7 # len(list(combinations(raters,k)))"
   ]
  },
  {
   "cell_type": "code",
   "execution_count": 198,
   "metadata": {},
   "outputs": [
    {
     "data": {
      "text/plain": [
       "(10, ('R11', 'R14', 'R16', 'R20', 'R21', 'R23', 'R26', 'R28', 'R29'))"
      ]
     },
     "execution_count": 198,
     "metadata": {},
     "output_type": "execute_result"
    }
   ],
   "source": [
    "len(list(combinations(raters,k))), list(combinations(raters,k))[i]"
   ]
  },
  {
   "cell_type": "code",
   "execution_count": 199,
   "metadata": {},
   "outputs": [
    {
     "name": "stdout",
     "output_type": "stream",
     "text": [
      "TP 23\n",
      "FP 7\n",
      "TN 50\n",
      "FN 17\n",
      "precision 0.7666666666666667\n",
      "recall 0.575\n",
      "f1-score 0.6571428571428571\n"
     ]
    },
    {
     "data": {
      "text/plain": [
       "(0.7666666666666667, 0.575, 0.6571428571428571)"
      ]
     },
     "execution_count": 199,
     "metadata": {},
     "output_type": "execute_result"
    }
   ],
   "source": [
    "silvergt = pd.read_csv(f'./constructed/lesion-based_{k}_majority_votes.csv')\n",
    "silvergt = silvergt[silvergt[f'{k}vote{i}']==1][['DB_PatientId','mask']]\n",
    "silvergt = silvergt.reset_index(drop=True)\n",
    "f1score(silvergt,THRES)"
   ]
  },
  {
   "cell_type": "code",
   "execution_count": 28,
   "metadata": {},
   "outputs": [
    {
     "data": {
      "text/plain": [
       "[64, 49, 73]"
      ]
     },
     "execution_count": 28,
     "metadata": {},
     "output_type": "execute_result"
    }
   ],
   "source": [
    "omit_lst = list(set(range(1,101))-set(silvergt['DB_PatientId']))\n",
    "omit_lst"
   ]
  },
  {
   "cell_type": "markdown",
   "metadata": {},
   "source": [
    "### MV average f1-score"
   ]
  },
  {
   "cell_type": "code",
   "execution_count": 29,
   "metadata": {},
   "outputs": [],
   "source": [
    "def average_score(k, score):\n",
    "    if score == 'precision': idx = 0\n",
    "    elif score == 'recall': idx = 1\n",
    "    elif score == 'f1': idx = 2\n",
    "        \n",
    "    scores=[]\n",
    "    for i in range(len(list(combinations(raters,k)))):\n",
    "        selected_raters = list(combinations(raters,k))[i]\n",
    "        majority_votes_df = pd.read_csv(f'./constructed/lesion-based_{k}_majority_votes.csv')\n",
    "        majority_votes_df = majority_votes_df[majority_votes_df[f'{k}vote{i}']==1][['DB_PatientId','mask']]\n",
    "        majority_votes_df = majority_votes_df.reset_index(drop=True)\n",
    "        scores.append(f1score(majority_votes_df,THRES,prnt=False)[idx])\n",
    "\n",
    "    average_score_ = statistics.mean(scores)\n",
    "    sd_score_ = statistics.stdev(scores)\n",
    "    print(f'=={k} majority votes f1-score [n = {len(list(combinations(raters,k)))}]==')\n",
    "    print(f'ㄴaverage: {average_score_}')\n",
    "    print(f'ㄴstandard deviation: {sd_score_}')\n",
    "\n",
    "    return scores, average_score_, sd_score_"
   ]
  },
  {
   "cell_type": "code",
   "execution_count": 30,
   "metadata": {
    "scrolled": true
   },
   "outputs": [
    {
     "name": "stdout",
     "output_type": "stream",
     "text": [
      "==9 majority votes f1-score [n = 10]==\n",
      "ㄴaverage: 0.7581182795698924\n",
      "ㄴstandard deviation: 0.015706226514224993\n",
      "==7 majority votes f1-score [n = 120]==\n",
      "ㄴaverage: 0.762760068753319\n",
      "ㄴstandard deviation: 0.026376233292309655\n",
      "==5 majority votes f1-score [n = 252]==\n",
      "ㄴaverage: 0.7614029236121937\n",
      "ㄴstandard deviation: 0.029258420884323066\n",
      "==3 majority votes f1-score [n = 120]==\n",
      "ㄴaverage: 0.7430842454442108\n",
      "ㄴstandard deviation: 0.03618243117672269\n",
      "==9 majority votes f1-score [n = 10]==\n",
      "ㄴaverage: 0.5952810967380929\n",
      "ㄴstandard deviation: 0.021682591979676542\n",
      "==7 majority votes f1-score [n = 120]==\n",
      "ㄴaverage: 0.5926823585424356\n",
      "ㄴstandard deviation: 0.02926313730758341\n",
      "==5 majority votes f1-score [n = 252]==\n",
      "ㄴaverage: 0.5817162058730867\n",
      "ㄴstandard deviation: 0.04260711772111495\n",
      "==3 majority votes f1-score [n = 120]==\n",
      "ㄴaverage: 0.5716860471368338\n",
      "ㄴstandard deviation: 0.057873957738516855\n",
      "==9 majority votes f1-score [n = 10]==\n",
      "ㄴaverage: 0.6667740257972958\n",
      "ㄴstandard deviation: 0.017837947819285042\n",
      "==7 majority votes f1-score [n = 120]==\n",
      "ㄴaverage: 0.6665437191440097\n",
      "ㄴstandard deviation: 0.022265735152751\n",
      "==5 majority votes f1-score [n = 252]==\n",
      "ㄴaverage: 0.6583941316397145\n",
      "ㄴstandard deviation: 0.02935154615091425\n",
      "==3 majority votes f1-score [n = 120]==\n",
      "ㄴaverage: 0.6437337849014922\n",
      "ㄴstandard deviation: 0.036447631313175556\n"
     ]
    }
   ],
   "source": [
    "avg_precision_9 = average_score(9,'precision')[0]\n",
    "avg_precision_7 = average_score(7,'precision')[0]\n",
    "avg_precision_5 = average_score(5,'precision')[0]\n",
    "avg_precision_3 = average_score(3,'precision')[0]\n",
    "\n",
    "avg_recall_9 = average_score(9,'recall')[0]\n",
    "avg_recall_7 = average_score(7,'recall')[0]\n",
    "avg_recall_5 = average_score(5,'recall')[0]\n",
    "avg_recall_3 = average_score(3,'recall')[0]\n",
    "\n",
    "avg_f1_9 = average_score(9,'f1')[0]\n",
    "avg_f1_7 = average_score(7,'f1')[0]\n",
    "avg_f1_5 = average_score(5,'f1')[0]\n",
    "avg_f1_3 = average_score(3,'f1')[0]"
   ]
  },
  {
   "cell_type": "code",
   "execution_count": 57,
   "metadata": {},
   "outputs": [],
   "source": [
    "from scipy import stats"
   ]
  },
  {
   "cell_type": "code",
   "execution_count": 74,
   "metadata": {},
   "outputs": [
    {
     "data": {
      "text/plain": [
       "(0.5612257870090457, 0.5821463072646219)"
      ]
     },
     "execution_count": 74,
     "metadata": {},
     "output_type": "execute_result"
    }
   ],
   "source": [
    "# 95% CI\n",
    "\n",
    "x = avg_recall_3\n",
    "\n",
    "m = statistics.mean(x)\n",
    "s = statistics.stdev(x)\n",
    "\n",
    "dof = len(x)\n",
    "\n",
    "confidence = 0.95\n",
    "\n",
    "t_crit = np.abs(stats.t.ppf((1-confidence)/2,dof))\n",
    "\n",
    "(m-s*t_crit/np.sqrt(dof), m+s*t_crit/np.sqrt(dof))"
   ]
  },
  {
   "cell_type": "code",
   "execution_count": 60,
   "metadata": {},
   "outputs": [],
   "source": [
    "import matplotlib.pyplot as plt\n",
    "import seaborn as sns"
   ]
  },
  {
   "cell_type": "code",
   "execution_count": 24,
   "metadata": {},
   "outputs": [
    {
     "data": {
      "image/png": "[encoded data removed]",
      "text/plain": [
       "<Figure size 1440x360 with 1 Axes>"
      ]
     },
     "metadata": {
      "needs_background": "light"
     },
     "output_type": "display_data"
    }
   ],
   "source": [
    "plt.figure(figsize=(20,5))\n",
    "\n",
    "sns.kdeplot(data = avg_precision_9, color=\"red\", shade=True)\n",
    "sns.kdeplot(data = avg_precision_7, color=\"orange\", shade=True)\n",
    "sns.kdeplot(data = avg_precision_5, color=\"yellow\", shade=True)\n",
    "sns.kdeplot(data = avg_precision_3, color=\"green\", shade=True)\n",
    "sns.kdeplot(data = prec, color=\"blue\", shade=True) # prec, rec, f1\n",
    "plt.show()"
   ]
  },
  {
   "cell_type": "code",
   "execution_count": 25,
   "metadata": {},
   "outputs": [
    {
     "name": "stdout",
     "output_type": "stream",
     "text": [
      "t-statistics:3.8514632252418575, p-value: 0.00015918453018197172\n"
     ]
    }
   ],
   "source": [
    "from scipy import stats\n",
    "\n",
    "t_stat, p_val = stats.ttest_ind(avg_f1_5, avg_f1_3,\n",
    "                                equal_var=False)\n",
    "print(f\"t-statistics:{t_stat}, p-value: {p_val}\")"
   ]
  },
  {
   "cell_type": "markdown",
   "metadata": {},
   "source": [
    "## Consensus"
   ]
  },
  {
   "cell_type": "code",
   "execution_count": 27,
   "metadata": {},
   "outputs": [
    {
     "name": "stdout",
     "output_type": "stream",
     "text": [
      "TP 21\n",
      "FP 11\n",
      "TN 50\n",
      "FN 19\n",
      "precision 0.65625\n",
      "recall 0.525\n",
      "f1-score 0.5833333333333334\n"
     ]
    },
    {
     "data": {
      "text/plain": [
       "(0.65625, 0.525, 0.5833333333333334)"
      ]
     },
     "execution_count": 27,
     "metadata": {},
     "output_type": "execute_result"
    }
   ],
   "source": [
    "silvergt = pd.read_csv('./constructed/lesion-based_consensus2.csv')\n",
    "silvergt = silvergt[['DB_PatientId','mask']]\n",
    "silvergt = silvergt.reset_index(drop=True)\n",
    "f1score(silvergt,THRES)"
   ]
  },
  {
   "cell_type": "code",
   "execution_count": 28,
   "metadata": {},
   "outputs": [
    {
     "name": "stdout",
     "output_type": "stream",
     "text": [
      "TP 21\n",
      "FP 10\n",
      "TN 49\n",
      "FN 20\n",
      "precision 0.6774193548387096\n",
      "recall 0.5121951219512195\n",
      "f1-score 0.5833333333333334\n"
     ]
    },
    {
     "data": {
      "text/plain": [
       "(0.6774193548387096, 0.5121951219512195, 0.5833333333333334)"
      ]
     },
     "execution_count": 28,
     "metadata": {},
     "output_type": "execute_result"
    }
   ],
   "source": [
    "silvergt = pd.read_csv('./constructed/lesion-based_consensus3.csv')\n",
    "silvergt = silvergt[['DB_PatientId','mask']]\n",
    "silvergt = silvergt.reset_index(drop=True)\n",
    "f1score(silvergt,THRES)"
   ]
  },
  {
   "cell_type": "markdown",
   "metadata": {},
   "source": [
    "## LCA"
   ]
  },
  {
   "cell_type": "code",
   "execution_count": 29,
   "metadata": {},
   "outputs": [
    {
     "name": "stdout",
     "output_type": "stream",
     "text": [
      "TP 22\n",
      "FP 8\n",
      "TN 50\n",
      "FN 14\n",
      "precision 0.7333333333333333\n",
      "recall 0.6111111111111112\n",
      "f1-score 0.6666666666666666\n"
     ]
    },
    {
     "data": {
      "text/plain": [
       "(0.7333333333333333, 0.6111111111111112, 0.6666666666666666)"
      ]
     },
     "execution_count": 29,
     "metadata": {},
     "output_type": "execute_result"
    }
   ],
   "source": [
    "silvergt = pd.read_csv('./constructed/lesion-based_lca_2.csv')\n",
    "silvergt = silvergt[['DB_PatientId','mask']]\n",
    "silvergt = silvergt.reset_index(drop=True)\n",
    "f1score(silvergt,THRES)"
   ]
  },
  {
   "cell_type": "code",
   "execution_count": 30,
   "metadata": {},
   "outputs": [
    {
     "name": "stdout",
     "output_type": "stream",
     "text": [
      "TP 24\n",
      "FP 9\n",
      "TN 50\n",
      "FN 18\n",
      "precision 0.7272727272727273\n",
      "recall 0.5714285714285714\n",
      "f1-score 0.64\n"
     ]
    },
    {
     "data": {
      "text/plain": [
       "(0.7272727272727273, 0.5714285714285714, 0.64)"
      ]
     },
     "execution_count": 30,
     "metadata": {},
     "output_type": "execute_result"
    }
   ],
   "source": [
    "silvergt = pd.read_csv('./constructed/lesion-based_lca_3.csv')\n",
    "silvergt = silvergt[['DB_PatientId','mask']]\n",
    "silvergt = silvergt.reset_index(drop=True)\n",
    "f1score(silvergt,THRES)"
   ]
  },
  {
   "cell_type": "code",
   "execution_count": null,
   "metadata": {},
   "outputs": [],
   "source": []
  },
  {
   "cell_type": "code",
   "execution_count": null,
   "metadata": {},
   "outputs": [],
   "source": []
  },
  {
   "cell_type": "code",
   "execution_count": null,
   "metadata": {},
   "outputs": [],
   "source": []
  },
  {
   "cell_type": "code",
   "execution_count": null,
   "metadata": {},
   "outputs": [],
   "source": [
    "# Target journal\n",
    "IF >10\n",
    "(25) Lancet digital health\n",
    "(11 ->20?) Radiology v\n",
    "(12) NPJ digital medicine (do as ai says)"
   ]
  }
 ],
 "metadata": {
  "kernelspec": {
   "display_name": "Python 3",
   "language": "python",
   "name": "python3"
  },
  "language_info": {
   "codemirror_mode": {
    "name": "ipython",
    "version": 3
   },
   "file_extension": ".py",
   "mimetype": "text/x-python",
   "name": "python",
   "nbconvert_exporter": "python",
   "pygments_lexer": "ipython3",
   "version": "3.6.9"
  }
 },
 "nbformat": 4,
 "nbformat_minor": 4
}
