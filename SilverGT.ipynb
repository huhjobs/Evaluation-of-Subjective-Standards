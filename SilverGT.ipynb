{
 "cells": [
  {
   "cell_type": "code",
   "execution_count": 109,
   "metadata": {},
   "outputs": [],
   "source": [
    "import pandas as pd\n",
    "import numpy as np\n",
    "from itertools import combinations\n",
    "import statistics\n",
    "import math\n",
    "from sklearn import metrics"
   ]
  },
  {
   "cell_type": "code",
   "execution_count": 110,
   "metadata": {},
   "outputs": [],
   "source": [
    "def accuracy(x,y):\n",
    "    check = list(x == y)\n",
    "    correct = check.count(True)\n",
    "    accuracy = correct/100\n",
    "    return accuracy\n",
    "\n",
    "def TPTNFPFN(x,answer):\n",
    "    TP = 0\n",
    "    TN = 0\n",
    "    FP = 0\n",
    "    FN = 0\n",
    "    for i in range(len(answer)):\n",
    "        if answer[i] == 1:\n",
    "            if x[i] == 1:\n",
    "                TP += 1\n",
    "            elif x[i] == 0:\n",
    "                FN += 1\n",
    "        elif answer[i] == 0:\n",
    "            if x[i] == 0:\n",
    "                TN += 1\n",
    "            elif x[i] == 1:\n",
    "                FP += 1\n",
    "    print(f'TP is {TP}')\n",
    "    print(f'TN is {TN}')\n",
    "    print(f'FP is {FP}')\n",
    "    print(f'FN is {FN}')\n",
    "    return TP, TN, FP, FN"
   ]
  },
  {
   "cell_type": "markdown",
   "metadata": {},
   "source": [
    "# Image-based"
   ]
  },
  {
   "cell_type": "markdown",
   "metadata": {},
   "source": [
    "## Majority Vote (MV)"
   ]
  },
  {
   "cell_type": "code",
   "execution_count": 111,
   "metadata": {},
   "outputs": [
    {
     "data": {
      "text/html": [
       "<div>\n",
       "<style scoped>\n",
       "    .dataframe tbody tr th:only-of-type {\n",
       "        vertical-align: middle;\n",
       "    }\n",
       "\n",
       "    .dataframe tbody tr th {\n",
       "        vertical-align: top;\n",
       "    }\n",
       "\n",
       "    .dataframe thead th {\n",
       "        text-align: right;\n",
       "    }\n",
       "</style>\n",
       "<table border=\"1\" class=\"dataframe\">\n",
       "  <thead>\n",
       "    <tr style=\"text-align: right;\">\n",
       "      <th></th>\n",
       "      <th>Classification</th>\n",
       "      <th>배포용 순서 1</th>\n",
       "      <th>No.</th>\n",
       "      <th>ID</th>\n",
       "      <th>age</th>\n",
       "      <th>sex</th>\n",
       "      <th>CT date</th>\n",
       "      <th>x-ray date</th>\n",
       "      <th>Pathology</th>\n",
       "      <th>confirm</th>\n",
       "      <th>...</th>\n",
       "      <th>R14_1</th>\n",
       "      <th>R15_1</th>\n",
       "      <th>R16_1</th>\n",
       "      <th>R20_1</th>\n",
       "      <th>R21_1</th>\n",
       "      <th>R23_1</th>\n",
       "      <th>R26_1</th>\n",
       "      <th>R28_1</th>\n",
       "      <th>R29_1</th>\n",
       "      <th>AI</th>\n",
       "    </tr>\n",
       "  </thead>\n",
       "  <tbody>\n",
       "    <tr>\n",
       "      <th>0</th>\n",
       "      <td>Nodule</td>\n",
       "      <td>1</td>\n",
       "      <td>1</td>\n",
       "      <td>49766482</td>\n",
       "      <td>80</td>\n",
       "      <td>F</td>\n",
       "      <td>2019-01-08</td>\n",
       "      <td>2019-02-12</td>\n",
       "      <td>ADC</td>\n",
       "      <td>PCNBx and Op</td>\n",
       "      <td>...</td>\n",
       "      <td>0</td>\n",
       "      <td>1</td>\n",
       "      <td>1</td>\n",
       "      <td>1</td>\n",
       "      <td>1</td>\n",
       "      <td>1</td>\n",
       "      <td>1</td>\n",
       "      <td>1</td>\n",
       "      <td>1</td>\n",
       "      <td>1</td>\n",
       "    </tr>\n",
       "    <tr>\n",
       "      <th>1</th>\n",
       "      <td>Normal</td>\n",
       "      <td>2</td>\n",
       "      <td>2</td>\n",
       "      <td>38188392</td>\n",
       "      <td>74</td>\n",
       "      <td>M</td>\n",
       "      <td>2020-05-12</td>\n",
       "      <td>2020-05-12</td>\n",
       "      <td>NaN</td>\n",
       "      <td>NaN</td>\n",
       "      <td>...</td>\n",
       "      <td>1</td>\n",
       "      <td>1</td>\n",
       "      <td>0</td>\n",
       "      <td>0</td>\n",
       "      <td>0</td>\n",
       "      <td>0</td>\n",
       "      <td>1</td>\n",
       "      <td>0</td>\n",
       "      <td>0</td>\n",
       "      <td>0</td>\n",
       "    </tr>\n",
       "    <tr>\n",
       "      <th>2</th>\n",
       "      <td>Normal</td>\n",
       "      <td>3</td>\n",
       "      <td>3</td>\n",
       "      <td>39610373</td>\n",
       "      <td>51</td>\n",
       "      <td>M</td>\n",
       "      <td>2018-04-11</td>\n",
       "      <td>2018-04-11</td>\n",
       "      <td>NaN</td>\n",
       "      <td>NaN</td>\n",
       "      <td>...</td>\n",
       "      <td>0</td>\n",
       "      <td>0</td>\n",
       "      <td>0</td>\n",
       "      <td>0</td>\n",
       "      <td>0</td>\n",
       "      <td>0</td>\n",
       "      <td>0</td>\n",
       "      <td>0</td>\n",
       "      <td>0</td>\n",
       "      <td>0</td>\n",
       "    </tr>\n",
       "    <tr>\n",
       "      <th>3</th>\n",
       "      <td>Normal</td>\n",
       "      <td>4</td>\n",
       "      <td>4</td>\n",
       "      <td>36808993</td>\n",
       "      <td>66</td>\n",
       "      <td>F</td>\n",
       "      <td>2017-02-03</td>\n",
       "      <td>2017-02-03</td>\n",
       "      <td>NaN</td>\n",
       "      <td>NaN</td>\n",
       "      <td>...</td>\n",
       "      <td>0</td>\n",
       "      <td>1</td>\n",
       "      <td>0</td>\n",
       "      <td>0</td>\n",
       "      <td>0</td>\n",
       "      <td>0</td>\n",
       "      <td>0</td>\n",
       "      <td>0</td>\n",
       "      <td>0</td>\n",
       "      <td>0</td>\n",
       "    </tr>\n",
       "    <tr>\n",
       "      <th>4</th>\n",
       "      <td>Nodule</td>\n",
       "      <td>7</td>\n",
       "      <td>5</td>\n",
       "      <td>52094912</td>\n",
       "      <td>67</td>\n",
       "      <td>F</td>\n",
       "      <td>2019-01-30</td>\n",
       "      <td>2019-03-17</td>\n",
       "      <td>ADC</td>\n",
       "      <td>PCNBx and Op</td>\n",
       "      <td>...</td>\n",
       "      <td>1</td>\n",
       "      <td>1</td>\n",
       "      <td>1</td>\n",
       "      <td>1</td>\n",
       "      <td>1</td>\n",
       "      <td>0</td>\n",
       "      <td>1</td>\n",
       "      <td>1</td>\n",
       "      <td>1</td>\n",
       "      <td>0</td>\n",
       "    </tr>\n",
       "  </tbody>\n",
       "</table>\n",
       "<p>5 rows × 29 columns</p>\n",
       "</div>"
      ],
      "text/plain": [
       "  Classification  배포용 순서 1  No.        ID  age sex     CT date  x-ray date  \\\n",
       "0         Nodule         1    1  49766482   80   F  2019-01-08  2019-02-12   \n",
       "1         Normal         2    2  38188392   74   M  2020-05-12  2020-05-12   \n",
       "2         Normal         3    3  39610373   51   M  2018-04-11  2018-04-11   \n",
       "3         Normal         4    4  36808993   66   F  2017-02-03  2017-02-03   \n",
       "4         Nodule         7    5  52094912   67   F  2019-01-30  2019-03-17   \n",
       "\n",
       "  Pathology       confirm  ... R14_1  R15_1 R16_1  R20_1 R21_1  R23_1 R26_1  \\\n",
       "0       ADC  PCNBx and Op  ...     0      1     1      1     1      1     1   \n",
       "1       NaN           NaN  ...     1      1     0      0     0      0     1   \n",
       "2       NaN           NaN  ...     0      0     0      0     0      0     0   \n",
       "3       NaN           NaN  ...     0      1     0      0     0      0     0   \n",
       "4       ADC  PCNBx and Op  ...     1      1     1      1     1      0     1   \n",
       "\n",
       "   R28_1  R29_1  AI  \n",
       "0      1      1   1  \n",
       "1      0      0   0  \n",
       "2      0      0   0  \n",
       "3      0      0   0  \n",
       "4      1      1   0  \n",
       "\n",
       "[5 rows x 29 columns]"
      ]
     },
     "execution_count": 111,
     "metadata": {},
     "output_type": "execute_result"
    }
   ],
   "source": [
    "dataset = pd.read_csv('./Image_based_data/rate100.csv')\n",
    "dataset.head()"
   ]
  },
  {
   "cell_type": "code",
   "execution_count": 112,
   "metadata": {},
   "outputs": [
    {
     "data": {
      "text/plain": [
       "Index(['Classification', '배포용 순서 1', 'No.', 'ID', 'age', 'sex', 'CT date',\n",
       "       'x-ray date', 'Pathology', 'confirm', 'Type', 'Type.1', 'Location',\n",
       "       'Size_CT', 'Structure', 'obscure',\n",
       "       'visible (visible: 1; equivocal: 0; normal: 2)', 'CT answer', 'R11_1',\n",
       "       'R14_1', 'R15_1', 'R16_1', 'R20_1', 'R21_1', 'R23_1', 'R26_1', 'R28_1',\n",
       "       'R29_1', 'AI'],\n",
       "      dtype='object')"
      ]
     },
     "execution_count": 112,
     "metadata": {},
     "output_type": "execute_result"
    }
   ],
   "source": [
    "dataset.columns"
   ]
  },
  {
   "cell_type": "code",
   "execution_count": 113,
   "metadata": {},
   "outputs": [
    {
     "data": {
      "text/html": [
       "<div>\n",
       "<style scoped>\n",
       "    .dataframe tbody tr th:only-of-type {\n",
       "        vertical-align: middle;\n",
       "    }\n",
       "\n",
       "    .dataframe tbody tr th {\n",
       "        vertical-align: top;\n",
       "    }\n",
       "\n",
       "    .dataframe thead th {\n",
       "        text-align: right;\n",
       "    }\n",
       "</style>\n",
       "<table border=\"1\" class=\"dataframe\">\n",
       "  <thead>\n",
       "    <tr style=\"text-align: right;\">\n",
       "      <th></th>\n",
       "      <th>CT answer</th>\n",
       "    </tr>\n",
       "  </thead>\n",
       "  <tbody>\n",
       "    <tr>\n",
       "      <th>0</th>\n",
       "      <td>1</td>\n",
       "    </tr>\n",
       "    <tr>\n",
       "      <th>1</th>\n",
       "      <td>0</td>\n",
       "    </tr>\n",
       "    <tr>\n",
       "      <th>2</th>\n",
       "      <td>0</td>\n",
       "    </tr>\n",
       "    <tr>\n",
       "      <th>3</th>\n",
       "      <td>0</td>\n",
       "    </tr>\n",
       "    <tr>\n",
       "      <th>4</th>\n",
       "      <td>1</td>\n",
       "    </tr>\n",
       "    <tr>\n",
       "      <th>...</th>\n",
       "      <td>...</td>\n",
       "    </tr>\n",
       "    <tr>\n",
       "      <th>95</th>\n",
       "      <td>0</td>\n",
       "    </tr>\n",
       "    <tr>\n",
       "      <th>96</th>\n",
       "      <td>1</td>\n",
       "    </tr>\n",
       "    <tr>\n",
       "      <th>97</th>\n",
       "      <td>1</td>\n",
       "    </tr>\n",
       "    <tr>\n",
       "      <th>98</th>\n",
       "      <td>0</td>\n",
       "    </tr>\n",
       "    <tr>\n",
       "      <th>99</th>\n",
       "      <td>1</td>\n",
       "    </tr>\n",
       "  </tbody>\n",
       "</table>\n",
       "<p>100 rows × 1 columns</p>\n",
       "</div>"
      ],
      "text/plain": [
       "    CT answer\n",
       "0           1\n",
       "1           0\n",
       "2           0\n",
       "3           0\n",
       "4           1\n",
       "..        ...\n",
       "95          0\n",
       "96          1\n",
       "97          1\n",
       "98          0\n",
       "99          1\n",
       "\n",
       "[100 rows x 1 columns]"
      ]
     },
     "execution_count": 113,
     "metadata": {},
     "output_type": "execute_result"
    }
   ],
   "source": [
    "dataset[['CT answer']].to_csv(f'./constructed/image-based_CT.csv', index=None)\n",
    "pd.read_csv(f'./constructed/image-based_CT.csv')"
   ]
  },
  {
   "cell_type": "code",
   "execution_count": 114,
   "metadata": {},
   "outputs": [],
   "source": [
    "raters = ['R11_1', 'R14_1', 'R15_1', 'R16_1', 'R20_1', 'R21_1', 'R23_1', 'R26_1', 'R28_1', 'R29_1']"
   ]
  },
  {
   "cell_type": "code",
   "execution_count": 115,
   "metadata": {},
   "outputs": [
    {
     "data": {
      "text/html": [
       "<div>\n",
       "<style scoped>\n",
       "    .dataframe tbody tr th:only-of-type {\n",
       "        vertical-align: middle;\n",
       "    }\n",
       "\n",
       "    .dataframe tbody tr th {\n",
       "        vertical-align: top;\n",
       "    }\n",
       "\n",
       "    .dataframe thead th {\n",
       "        text-align: right;\n",
       "    }\n",
       "</style>\n",
       "<table border=\"1\" class=\"dataframe\">\n",
       "  <thead>\n",
       "    <tr style=\"text-align: right;\">\n",
       "      <th></th>\n",
       "      <th>R11_1</th>\n",
       "      <th>R14_1</th>\n",
       "      <th>R15_1</th>\n",
       "      <th>R16_1</th>\n",
       "      <th>R20_1</th>\n",
       "      <th>R21_1</th>\n",
       "      <th>R23_1</th>\n",
       "      <th>R26_1</th>\n",
       "      <th>R28_1</th>\n",
       "      <th>R29_1</th>\n",
       "    </tr>\n",
       "  </thead>\n",
       "  <tbody>\n",
       "    <tr>\n",
       "      <th>0</th>\n",
       "      <td>1</td>\n",
       "      <td>0</td>\n",
       "      <td>1</td>\n",
       "      <td>1</td>\n",
       "      <td>1</td>\n",
       "      <td>1</td>\n",
       "      <td>1</td>\n",
       "      <td>1</td>\n",
       "      <td>1</td>\n",
       "      <td>1</td>\n",
       "    </tr>\n",
       "    <tr>\n",
       "      <th>1</th>\n",
       "      <td>0</td>\n",
       "      <td>1</td>\n",
       "      <td>1</td>\n",
       "      <td>0</td>\n",
       "      <td>0</td>\n",
       "      <td>0</td>\n",
       "      <td>0</td>\n",
       "      <td>1</td>\n",
       "      <td>0</td>\n",
       "      <td>0</td>\n",
       "    </tr>\n",
       "    <tr>\n",
       "      <th>2</th>\n",
       "      <td>0</td>\n",
       "      <td>0</td>\n",
       "      <td>0</td>\n",
       "      <td>0</td>\n",
       "      <td>0</td>\n",
       "      <td>0</td>\n",
       "      <td>0</td>\n",
       "      <td>0</td>\n",
       "      <td>0</td>\n",
       "      <td>0</td>\n",
       "    </tr>\n",
       "  </tbody>\n",
       "</table>\n",
       "</div>"
      ],
      "text/plain": [
       "   R11_1  R14_1  R15_1  R16_1  R20_1  R21_1  R23_1  R26_1  R28_1  R29_1\n",
       "0      1      0      1      1      1      1      1      1      1      1\n",
       "1      0      1      1      0      0      0      0      1      0      0\n",
       "2      0      0      0      0      0      0      0      0      0      0"
      ]
     },
     "execution_count": 115,
     "metadata": {},
     "output_type": "execute_result"
    }
   ],
   "source": [
    "rates = dataset[raters]\n",
    "rates.head(3)"
   ]
  },
  {
   "cell_type": "code",
   "execution_count": 116,
   "metadata": {},
   "outputs": [],
   "source": [
    "def kmajority_votes(k):\n",
    "    majority_votes = {}\n",
    "    for idx, selected_raters in enumerate(list(combinations(raters,k))):\n",
    "        selected_raters = list(selected_raters)\n",
    "        majority_vote = np.array(rates[selected_raters].mode(axis=1)[0]).astype(int)\n",
    "        majority_votes[f'{k}vote{idx}']=majority_vote\n",
    "    return majority_votes"
   ]
  },
  {
   "cell_type": "code",
   "execution_count": null,
   "metadata": {
    "scrolled": true
   },
   "outputs": [],
   "source": [
    "majority_votes_9 = kmajority_votes(9)\n",
    "majority_votes_7 = kmajority_votes(7)\n",
    "majority_votes_5 = kmajority_votes(5)\n",
    "majority_votes_3 = kmajority_votes(3)\n",
    "majority_votes_1 = kmajority_votes(1)"
   ]
  },
  {
   "cell_type": "code",
   "execution_count": 118,
   "metadata": {},
   "outputs": [
    {
     "ename": "NameError",
     "evalue": "name 'majority_votes_1' is not defined",
     "output_type": "error",
     "traceback": [
      "\u001b[0;31m---------------------------------------------------------------------------\u001b[0m",
      "\u001b[0;31mNameError\u001b[0m                                 Traceback (most recent call last)",
      "\u001b[0;32m<ipython-input-118-919768d57d5c>\u001b[0m in \u001b[0;36m<module>\u001b[0;34m\u001b[0m\n\u001b[1;32m      1\u001b[0m \u001b[0;31m# save to csv\u001b[0m\u001b[0;34m\u001b[0m\u001b[0;34m\u001b[0m\u001b[0;34m\u001b[0m\u001b[0m\n\u001b[0;32m----> 2\u001b[0;31m \u001b[0mmajority_votes_k\u001b[0m \u001b[0;34m=\u001b[0m \u001b[0;34m[\u001b[0m\u001b[0;36m0\u001b[0m\u001b[0;34m,\u001b[0m\u001b[0mmajority_votes_1\u001b[0m\u001b[0;34m,\u001b[0m\u001b[0;36m0\u001b[0m\u001b[0;34m,\u001b[0m\u001b[0mmajority_votes_3\u001b[0m\u001b[0;34m,\u001b[0m\u001b[0;36m0\u001b[0m\u001b[0;34m,\u001b[0m\u001b[0mmajority_votes_5\u001b[0m\u001b[0;34m,\u001b[0m\u001b[0;36m0\u001b[0m\u001b[0;34m,\u001b[0m\u001b[0mmajority_votes_7\u001b[0m\u001b[0;34m,\u001b[0m\u001b[0;36m0\u001b[0m\u001b[0;34m,\u001b[0m\u001b[0mmajority_votes_9\u001b[0m\u001b[0;34m]\u001b[0m\u001b[0;34m\u001b[0m\u001b[0;34m\u001b[0m\u001b[0m\n\u001b[0m\u001b[1;32m      3\u001b[0m \u001b[0;32mfor\u001b[0m \u001b[0mk\u001b[0m \u001b[0;32min\u001b[0m \u001b[0;34m[\u001b[0m\u001b[0;36m1\u001b[0m\u001b[0;34m,\u001b[0m\u001b[0;36m3\u001b[0m\u001b[0;34m,\u001b[0m\u001b[0;36m5\u001b[0m\u001b[0;34m,\u001b[0m\u001b[0;36m7\u001b[0m\u001b[0;34m,\u001b[0m\u001b[0;36m9\u001b[0m\u001b[0;34m]\u001b[0m\u001b[0;34m:\u001b[0m\u001b[0;34m\u001b[0m\u001b[0;34m\u001b[0m\u001b[0m\n\u001b[1;32m      4\u001b[0m     \u001b[0mresult\u001b[0m \u001b[0;34m=\u001b[0m \u001b[0mpd\u001b[0m\u001b[0;34m.\u001b[0m\u001b[0mDataFrame\u001b[0m\u001b[0;34m.\u001b[0m\u001b[0mfrom_dict\u001b[0m\u001b[0;34m(\u001b[0m\u001b[0mmajority_votes_k\u001b[0m\u001b[0;34m[\u001b[0m\u001b[0mk\u001b[0m\u001b[0;34m]\u001b[0m\u001b[0;34m)\u001b[0m\u001b[0;34m\u001b[0m\u001b[0;34m\u001b[0m\u001b[0m\n\u001b[1;32m      5\u001b[0m     \u001b[0mresult\u001b[0m\u001b[0;34m.\u001b[0m\u001b[0mto_csv\u001b[0m\u001b[0;34m(\u001b[0m\u001b[0;34mf'./constructed/image-based_{k}_majority_votes.csv'\u001b[0m\u001b[0;34m,\u001b[0m \u001b[0mindex\u001b[0m\u001b[0;34m=\u001b[0m\u001b[0;32mNone\u001b[0m\u001b[0;34m)\u001b[0m\u001b[0;34m\u001b[0m\u001b[0;34m\u001b[0m\u001b[0m\n",
      "\u001b[0;31mNameError\u001b[0m: name 'majority_votes_1' is not defined"
     ]
    }
   ],
   "source": [
    "# save to csv\n",
    "majority_votes_k = [0,majority_votes_1,0,majority_votes_3,0,majority_votes_5,0,majority_votes_7,0,majority_votes_9]\n",
    "for k in [1,3,5,7,9]:\n",
    "    result = pd.DataFrame.from_dict(majority_votes_k[k])\n",
    "    result.to_csv(f'./constructed/image-based_{k}_majority_votes.csv', index=None)"
   ]
  },
  {
   "cell_type": "code",
   "execution_count": null,
   "metadata": {},
   "outputs": [],
   "source": [
    "# check the raters of (k)votes(idx)\n",
    "k = 9\n",
    "idx = 3\n",
    "list(combinations(raters,k))[idx]"
   ]
  },
  {
   "cell_type": "code",
   "execution_count": 119,
   "metadata": {},
   "outputs": [],
   "source": [
    "def average_accuracy(k):\n",
    "    accuracies=[]\n",
    "    for i in range(len(list(combinations(raters,k)))):\n",
    "        selected_raters = list(combinations(raters,k))[i]\n",
    "        majority_votes_df = pd.read_csv(f'./constructed/image-based_{k}_majority_votes.csv')\n",
    "        acc = accuracy(majority_votes_df[f'{k}vote{i}'],dataset['CT answer'])\n",
    "        accuracies.append(acc)\n",
    "#         print(f'The accuracy of {k}votes{i} is {acc}')\n",
    "    #     print(f'The accuracy of {k} majority vote by {selected_raters} is {acc}')\n",
    "\n",
    "    average_accuracy_ = statistics.mean(accuracies)\n",
    "    sd_accuracy_ = statistics.stdev(accuracies)\n",
    "    print(f'=={k} majority votes accuracy [n = {len(list(combinations(raters,k)))}]==')\n",
    "    print(f'ㄴaverage: {average_accuracy_}')\n",
    "    print(f'ㄴstandard deviation: {sd_accuracy_}')\n",
    "\n",
    "    return accuracies, average_accuracy_, sd_accuracy_"
   ]
  },
  {
   "cell_type": "code",
   "execution_count": 120,
   "metadata": {},
   "outputs": [
    {
     "name": "stdout",
     "output_type": "stream",
     "text": [
      "==1 majority votes accuracy [n = 10]==\n",
      "ㄴaverage: 0.785\n",
      "ㄴstandard deviation: 0.04006938426723769\n"
     ]
    },
    {
     "data": {
      "text/plain": [
       "Text(0.5, 1.0, '1 majority votes [n=10]')"
      ]
     },
     "execution_count": 120,
     "metadata": {},
     "output_type": "execute_result"
    },
    {
     "data": {
      "image/png": "[encoded data removed]",
      "text/plain": [
       "<Figure size 360x360 with 1 Axes>"
      ]
     },
     "metadata": {
      "needs_background": "light"
     },
     "output_type": "display_data"
    }
   ],
   "source": [
    "import seaborn as sns\n",
    "import matplotlib.pyplot as plt\n",
    "\n",
    "sns.displot(average_accuracy(1)[0])\n",
    "plt.title('1 majority votes [n=10]')"
   ]
  },
  {
   "cell_type": "code",
   "execution_count": 547,
   "metadata": {},
   "outputs": [
    {
     "name": "stdout",
     "output_type": "stream",
     "text": [
      "==9 majority votes accuracy [n = 10]==\n",
      "ㄴaverage: 0.84\n",
      "ㄴstandard deviation: 0.011547005383792526\n",
      "==7 majority votes accuracy [n = 120]==\n",
      "ㄴaverage: 0.8366666666666667\n",
      "ㄴstandard deviation: 0.01259140251786698\n",
      "==5 majority votes accuracy [n = 252]==\n",
      "ㄴaverage: 0.8289285714285715\n",
      "ㄴstandard deviation: 0.0187253917438066\n",
      "==3 majority votes accuracy [n = 120]==\n",
      "ㄴaverage: 0.8185\n",
      "ㄴstandard deviation: 0.025293238210234426\n",
      "==1 majority votes accuracy [n = 10]==\n",
      "ㄴaverage: 0.785\n",
      "ㄴstandard deviation: 0.04006938426723769\n"
     ]
    },
    {
     "data": {
      "text/plain": [
       "([0.81, 0.77, 0.81, 0.74, 0.82, 0.76, 0.76, 0.72, 0.84, 0.82],\n",
       " 0.785,\n",
       " 0.04006938426723769)"
      ]
     },
     "execution_count": 547,
     "metadata": {},
     "output_type": "execute_result"
    }
   ],
   "source": [
    "average_accuracy(9)\n",
    "average_accuracy(7)\n",
    "average_accuracy(5)\n",
    "average_accuracy(3)\n",
    "average_accuracy(1)\n",
    "\n",
    "#Mplus Demo\n",
    "#p-value\n",
    "#Consensus Reading tool 올려준다 --> ROI"
   ]
  },
  {
   "cell_type": "code",
   "execution_count": 389,
   "metadata": {},
   "outputs": [
    {
     "name": "stdout",
     "output_type": "stream",
     "text": [
      "==9 majority votes accuracy [n = 10]==\n",
      "ㄴaverage: 0.84\n",
      "ㄴstandard deviation: 0.011547005383792526\n",
      "==7 majority votes accuracy [n = 120]==\n",
      "ㄴaverage: 0.8366666666666667\n",
      "ㄴstandard deviation: 0.01259140251786698\n",
      "==5 majority votes accuracy [n = 252]==\n",
      "ㄴaverage: 0.8289285714285715\n",
      "ㄴstandard deviation: 0.0187253917438066\n",
      "==3 majority votes accuracy [n = 120]==\n",
      "ㄴaverage: 0.8185\n",
      "ㄴstandard deviation: 0.025293238210234426\n",
      "==1 majority votes accuracy [n = 10]==\n",
      "ㄴaverage: 0.785\n",
      "ㄴstandard deviation: 0.04006938426723769\n"
     ]
    },
    {
     "data": {
      "image/png": "[encoded data removed]",
      "text/plain": [
       "<Figure size 1440x360 with 1 Axes>"
      ]
     },
     "metadata": {
      "needs_background": "light"
     },
     "output_type": "display_data"
    }
   ],
   "source": [
    "plt.figure(figsize=(20,5))\n",
    "\n",
    "sns.kdeplot(data = average_accuracy(9)[0], color=\"red\", shade=True)\n",
    "sns.kdeplot(data = average_accuracy(7)[0], color=\"orange\", shade=True)\n",
    "sns.kdeplot(data = average_accuracy(5)[0], color=\"yellow\", shade=True)\n",
    "sns.kdeplot(data = average_accuracy(3)[0], color=\"green\", shade=True)\n",
    "sns.kdeplot(data = average_accuracy(1)[0], color=\"blue\", shade=True)\n",
    "plt.show()"
   ]
  },
  {
   "cell_type": "code",
   "execution_count": 121,
   "metadata": {},
   "outputs": [
    {
     "name": "stdout",
     "output_type": "stream",
     "text": [
      "==9 majority votes accuracy [n = 10]==\n",
      "ㄴaverage: 0.84\n",
      "ㄴstandard deviation: 0.011547005383792526\n",
      "==7 majority votes accuracy [n = 120]==\n",
      "ㄴaverage: 0.8366666666666667\n",
      "ㄴstandard deviation: 0.01259140251786698\n",
      "==5 majority votes accuracy [n = 252]==\n",
      "ㄴaverage: 0.8289285714285715\n",
      "ㄴstandard deviation: 0.0187253917438066\n",
      "==3 majority votes accuracy [n = 120]==\n",
      "ㄴaverage: 0.8185\n",
      "ㄴstandard deviation: 0.025293238210234426\n",
      "==1 majority votes accuracy [n = 10]==\n",
      "ㄴaverage: 0.785\n",
      "ㄴstandard deviation: 0.04006938426723769\n"
     ]
    }
   ],
   "source": [
    "avg_acc9 = average_accuracy(9)[0]\n",
    "avg_acc7 = average_accuracy(7)[0]\n",
    "avg_acc5 = average_accuracy(5)[0]\n",
    "avg_acc3 = average_accuracy(3)[0]\n",
    "avg_acc1 = average_accuracy(1)[0]"
   ]
  },
  {
   "cell_type": "code",
   "execution_count": 131,
   "metadata": {},
   "outputs": [
    {
     "name": "stdout",
     "output_type": "stream",
     "text": [
      "t-statistics:2.600991350060612, p-value: 0.027267265372131644\n"
     ]
    }
   ],
   "source": [
    "from scipy import stats\n",
    "\n",
    "t_stat, p_val = stats.ttest_ind(avg_acc3, avg_acc1,\n",
    "                                equal_var=False)\n",
    "print(f\"t-statistics:{t_stat}, p-value: {p_val}\")"
   ]
  },
  {
   "cell_type": "markdown",
   "metadata": {},
   "source": [
    "## Individual"
   ]
  },
  {
   "cell_type": "code",
   "execution_count": 548,
   "metadata": {},
   "outputs": [
    {
     "data": {
      "text/plain": [
       "['R11_1',\n",
       " 'R14_1',\n",
       " 'R15_1',\n",
       " 'R16_1',\n",
       " 'R20_1',\n",
       " 'R21_1',\n",
       " 'R23_1',\n",
       " 'R26_1',\n",
       " 'R28_1',\n",
       " 'R29_1']"
      ]
     },
     "execution_count": 548,
     "metadata": {},
     "output_type": "execute_result"
    }
   ],
   "source": [
    "raters"
   ]
  },
  {
   "cell_type": "code",
   "execution_count": 549,
   "metadata": {},
   "outputs": [
    {
     "name": "stdout",
     "output_type": "stream",
     "text": [
      "==1 majority votes accuracy [n = 10]==\n",
      "ㄴaverage: 0.785\n",
      "ㄴstandard deviation: 0.04006938426723769\n"
     ]
    },
    {
     "data": {
      "text/plain": [
       "([0.81, 0.77, 0.81, 0.74, 0.82, 0.76, 0.76, 0.72, 0.84, 0.82],\n",
       " 0.785,\n",
       " 0.04006938426723769)"
      ]
     },
     "execution_count": 549,
     "metadata": {},
     "output_type": "execute_result"
    }
   ],
   "source": [
    "average_accuracy(1)"
   ]
  },
  {
   "cell_type": "markdown",
   "metadata": {},
   "source": [
    "## Consensus"
   ]
  },
  {
   "cell_type": "code",
   "execution_count": 257,
   "metadata": {},
   "outputs": [
    {
     "data": {
      "text/html": [
       "<div>\n",
       "<style scoped>\n",
       "    .dataframe tbody tr th:only-of-type {\n",
       "        vertical-align: middle;\n",
       "    }\n",
       "\n",
       "    .dataframe tbody tr th {\n",
       "        vertical-align: top;\n",
       "    }\n",
       "\n",
       "    .dataframe thead th {\n",
       "        text-align: right;\n",
       "    }\n",
       "</style>\n",
       "<table border=\"1\" class=\"dataframe\">\n",
       "  <thead>\n",
       "    <tr style=\"text-align: right;\">\n",
       "      <th></th>\n",
       "      <th>Answer</th>\n",
       "    </tr>\n",
       "  </thead>\n",
       "  <tbody>\n",
       "    <tr>\n",
       "      <th>0</th>\n",
       "      <td>1</td>\n",
       "    </tr>\n",
       "    <tr>\n",
       "      <th>1</th>\n",
       "      <td>0</td>\n",
       "    </tr>\n",
       "    <tr>\n",
       "      <th>2</th>\n",
       "      <td>0</td>\n",
       "    </tr>\n",
       "    <tr>\n",
       "      <th>3</th>\n",
       "      <td>0</td>\n",
       "    </tr>\n",
       "    <tr>\n",
       "      <th>4</th>\n",
       "      <td>0</td>\n",
       "    </tr>\n",
       "    <tr>\n",
       "      <th>...</th>\n",
       "      <td>...</td>\n",
       "    </tr>\n",
       "    <tr>\n",
       "      <th>96</th>\n",
       "      <td>0</td>\n",
       "    </tr>\n",
       "    <tr>\n",
       "      <th>97</th>\n",
       "      <td>1</td>\n",
       "    </tr>\n",
       "    <tr>\n",
       "      <th>98</th>\n",
       "      <td>1</td>\n",
       "    </tr>\n",
       "    <tr>\n",
       "      <th>99</th>\n",
       "      <td>0</td>\n",
       "    </tr>\n",
       "    <tr>\n",
       "      <th>100</th>\n",
       "      <td>1</td>\n",
       "    </tr>\n",
       "  </tbody>\n",
       "</table>\n",
       "<p>100 rows × 1 columns</p>\n",
       "</div>"
      ],
      "text/plain": [
       "     Answer\n",
       "0         1\n",
       "1         0\n",
       "2         0\n",
       "3         0\n",
       "4         0\n",
       "..      ...\n",
       "96        0\n",
       "97        1\n",
       "98        1\n",
       "99        0\n",
       "100       1\n",
       "\n",
       "[100 rows x 1 columns]"
      ]
     },
     "execution_count": 257,
     "metadata": {},
     "output_type": "execute_result"
    }
   ],
   "source": [
    "cons2 = pd.read_csv('./constructed/lesion-based_consensus2.csv')\n",
    "cons2 = cons2.drop_duplicates(['DB_PatientId'])\n",
    "cons2['Answer'] = list(cons2['mask'] != '0')\n",
    "cons2['Answer'] = cons2['Answer'].replace({True:1, False:0})\n",
    "cons2 = cons2[['Answer']]\n",
    "cons2.to_csv('./constructed/image-based_consensus2.csv', index = None)\n",
    "cons2"
   ]
  },
  {
   "cell_type": "code",
   "execution_count": 601,
   "metadata": {},
   "outputs": [
    {
     "data": {
      "text/html": [
       "<div>\n",
       "<style scoped>\n",
       "    .dataframe tbody tr th:only-of-type {\n",
       "        vertical-align: middle;\n",
       "    }\n",
       "\n",
       "    .dataframe tbody tr th {\n",
       "        vertical-align: top;\n",
       "    }\n",
       "\n",
       "    .dataframe thead th {\n",
       "        text-align: right;\n",
       "    }\n",
       "</style>\n",
       "<table border=\"1\" class=\"dataframe\">\n",
       "  <thead>\n",
       "    <tr style=\"text-align: right;\">\n",
       "      <th></th>\n",
       "      <th>Answer</th>\n",
       "    </tr>\n",
       "  </thead>\n",
       "  <tbody>\n",
       "    <tr>\n",
       "      <th>0</th>\n",
       "      <td>1</td>\n",
       "    </tr>\n",
       "    <tr>\n",
       "      <th>1</th>\n",
       "      <td>1</td>\n",
       "    </tr>\n",
       "    <tr>\n",
       "      <th>2</th>\n",
       "      <td>0</td>\n",
       "    </tr>\n",
       "    <tr>\n",
       "      <th>3</th>\n",
       "      <td>0</td>\n",
       "    </tr>\n",
       "    <tr>\n",
       "      <th>4</th>\n",
       "      <td>1</td>\n",
       "    </tr>\n",
       "    <tr>\n",
       "      <th>...</th>\n",
       "      <td>...</td>\n",
       "    </tr>\n",
       "    <tr>\n",
       "      <th>95</th>\n",
       "      <td>0</td>\n",
       "    </tr>\n",
       "    <tr>\n",
       "      <th>96</th>\n",
       "      <td>1</td>\n",
       "    </tr>\n",
       "    <tr>\n",
       "      <th>97</th>\n",
       "      <td>0</td>\n",
       "    </tr>\n",
       "    <tr>\n",
       "      <th>98</th>\n",
       "      <td>0</td>\n",
       "    </tr>\n",
       "    <tr>\n",
       "      <th>99</th>\n",
       "      <td>1</td>\n",
       "    </tr>\n",
       "  </tbody>\n",
       "</table>\n",
       "<p>100 rows × 1 columns</p>\n",
       "</div>"
      ],
      "text/plain": [
       "    Answer\n",
       "0        1\n",
       "1        1\n",
       "2        0\n",
       "3        0\n",
       "4        1\n",
       "..     ...\n",
       "95       0\n",
       "96       1\n",
       "97       0\n",
       "98       0\n",
       "99       1\n",
       "\n",
       "[100 rows x 1 columns]"
      ]
     },
     "execution_count": 601,
     "metadata": {},
     "output_type": "execute_result"
    }
   ],
   "source": [
    "cons3 = pd.read_csv('./constructed/lesion-based_consensus3.csv')\n",
    "cons3['Answer'] = list(cons3['2D_maskpos'] != '0')\n",
    "cons3['Answer'] = cons3['Answer'].replace({True:1, False:0})\n",
    "cons3 = cons3[['Answer']]\n",
    "cons3.to_csv('./constructed/image-based_consensus3.csv', index = None)\n",
    "cons3"
   ]
  },
  {
   "cell_type": "markdown",
   "metadata": {},
   "source": [
    "## LCA"
   ]
  },
  {
   "cell_type": "code",
   "execution_count": 552,
   "metadata": {
    "collapsed": true,
    "jupyter": {
     "outputs_hidden": true
    }
   },
   "outputs": [
    {
     "data": {
      "text/html": [
       "<div>\n",
       "<style scoped>\n",
       "    .dataframe tbody tr th:only-of-type {\n",
       "        vertical-align: middle;\n",
       "    }\n",
       "\n",
       "    .dataframe tbody tr th {\n",
       "        vertical-align: top;\n",
       "    }\n",
       "\n",
       "    .dataframe thead th {\n",
       "        text-align: right;\n",
       "    }\n",
       "</style>\n",
       "<table border=\"1\" class=\"dataframe\">\n",
       "  <thead>\n",
       "    <tr style=\"text-align: right;\">\n",
       "      <th></th>\n",
       "      <th>Answer</th>\n",
       "    </tr>\n",
       "  </thead>\n",
       "  <tbody>\n",
       "    <tr>\n",
       "      <th>0</th>\n",
       "      <td>1</td>\n",
       "    </tr>\n",
       "    <tr>\n",
       "      <th>1</th>\n",
       "      <td>0</td>\n",
       "    </tr>\n",
       "    <tr>\n",
       "      <th>2</th>\n",
       "      <td>0</td>\n",
       "    </tr>\n",
       "    <tr>\n",
       "      <th>3</th>\n",
       "      <td>0</td>\n",
       "    </tr>\n",
       "    <tr>\n",
       "      <th>4</th>\n",
       "      <td>1</td>\n",
       "    </tr>\n",
       "    <tr>\n",
       "      <th>...</th>\n",
       "      <td>...</td>\n",
       "    </tr>\n",
       "    <tr>\n",
       "      <th>95</th>\n",
       "      <td>0</td>\n",
       "    </tr>\n",
       "    <tr>\n",
       "      <th>96</th>\n",
       "      <td>1</td>\n",
       "    </tr>\n",
       "    <tr>\n",
       "      <th>97</th>\n",
       "      <td>1</td>\n",
       "    </tr>\n",
       "    <tr>\n",
       "      <th>98</th>\n",
       "      <td>0</td>\n",
       "    </tr>\n",
       "    <tr>\n",
       "      <th>99</th>\n",
       "      <td>1</td>\n",
       "    </tr>\n",
       "  </tbody>\n",
       "</table>\n",
       "<p>100 rows × 1 columns</p>\n",
       "</div>"
      ],
      "text/plain": [
       "    Answer\n",
       "0        1\n",
       "1        0\n",
       "2        0\n",
       "3        0\n",
       "4        1\n",
       "..     ...\n",
       "95       0\n",
       "96       1\n",
       "97       1\n",
       "98       0\n",
       "99       1\n",
       "\n",
       "[100 rows x 1 columns]"
      ]
     },
     "execution_count": 552,
     "metadata": {},
     "output_type": "execute_result"
    }
   ],
   "source": [
    "lca_df = pd.read_csv('./Image_based_lca/lca2_save.txt', names = raters + ['C1', 'C2', 'Answer', 'ID'], delimiter = \"\\s+\")\n",
    "lca_df['Answer'].replace({1:1, 2: 0}, inplace=True)\n",
    "lca_df = lca_df[['Answer']].astype(int)\n",
    "lca_df.to_csv(f'./constructed/image-based_lca_2.csv', index=None)\n",
    "pd.read_csv(f'./constructed/image-based_lca_2.csv')\n",
    "lca_df"
   ]
  },
  {
   "cell_type": "code",
   "execution_count": 553,
   "metadata": {
    "collapsed": true,
    "jupyter": {
     "outputs_hidden": true
    }
   },
   "outputs": [
    {
     "data": {
      "text/html": [
       "<div>\n",
       "<style scoped>\n",
       "    .dataframe tbody tr th:only-of-type {\n",
       "        vertical-align: middle;\n",
       "    }\n",
       "\n",
       "    .dataframe tbody tr th {\n",
       "        vertical-align: top;\n",
       "    }\n",
       "\n",
       "    .dataframe thead th {\n",
       "        text-align: right;\n",
       "    }\n",
       "</style>\n",
       "<table border=\"1\" class=\"dataframe\">\n",
       "  <thead>\n",
       "    <tr style=\"text-align: right;\">\n",
       "      <th></th>\n",
       "      <th>Answer</th>\n",
       "    </tr>\n",
       "  </thead>\n",
       "  <tbody>\n",
       "    <tr>\n",
       "      <th>0</th>\n",
       "      <td>1</td>\n",
       "    </tr>\n",
       "    <tr>\n",
       "      <th>1</th>\n",
       "      <td>0</td>\n",
       "    </tr>\n",
       "    <tr>\n",
       "      <th>2</th>\n",
       "      <td>0</td>\n",
       "    </tr>\n",
       "    <tr>\n",
       "      <th>3</th>\n",
       "      <td>0</td>\n",
       "    </tr>\n",
       "    <tr>\n",
       "      <th>4</th>\n",
       "      <td>1</td>\n",
       "    </tr>\n",
       "    <tr>\n",
       "      <th>...</th>\n",
       "      <td>...</td>\n",
       "    </tr>\n",
       "    <tr>\n",
       "      <th>95</th>\n",
       "      <td>0</td>\n",
       "    </tr>\n",
       "    <tr>\n",
       "      <th>96</th>\n",
       "      <td>1</td>\n",
       "    </tr>\n",
       "    <tr>\n",
       "      <th>97</th>\n",
       "      <td>1</td>\n",
       "    </tr>\n",
       "    <tr>\n",
       "      <th>98</th>\n",
       "      <td>0</td>\n",
       "    </tr>\n",
       "    <tr>\n",
       "      <th>99</th>\n",
       "      <td>1</td>\n",
       "    </tr>\n",
       "  </tbody>\n",
       "</table>\n",
       "<p>100 rows × 1 columns</p>\n",
       "</div>"
      ],
      "text/plain": [
       "    Answer\n",
       "0        1\n",
       "1        0\n",
       "2        0\n",
       "3        0\n",
       "4        1\n",
       "..     ...\n",
       "95       0\n",
       "96       1\n",
       "97       1\n",
       "98       0\n",
       "99       1\n",
       "\n",
       "[100 rows x 1 columns]"
      ]
     },
     "execution_count": 553,
     "metadata": {},
     "output_type": "execute_result"
    }
   ],
   "source": [
    "lca_df = pd.read_csv('./Image_based_lca/lca3_save.txt', names = raters + ['C1', 'C2', 'C3', 'Answer', 'ID'], delimiter = \"\\s+\")\n",
    "lca_df['Answer'].replace({1:1, 2: 1, 3:0}, inplace=True)\n",
    "lca_df = lca_df[['Answer']].astype(int)\n",
    "lca_df.to_csv(f'./constructed/image-based_lca_3.csv', index=None)\n",
    "lca_df = pd.read_csv(f'./constructed/image-based_lca_3.csv')\n",
    "lca_df"
   ]
  },
  {
   "cell_type": "markdown",
   "metadata": {},
   "source": [
    "## MV-LCA"
   ]
  },
  {
   "cell_type": "code",
   "execution_count": 664,
   "metadata": {
    "collapsed": true,
    "jupyter": {
     "outputs_hidden": true
    }
   },
   "outputs": [
    {
     "data": {
      "text/html": [
       "<div>\n",
       "<style scoped>\n",
       "    .dataframe tbody tr th:only-of-type {\n",
       "        vertical-align: middle;\n",
       "    }\n",
       "\n",
       "    .dataframe tbody tr th {\n",
       "        vertical-align: top;\n",
       "    }\n",
       "\n",
       "    .dataframe thead th {\n",
       "        text-align: right;\n",
       "    }\n",
       "</style>\n",
       "<table border=\"1\" class=\"dataframe\">\n",
       "  <thead>\n",
       "    <tr style=\"text-align: right;\">\n",
       "      <th></th>\n",
       "      <th>Answer</th>\n",
       "    </tr>\n",
       "  </thead>\n",
       "  <tbody>\n",
       "    <tr>\n",
       "      <th>0</th>\n",
       "      <td>1</td>\n",
       "    </tr>\n",
       "    <tr>\n",
       "      <th>1</th>\n",
       "      <td>0</td>\n",
       "    </tr>\n",
       "    <tr>\n",
       "      <th>2</th>\n",
       "      <td>0</td>\n",
       "    </tr>\n",
       "    <tr>\n",
       "      <th>3</th>\n",
       "      <td>0</td>\n",
       "    </tr>\n",
       "    <tr>\n",
       "      <th>4</th>\n",
       "      <td>1</td>\n",
       "    </tr>\n",
       "    <tr>\n",
       "      <th>...</th>\n",
       "      <td>...</td>\n",
       "    </tr>\n",
       "    <tr>\n",
       "      <th>95</th>\n",
       "      <td>0</td>\n",
       "    </tr>\n",
       "    <tr>\n",
       "      <th>96</th>\n",
       "      <td>1</td>\n",
       "    </tr>\n",
       "    <tr>\n",
       "      <th>97</th>\n",
       "      <td>1</td>\n",
       "    </tr>\n",
       "    <tr>\n",
       "      <th>98</th>\n",
       "      <td>0</td>\n",
       "    </tr>\n",
       "    <tr>\n",
       "      <th>99</th>\n",
       "      <td>1</td>\n",
       "    </tr>\n",
       "  </tbody>\n",
       "</table>\n",
       "<p>100 rows × 1 columns</p>\n",
       "</div>"
      ],
      "text/plain": [
       "    Answer\n",
       "0        1\n",
       "1        0\n",
       "2        0\n",
       "3        0\n",
       "4        1\n",
       "..     ...\n",
       "95       0\n",
       "96       1\n",
       "97       1\n",
       "98       0\n",
       "99       1\n",
       "\n",
       "[100 rows x 1 columns]"
      ]
     },
     "execution_count": 664,
     "metadata": {},
     "output_type": "execute_result"
    }
   ],
   "source": [
    "lca_df = pd.read_csv('./Image_based_lca/mvlca2_save.txt', names = raters + ['C1', 'C2', 'Answer', 'ID'], delimiter = \"\\s+\")\n",
    "lca_df['Answer'].replace({1:1, 2: 0}, inplace=True)\n",
    "lca_df = lca_df[['Answer']].astype(int)\n",
    "lca_df.to_csv(f'./constructed/image-based_mvlca_2.csv', index=None)\n",
    "pd.read_csv(f'./constructed/image-based_mvlca_2.csv')\n",
    "lca_df"
   ]
  },
  {
   "cell_type": "code",
   "execution_count": 666,
   "metadata": {
    "collapsed": true,
    "jupyter": {
     "outputs_hidden": true
    }
   },
   "outputs": [
    {
     "data": {
      "text/html": [
       "<div>\n",
       "<style scoped>\n",
       "    .dataframe tbody tr th:only-of-type {\n",
       "        vertical-align: middle;\n",
       "    }\n",
       "\n",
       "    .dataframe tbody tr th {\n",
       "        vertical-align: top;\n",
       "    }\n",
       "\n",
       "    .dataframe thead th {\n",
       "        text-align: right;\n",
       "    }\n",
       "</style>\n",
       "<table border=\"1\" class=\"dataframe\">\n",
       "  <thead>\n",
       "    <tr style=\"text-align: right;\">\n",
       "      <th></th>\n",
       "      <th>Answer</th>\n",
       "    </tr>\n",
       "  </thead>\n",
       "  <tbody>\n",
       "    <tr>\n",
       "      <th>0</th>\n",
       "      <td>1</td>\n",
       "    </tr>\n",
       "    <tr>\n",
       "      <th>1</th>\n",
       "      <td>0</td>\n",
       "    </tr>\n",
       "    <tr>\n",
       "      <th>2</th>\n",
       "      <td>0</td>\n",
       "    </tr>\n",
       "    <tr>\n",
       "      <th>3</th>\n",
       "      <td>0</td>\n",
       "    </tr>\n",
       "    <tr>\n",
       "      <th>4</th>\n",
       "      <td>1</td>\n",
       "    </tr>\n",
       "    <tr>\n",
       "      <th>...</th>\n",
       "      <td>...</td>\n",
       "    </tr>\n",
       "    <tr>\n",
       "      <th>95</th>\n",
       "      <td>0</td>\n",
       "    </tr>\n",
       "    <tr>\n",
       "      <th>96</th>\n",
       "      <td>1</td>\n",
       "    </tr>\n",
       "    <tr>\n",
       "      <th>97</th>\n",
       "      <td>1</td>\n",
       "    </tr>\n",
       "    <tr>\n",
       "      <th>98</th>\n",
       "      <td>0</td>\n",
       "    </tr>\n",
       "    <tr>\n",
       "      <th>99</th>\n",
       "      <td>1</td>\n",
       "    </tr>\n",
       "  </tbody>\n",
       "</table>\n",
       "<p>100 rows × 1 columns</p>\n",
       "</div>"
      ],
      "text/plain": [
       "    Answer\n",
       "0        1\n",
       "1        0\n",
       "2        0\n",
       "3        0\n",
       "4        1\n",
       "..     ...\n",
       "95       0\n",
       "96       1\n",
       "97       1\n",
       "98       0\n",
       "99       1\n",
       "\n",
       "[100 rows x 1 columns]"
      ]
     },
     "execution_count": 666,
     "metadata": {},
     "output_type": "execute_result"
    }
   ],
   "source": [
    "lca_df = pd.read_csv('./Image_based_lca/mvlca3_save.txt', names = raters + ['C1', 'C2', 'C3', 'Answer', 'ID'], delimiter = \"\\s+\")\n",
    "lca_df['Answer'].replace({1:1, 2: 1, 3:0}, inplace=True)\n",
    "lca_df = lca_df[['Answer']].astype(int)\n",
    "lca_df.to_csv(f'./constructed/image-based_mvlca_3.csv', index=None)\n",
    "lca_df = pd.read_csv(f'./constructed/image-based_mvlca_3.csv')\n",
    "lca_df"
   ]
  },
  {
   "cell_type": "markdown",
   "metadata": {},
   "source": [
    "## Accuracy"
   ]
  },
  {
   "cell_type": "markdown",
   "metadata": {},
   "source": [
    "### Individual"
   ]
  },
  {
   "cell_type": "code",
   "execution_count": 638,
   "metadata": {},
   "outputs": [
    {
     "name": "stdout",
     "output_type": "stream",
     "text": [
      "TP is 35\n",
      "TN is 47\n",
      "FP is 3\n",
      "FN is 15\n",
      "accuracy: 0.82\n",
      "cohen kappa: 0.64\n"
     ]
    }
   ],
   "source": [
    "ct_answer = pd.read_csv(f'./constructed/image-based_CT.csv')['CT answer']\n",
    "indiv_answer = pd.read_csv(f'./constructed/image-based_1_majority_votes.csv')['1vote4']\n",
    "TPTNFPFN(indiv_answer,ct_answer)\n",
    "print(f'accuracy: {accuracy(ct_answer,indiv_answer)}')\n",
    "print(f'cohen kappa: {metrics.cohen_kappa_score(indiv_answer, ct_answer)}')"
   ]
  },
  {
   "cell_type": "markdown",
   "metadata": {},
   "source": [
    "### MV"
   ]
  },
  {
   "cell_type": "code",
   "execution_count": 649,
   "metadata": {},
   "outputs": [
    {
     "name": "stdout",
     "output_type": "stream",
     "text": [
      "TP is 35\n",
      "TN is 42\n",
      "FP is 8\n",
      "FN is 15\n",
      "accuracy: 0.77\n",
      "cohen kappa: 0.54\n"
     ]
    }
   ],
   "source": [
    "ct_answer = pd.read_csv(f'./constructed/image-based_CT.csv')['CT answer']\n",
    "mv_answer = pd.read_csv(f'./constructed/image-based_1_majority_votes.csv')['1vote1']\n",
    "TPTNFPFN(mv_answer,ct_answer)\n",
    "print(f'accuracy: {accuracy(mv_answer,ct_answer)}')\n",
    "print(f'cohen kappa: {metrics.cohen_kappa_score(mv_answer, ct_answer)}')"
   ]
  },
  {
   "cell_type": "markdown",
   "metadata": {},
   "source": [
    "### Consensus"
   ]
  },
  {
   "cell_type": "code",
   "execution_count": 264,
   "metadata": {},
   "outputs": [
    {
     "name": "stdout",
     "output_type": "stream",
     "text": [
      "TP is 31\n",
      "TN is 50\n",
      "FP is 0\n",
      "FN is 19\n",
      "accuracy: 0.81\n",
      "cohen kappa: 0.62\n"
     ]
    }
   ],
   "source": [
    "ct_answer = pd.read_csv(f'./constructed/image-based_CT.csv')['CT answer']\n",
    "cons_answer = pd.read_csv(f'./constructed/image-based_consensus2.csv')['Answer']\n",
    "TPTNFPFN(cons_answer,ct_answer)\n",
    "print(f'accuracy: {accuracy(ct_answer,cons_answer)}')\n",
    "print(f'cohen kappa: {metrics.cohen_kappa_score(cons_answer, ct_answer)}')"
   ]
  },
  {
   "cell_type": "code",
   "execution_count": 650,
   "metadata": {},
   "outputs": [
    {
     "name": "stdout",
     "output_type": "stream",
     "text": [
      "TP is 30\n",
      "TN is 49\n",
      "FP is 1\n",
      "FN is 20\n",
      "accuracy: 0.79\n",
      "cohen kappa: 0.5800000000000001\n"
     ]
    }
   ],
   "source": [
    "ct_answer = pd.read_csv(f'./constructed/image-based_CT.csv')['CT answer']\n",
    "cons_answer = pd.read_csv(f'./constructed/image-based_consensus3.csv')['Answer']\n",
    "TPTNFPFN(cons_answer,ct_answer)\n",
    "print(f'accuracy: {accuracy(ct_answer,cons_answer)}')\n",
    "print(f'cohen kappa: {metrics.cohen_kappa_score(cons_answer, ct_answer)}')"
   ]
  },
  {
   "cell_type": "markdown",
   "metadata": {},
   "source": [
    "### LCA"
   ]
  },
  {
   "cell_type": "code",
   "execution_count": 651,
   "metadata": {},
   "outputs": [
    {
     "name": "stdout",
     "output_type": "stream",
     "text": [
      "TP is 36\n",
      "TN is 50\n",
      "FP is 0\n",
      "FN is 14\n",
      "accuracy: 0.86\n",
      "cohen kappa: 0.72\n"
     ]
    }
   ],
   "source": [
    "ct_answer = pd.read_csv(f'./constructed/image-based_CT.csv')['CT answer']\n",
    "lca_answer = pd.read_csv(f'./constructed/image-based_lca_2.csv')['Answer']\n",
    "TPTNFPFN(lca_answer,ct_answer)\n",
    "print(f'accuracy: {accuracy(ct_answer,lca_answer)}')\n",
    "print(f'cohen kappa: {metrics.cohen_kappa_score(lca_answer, ct_answer)}')"
   ]
  },
  {
   "cell_type": "code",
   "execution_count": 652,
   "metadata": {},
   "outputs": [
    {
     "name": "stdout",
     "output_type": "stream",
     "text": [
      "TP is 37\n",
      "TN is 50\n",
      "FP is 0\n",
      "FN is 13\n",
      "accuracy: 0.87\n",
      "cohen kappa: 0.74\n"
     ]
    }
   ],
   "source": [
    "ct_answer = pd.read_csv(f'./constructed/image-based_CT.csv')['CT answer']\n",
    "lca_answer = pd.read_csv(f'./constructed/image-based_lca_3.csv')['Answer']\n",
    "TPTNFPFN(lca_answer,ct_answer)\n",
    "print(f'accuracy: {accuracy(ct_answer,lca_answer)}')\n",
    "print(f'cohen kappa: {metrics.cohen_kappa_score(lca_answer, ct_answer)}')"
   ]
  },
  {
   "cell_type": "markdown",
   "metadata": {},
   "source": [
    "### MV-LCA"
   ]
  },
  {
   "cell_type": "code",
   "execution_count": 660,
   "metadata": {},
   "outputs": [
    {
     "name": "stdout",
     "output_type": "stream",
     "text": [
      "TP is 36\n",
      "TN is 50\n",
      "FP is 0\n",
      "FN is 14\n",
      "accuracy: 0.86\n",
      "cohen kappa: 0.72\n"
     ]
    }
   ],
   "source": [
    "ct_answer = pd.read_csv(f'./constructed/image-based_CT.csv')['CT answer']\n",
    "mvlca_answer = pd.read_csv(f'./constructed/image-based_mvlca_2.csv')['Answer']\n",
    "TPTNFPFN(mvlca_answer,ct_answer)\n",
    "print(f'accuracy: {accuracy(ct_answer,mvlca_answer)}')\n",
    "print(f'cohen kappa: {metrics.cohen_kappa_score(mvlca_answer, ct_answer)}')"
   ]
  },
  {
   "cell_type": "code",
   "execution_count": 661,
   "metadata": {},
   "outputs": [
    {
     "name": "stdout",
     "output_type": "stream",
     "text": [
      "TP is 36\n",
      "TN is 50\n",
      "FP is 0\n",
      "FN is 14\n",
      "accuracy: 0.86\n",
      "cohen kappa: 0.72\n"
     ]
    }
   ],
   "source": [
    "ct_answer = pd.read_csv(f'./constructed/image-based_CT.csv')['CT answer']\n",
    "mvlca_answer = pd.read_csv(f'./constructed/image-based_mvlca_3.csv')['Answer']\n",
    "TPTNFPFN(mvlca_answer,ct_answer)\n",
    "print(f'accuracy: {accuracy(ct_answer,mvlca_answer)}')\n",
    "print(f'cohen kappa: {metrics.cohen_kappa_score(mvlca_answer, ct_answer)}')"
   ]
  },
  {
   "cell_type": "markdown",
   "metadata": {},
   "source": [
    "# Lesion-based"
   ]
  },
  {
   "cell_type": "code",
   "execution_count": 272,
   "metadata": {},
   "outputs": [
    {
     "data": {
      "text/html": [
       "<div>\n",
       "<style scoped>\n",
       "    .dataframe tbody tr th:only-of-type {\n",
       "        vertical-align: middle;\n",
       "    }\n",
       "\n",
       "    .dataframe tbody tr th {\n",
       "        vertical-align: top;\n",
       "    }\n",
       "\n",
       "    .dataframe thead th {\n",
       "        text-align: right;\n",
       "    }\n",
       "</style>\n",
       "<table border=\"1\" class=\"dataframe\">\n",
       "  <thead>\n",
       "    <tr style=\"text-align: right;\">\n",
       "      <th></th>\n",
       "      <th>배포용 순서 1</th>\n",
       "      <th>No.</th>\n",
       "    </tr>\n",
       "  </thead>\n",
       "  <tbody>\n",
       "    <tr>\n",
       "      <th>0</th>\n",
       "      <td>1</td>\n",
       "      <td>1</td>\n",
       "    </tr>\n",
       "    <tr>\n",
       "      <th>1</th>\n",
       "      <td>2</td>\n",
       "      <td>2</td>\n",
       "    </tr>\n",
       "    <tr>\n",
       "      <th>2</th>\n",
       "      <td>3</td>\n",
       "      <td>3</td>\n",
       "    </tr>\n",
       "    <tr>\n",
       "      <th>3</th>\n",
       "      <td>4</td>\n",
       "      <td>4</td>\n",
       "    </tr>\n",
       "    <tr>\n",
       "      <th>4</th>\n",
       "      <td>7</td>\n",
       "      <td>5</td>\n",
       "    </tr>\n",
       "    <tr>\n",
       "      <th>...</th>\n",
       "      <td>...</td>\n",
       "      <td>...</td>\n",
       "    </tr>\n",
       "    <tr>\n",
       "      <th>95</th>\n",
       "      <td>114</td>\n",
       "      <td>96</td>\n",
       "    </tr>\n",
       "    <tr>\n",
       "      <th>96</th>\n",
       "      <td>116</td>\n",
       "      <td>97</td>\n",
       "    </tr>\n",
       "    <tr>\n",
       "      <th>97</th>\n",
       "      <td>117</td>\n",
       "      <td>98</td>\n",
       "    </tr>\n",
       "    <tr>\n",
       "      <th>98</th>\n",
       "      <td>118</td>\n",
       "      <td>99</td>\n",
       "    </tr>\n",
       "    <tr>\n",
       "      <th>99</th>\n",
       "      <td>120</td>\n",
       "      <td>100</td>\n",
       "    </tr>\n",
       "  </tbody>\n",
       "</table>\n",
       "<p>100 rows × 2 columns</p>\n",
       "</div>"
      ],
      "text/plain": [
       "    배포용 순서 1  No.\n",
       "0          1    1\n",
       "1          2    2\n",
       "2          3    3\n",
       "3          4    4\n",
       "4          7    5\n",
       "..       ...  ...\n",
       "95       114   96\n",
       "96       116   97\n",
       "97       117   98\n",
       "98       118   99\n",
       "99       120  100\n",
       "\n",
       "[100 rows x 2 columns]"
      ]
     },
     "execution_count": 272,
     "metadata": {},
     "output_type": "execute_result"
    }
   ],
   "source": [
    "df = pd.read_excel(\"./Image_based_data/Per_lesion.xlsx\", engine='openpyxl')\n",
    "delete_case = np.array(df['제외번호 case ID'])[:20].astype(int)\n",
    "case_map = df[['배포용 순서 1', 'No.']][:100].astype(int)\n",
    "\n",
    "delete_case\n",
    "case_map"
   ]
  },
  {
   "cell_type": "code",
   "execution_count": 273,
   "metadata": {},
   "outputs": [],
   "source": [
    "def map(i):\n",
    "    if i not in list(case_map['배포용 순서 1']):\n",
    "        print(f'{i} is not in case_map')\n",
    "    idx = list(case_map['배포용 순서 1']).index(i)\n",
    "    \n",
    "    return case_map['No.'][idx]    "
   ]
  },
  {
   "cell_type": "markdown",
   "metadata": {},
   "source": [
    "## CT answer"
   ]
  },
  {
   "cell_type": "code",
   "execution_count": 274,
   "metadata": {},
   "outputs": [],
   "source": [
    "def boxreform(box):\n",
    "    if box == 0: return 0\n",
    "    else:\n",
    "        coor = np.array([0,0,0,0])\n",
    "        coor[0] += int(box.split('-')[0][1:-1].split(',')[0])\n",
    "        coor[1] += int(box.split('-')[0][1:-1].split(',')[1])\n",
    "        coor[2] += int(box.split('-')[1][1:-1].split(',')[0])\n",
    "        coor[3] += int(box.split('-')[1][1:-1].split(',')[1])\n",
    "        return coor"
   ]
  },
  {
   "cell_type": "code",
   "execution_count": 275,
   "metadata": {},
   "outputs": [],
   "source": [
    "ct = pd.read_csv(f'./Lesion_based_data/CT_answer.csv')\n",
    "ct = ct[['DB_PatientId', '2D_maskpos']]\n",
    "ct = ct.sort_values(by=['DB_PatientId'])\n",
    "# result = result[~result.DB_PatientId.isin(delete_case)]\n",
    "ct = ct.reset_index(drop=True)\n",
    "# result['DB_PatientId'] = [map(i) for i in result['DB_PatientId']]\n",
    "ct = ct.fillna(0)\n",
    "\n",
    "new_mask_lst = []\n",
    "for mask in ct['2D_maskpos']:\n",
    "    new_mask_lst.append(boxreform(mask))\n",
    "ct = ct[['DB_PatientId']]\n",
    "ct['mask'] = new_mask_lst\n",
    "ct.to_csv(f'./constructed/lesion-based_CT.csv', index=None)"
   ]
  },
  {
   "cell_type": "markdown",
   "metadata": {},
   "source": [
    "## Consensus 2"
   ]
  },
  {
   "cell_type": "code",
   "execution_count": 294,
   "metadata": {},
   "outputs": [],
   "source": [
    "cons2 = pd.read_csv(f'./Lesion_based_data/Consensus2.csv')\n",
    "cons2 = cons2.sort_values(by=['DB_PatientId'])\n",
    "cons2 = cons2[['DB_PatientId','2D_maskpos']].fillna(0)\n",
    "\n",
    "coor_lst = []\n",
    "for x in cons2['2D_maskpos']:\n",
    "    if x == 0: coor_lst.append(0)\n",
    "    else:\n",
    "        coor = np.array([int(x.split('-')[0][1:-1].split(',')[0])\n",
    "                        ,int(x.split('-')[0][1:-1].split(',')[1])\n",
    "                        ,int(x.split('-')[1][1:-1].split(',')[0])\n",
    "                        ,int(x.split('-')[1][1:-1].split(',')[1])])\n",
    "        coor_lst.append(coor)\n",
    "\n",
    "cons2['mask'] = coor_lst\n",
    "cons2 = cons2[['DB_PatientId', 'mask']]\n",
    "cons2.to_csv(f'./constructed/lesion-based_consensus2.csv', index=None)\n",
    "# cons2"
   ]
  },
  {
   "cell_type": "markdown",
   "metadata": {},
   "source": [
    "## Consensus 3"
   ]
  },
  {
   "cell_type": "code",
   "execution_count": 277,
   "metadata": {},
   "outputs": [],
   "source": [
    "cons3 = pd.read_csv(f'./Lesion_based_data/Consensus3.csv')\n",
    "cons3 = cons3.sort_values(by=['DB_PatientId'])\n",
    "cons3 = cons3[['DB_PatientId','2D_maskpos']].fillna(0)\n",
    "\n",
    "coor_lst = []\n",
    "for x in cons3['2D_maskpos']:\n",
    "    if x == 0: coor_lst.append(0)\n",
    "    else:\n",
    "        coor = np.array([int(x.split('-')[0][1:-1].split(',')[0])\n",
    "                        ,int(x.split('-')[0][1:-1].split(',')[1])\n",
    "                        ,int(x.split('-')[1][1:-1].split(',')[0])\n",
    "                        ,int(x.split('-')[1][1:-1].split(',')[1])])\n",
    "        coor_lst.append(coor)\n",
    "\n",
    "cons3['mask'] = coor_lst\n",
    "cons3 = cons3[['DB_PatientId', 'mask']]\n",
    "cons3.to_csv(f'./constructed/lesion-based_consensus3.csv', index=None)\n",
    "# cons3"
   ]
  },
  {
   "cell_type": "markdown",
   "metadata": {},
   "source": [
    "## Majority Vote _ Preprocessing -- average mask"
   ]
  },
  {
   "cell_type": "code",
   "execution_count": 278,
   "metadata": {},
   "outputs": [],
   "source": [
    "# 1    2    3    4    5    6    7    8    9    10\n",
    "# R11, R14, R15, R16, R20, R21, R23, R26, R28, R29\n",
    "\n",
    "raters = ['R11', 'R14', 'R15', 'R16', 'R20', 'R21', 'R23', 'R26', 'R28', 'R29']"
   ]
  },
  {
   "cell_type": "code",
   "execution_count": 279,
   "metadata": {},
   "outputs": [],
   "source": [
    "def get_dataset(rater):\n",
    "    dataset = pd.read_csv(f'./Lesion_based_data/{rater}_1.csv')\n",
    "    dataset = dataset.sort_values(by=['DB_PatientId'])\n",
    "    dataset = dataset[~dataset.DB_PatientId.isin(delete_case)]\n",
    "    dataset = dataset.reset_index(drop=True)\n",
    "    dataset[f'{rater}'] = 1\n",
    "#     dataset[f'{rater}'] = [0 if str(mask) == 'nan' else 1 for mask in list(dataset['2D__maskpos'])]\n",
    "    return dataset[['DB_PatientId', '2D__Lesion_Index', '2D__maskpos', f'{rater}']]"
   ]
  },
  {
   "cell_type": "code",
   "execution_count": 280,
   "metadata": {},
   "outputs": [],
   "source": [
    "# 확인\n",
    "\n",
    "# df = get_dataset(raters[0])\n",
    "\n",
    "# df\n",
    "\n",
    "# len(df[df['2D__Lesion_Index'].isin([None])]) # 0개 detect한 case 수\n",
    "# len(df[df['2D__Lesion_Index'].isin([1])]) # 1개 detect한 case 수\n",
    "# df[~df['2D__Lesion_Index'].isin([None, 1])] # 그 이상 detect한 cases"
   ]
  },
  {
   "cell_type": "code",
   "execution_count": 281,
   "metadata": {},
   "outputs": [
    {
     "data": {
      "text/plain": [
       "1029"
      ]
     },
     "execution_count": 281,
     "metadata": {},
     "output_type": "execute_result"
    }
   ],
   "source": [
    "sum([len(get_dataset(rater)) for rater in raters])"
   ]
  },
  {
   "cell_type": "code",
   "execution_count": 282,
   "metadata": {},
   "outputs": [],
   "source": [
    "full_df = pd.concat([get_dataset(rater) for rater in raters])\n",
    "full_df = full_df.sort_values(by=['DB_PatientId', '2D__maskpos'])\n",
    "\n",
    "full_df = full_df.fillna(0)\n",
    "for rater in raters:\n",
    "#     full_df[rater] = full_df[rater].fillna(0)\n",
    "    full_df[rater] = full_df[rater].astype(int)\n",
    "    \n",
    "full_df = full_df.groupby(['DB_PatientId', '2D__maskpos']).aggregate({rater:'sum' for rater in raters})\n",
    "full_df = full_df.reset_index() #,'2D__Lesion_Index'\n",
    "full_df['DB_PatientId'] = [map(i) for i in full_df['DB_PatientId']]\n",
    "full_df['MaskId'] = list(range(len(full_df)))\n",
    "# full_df[:20]\n",
    "# full_df"
   ]
  },
  {
   "cell_type": "code",
   "execution_count": 283,
   "metadata": {},
   "outputs": [],
   "source": [
    "def IoU(a,b): #a, b strings of shape '(1707,924,0)-(1959,1237,1)'    \n",
    "    if a == 0 or b == 0:\n",
    "        return 0\n",
    "    \n",
    "    else:\n",
    "        A = np.array([a.split('-')[0][1:-1].split(',')[0],\n",
    "             a.split('-')[0][1:-1].split(',')[1],\n",
    "             a.split('-')[1][1:-1].split(',')[0],\n",
    "             a.split('-')[1][1:-1].split(',')[1]]).astype(int)\n",
    "        B = np.array([b.split('-')[0][1:-1].split(',')[0],\n",
    "             b.split('-')[0][1:-1].split(',')[1],\n",
    "             b.split('-')[1][1:-1].split(',')[0],\n",
    "             b.split('-')[1][1:-1].split(',')[1]]).astype(int)\n",
    "\n",
    "        # A = (x1, y1, x2, y2)\n",
    "        A_area = (A[2] - A[0] + 1) * (A[3] - A[1] + 1)\n",
    "        B_area = (B[2] - B[0] + 1) * (B[3] - B[1] + 1)\n",
    "\n",
    "        # find intersection box\n",
    "        x1 = max(A[0], B[0])\n",
    "        y1 = max(A[1], B[1])\n",
    "        x2 = min(A[2], B[2])\n",
    "        y2 = min(A[3], B[3])\n",
    "\n",
    "        # compute the width and height of the intersection\n",
    "        w = max(0, x2 - x1 + 1)\n",
    "        h = max(0, y2 - y1 + 1)\n",
    "\n",
    "        inter = w * h\n",
    "        iou = inter / (A_area + B_area - inter)\n",
    "\n",
    "        return iou"
   ]
  },
  {
   "cell_type": "code",
   "execution_count": 284,
   "metadata": {},
   "outputs": [
    {
     "data": {
      "text/plain": [
       "0.6819674446523781"
      ]
     },
     "execution_count": 284,
     "metadata": {},
     "output_type": "execute_result"
    }
   ],
   "source": [
    "IoU(full_df['2D__maskpos'][4],full_df['2D__maskpos'][5])"
   ]
  },
  {
   "cell_type": "code",
   "execution_count": 285,
   "metadata": {},
   "outputs": [
    {
     "name": "stderr",
     "output_type": "stream",
     "text": [
      "/usr/local/lib/python3.6/dist-packages/ipykernel_launcher.py:16: SettingWithCopyWarning: \n",
      "A value is trying to be set on a copy of a slice from a DataFrame\n",
      "\n",
      "See the caveats in the documentation: https://pandas.pydata.org/pandas-docs/stable/user_guide/indexing.html#returning-a-view-versus-a-copy\n",
      "  app.launch_new_instance()\n",
      "/usr/local/lib/python3.6/dist-packages/ipykernel_launcher.py:11: SettingWithCopyWarning: \n",
      "A value is trying to be set on a copy of a slice from a DataFrame\n",
      "\n",
      "See the caveats in the documentation: https://pandas.pydata.org/pandas-docs/stable/user_guide/indexing.html#returning-a-view-versus-a-copy\n",
      "  # This is added back by InteractiveShellApp.init_path()\n"
     ]
    }
   ],
   "source": [
    "lesion_df = full_df.copy()\n",
    "lesion_df['lesion'] = 0\n",
    "lesion_df = lesion_df.sort_values(by=['DB_PatientId', '2D__maskpos'])\n",
    "\n",
    "# 바로 위 row mask와 iou가 0.3이상인 lesion들은 같은 lesion번호를 갖도록 lesion column 설정\n",
    "i = 0\n",
    "for r in range(1,len(lesion_df)):\n",
    "    indication = 0\n",
    "    for j in range(list(lesion_df['DB_PatientId']).index(lesion_df['DB_PatientId'][r]),r):\n",
    "        if IoU(lesion_df['2D__maskpos'][j],lesion_df['2D__maskpos'][r]) > 0.01:\n",
    "            lesion_df['lesion'][r] = lesion_df['lesion'][j]\n",
    "            indication = 1\n",
    "        \n",
    "    if indication == 0: # 겹치는 box가 없음\n",
    "        i += 1\n",
    "        lesion_df['lesion'][r] = i\n",
    "    \n",
    "\n",
    "# i = 0\n",
    "# for r in range(1,len(lesion_df)):\n",
    "#     if IoU(lesion_df['2D__maskpos'][r-1],lesion_df['2D__maskpos'][r]) < 0.01:\n",
    "#         i += 1    \n",
    "#     lesion_df['lesion'][r] = i"
   ]
  },
  {
   "cell_type": "code",
   "execution_count": 286,
   "metadata": {},
   "outputs": [],
   "source": [
    "def mask_avg(rowlist):\n",
    "    if lesion_df['2D__maskpos'][rowlist[0]] == 0: return 0\n",
    "    else:\n",
    "        coor = np.array([0,0,0,0])\n",
    "        for row in rowlist:\n",
    "            a = lesion_df['2D__maskpos'][row]\n",
    "            coor[0] += int(a.split('-')[0][1:-1].split(',')[0])\n",
    "            coor[1] += int(a.split('-')[0][1:-1].split(',')[1])\n",
    "            coor[2] += int(a.split('-')[1][1:-1].split(',')[0])\n",
    "            coor[3] += int(a.split('-')[1][1:-1].split(',')[1])\n",
    "        coor = coor/len(rowlist)\n",
    "        return np.round(coor,2)"
   ]
  },
  {
   "cell_type": "code",
   "execution_count": 287,
   "metadata": {},
   "outputs": [],
   "source": [
    "# 같은 번호의 lesion mask들의 average mask 연산.\n",
    "\n",
    "avg_masks = []\n",
    "for row in range(len(lesion_df)):\n",
    "    avg_masks.append(mask_avg(list(np.where(np.array(lesion_df['lesion']) == lesion_df['lesion'][row])[0])))\n",
    "lesion_df['avg_mask'] = avg_masks"
   ]
  },
  {
   "cell_type": "code",
   "execution_count": 288,
   "metadata": {},
   "outputs": [],
   "source": [
    "# 같은 lesion mask들끼리 row 합치기\n",
    "agg = {rater:'sum' for rater in raters}\n",
    "agg['avg_mask'] = 'first'\n",
    "\n",
    "lesion_df = lesion_df.groupby(['DB_PatientId', 'lesion']).aggregate(agg)"
   ]
  },
  {
   "cell_type": "code",
   "execution_count": 289,
   "metadata": {
    "scrolled": true
   },
   "outputs": [
    {
     "name": "stdout",
     "output_type": "stream",
     "text": [
      "                     R11  R14  R15  R16  R20  R21  R23  R26  R28  R29                             avg_mask\n",
      "DB_PatientId lesion                                                                                       \n",
      "1            0         0    1    0    0    0    0    0    0    0    0                                    0\n",
      "             1         1    0    1    1    1    1    1    1    1    1  [1691.67, 976.44, 1933.33, 1204.22]\n",
      "             2         1    0    0    0    0    0    0    0    0    0      [892.0, 1460.0, 1131.0, 1710.0]\n",
      "2            3         1    0    0    1    1    1    1    0    1    1                                    0\n",
      "             4         0    0    1    0    0    0    0    1    0    0      [979.5, 1240.5, 1148.5, 1417.0]\n",
      "             5         0    1    0    0    0    0    0    0    0    0       [568.0, 1249.0, 770.0, 1460.0]\n",
      "3            6         1    1    1    1    1    1    1    1    1    1                                    0\n",
      "4            7         1    1    0    1    1    1    1    1    1    1                                    0\n",
      "             8         0    0    1    0    0    0    0    0    0    0     [2110.0, 1623.0, 2287.0, 1778.0]\n",
      "5            9         0    0    0    0    0    0    1    0    0    0                                    0\n",
      "             10        1    0    1    1    1    0    0    1    1    1  [1420.57, 1499.71, 1761.43, 2002.0]\n",
      "             11        0    1    0    0    0    1    0    0    0    0       [481.5, 1565.0, 765.0, 1823.0]\n",
      "6            12        0    0    0    1    0    1    1    0    0    0                                    0\n",
      "             13        0    0    0    0    0    0    0    0    0    1     [1224.0, 1456.0, 1372.0, 1686.0]\n",
      "             14        0    1    0    0    0    0    0    0    0    0       [1687.0, 449.0, 1866.0, 614.0]\n",
      "             15        1    0    1    0    1    0    0    1    1    1  [699.17, 1841.67, 1070.67, 2289.83]\n",
      "7            16        1    1    1    1    1    1    1    1    1    1                                    0\n",
      "8            17        1    1    1    1    0    1    1    1    1    1                                    0\n",
      "             18        0    0    0    0    1    0    0    0    0    0     [2214.0, 1272.0, 2479.0, 1834.0]\n",
      "9            19        1    1    1    1    1    1    1    1    1    0                                    0\n",
      "             20        0    0    0    0    0    0    0    0    0    1        [986.0, 364.0, 1061.0, 580.0]\n",
      "10           21        1    1    1    1    1    1    1    1    1    1                                    0\n",
      "11           22        0    1    1    0    0    0    1    0    0    0                                    0\n",
      "             23        1    0    0    1    1    1    0    1    1    1     [532.14, 313.43, 743.43, 468.57]\n",
      "12           24        1    1    1    1    1    1    1    1    1    1                                    0\n",
      "13           25        1    1    1    1    1    1    1    1    1    0                                    0\n",
      "             26        0    0    0    0    0    0    0    0    0    1       [1081.0, 293.0, 1279.0, 465.0]\n",
      "14           27        1    1    1    1    1    1    1    1    1    1      [1793.3, 919.1, 2073.1, 1298.7]\n",
      "15           28        1    1    1    1    1    1    1    1    1    1       [388.2, 1106.6, 524.8, 1252.2]\n",
      "             29        0    0    0    0    0    0    0    0    1    0       [371.0, 1364.0, 469.0, 1458.0]\n",
      "16           30        1    1    1    1    1    1    1    1    1    1                                    0\n",
      "17           31        1    1    1    1    1    1    1    1    1    1                                    0\n",
      "18           32        1    0    1    1    0    1    1    0    1    1                                    0\n",
      "             33        0    1    0    0    0    0    0    1    0    0      [1463.5, 865.5, 1605.5, 1007.0]\n",
      "             34        0    0    0    0    1    0    0    0    0    0      [892.0, 1228.0, 1019.0, 1367.0]\n",
      "19           35        1    1    1    1    1    1    1    1    1    1                                    0\n",
      "20           36        1    1    0    1    1    1    1    1    1    1                                    0\n",
      "             37        0    0    1    0    0    0    0    0    0    0      [908.0, 2021.0, 1015.0, 2120.0]\n",
      "21           38        0    0    0    0    0    0    0    0    0    1     [1641.0, 1394.0, 2002.0, 1868.0]\n",
      "             39        1    1    1    1    1    1    1    1    1    1       [1835.5, 622.9, 1967.7, 766.2]\n",
      "             40        0    0    0    0    0    0    0    1    0    0        [707.0, 496.0, 1030.0, 775.0]\n",
      "22           41        1    0    0    1    1    1    1    1    1    1                                    0\n",
      "             42        0    1    1    0    0    0    0    0    0    0       [469.0, 1118.0, 610.5, 1301.5]\n",
      "23           43        1    1    1    1    1    1    1    0    1    1                                    0\n",
      "             44        0    0    0    0    0    0    0    1    0    0      [1608.0, 892.0, 1810.0, 1079.0]\n",
      "24           45        1    1    0    0    0    0    1    0    0    0                                    0\n",
      "             46        0    0    1    1    1    1    0    0    1    1     [434.0, 1054.67, 605.83, 1194.5]\n",
      "             47        0    0    0    0    0    0    0    1    0    0       [503.0, 1574.0, 819.0, 1776.0]\n",
      "25           48        0    0    0    0    0    1    0    0    0    0                                    0\n",
      "             49        1    1    1    1    1    0    1    1    1    1     [518.33, 264.22, 724.33, 447.33]\n",
      "26           50        1    1    1    1    1    1    1    1    1    0                                    0\n",
      "             51        0    0    0    0    0    0    0    0    0    1       [1681.0, 620.0, 1822.0, 724.0]\n",
      "27           52        0    0    0    0    0    1    0    1    0    0                                    0\n",
      "             53        0    0    1    0    0    0    0    0    0    0         [376.0, 507.0, 452.0, 593.0]\n",
      "             54        1    1    0    1    1    0    1    0    1    1    [585.71, 891.14, 746.14, 1089.43]\n",
      "             55        0    0    0    0    0    0    0    0    0    1         [678.0, 459.0, 759.0, 558.0]\n",
      "28           56        0    0    1    1    0    0    1    0    0    0                                    0\n",
      "             57        1    1    0    0    1    1    0    1    1    1   [1076.86, 596.29, 1356.57, 958.71]\n",
      "29           58        1    1    1    1    1    1    1    1    1    1                                    0\n",
      "30           59        1    1    1    1    0    1    1    1    1    1                                    0\n",
      "             60        0    0    0    0    1    0    0    0    0    0     [1015.0, 1583.0, 1179.0, 1914.0]\n",
      "31           61        1    1    1    1    1    1    1    0    1    1                                    0\n",
      "             62        0    0    0    0    0    0    0    1    0    0      [902.0, 1528.0, 1219.0, 1891.0]\n",
      "32           63        1    0    1    1    1    1    1    1    1    1                                    0\n",
      "             64        0    1    0    0    0    0    0    0    0    0       [492.0, 1464.0, 883.0, 1783.0]\n",
      "33           65        1    1    1    1    1    1    1    1    1    0                                    0\n",
      "             66        0    0    0    0    0    0    0    0    0    1         [700.0, 225.0, 767.0, 273.0]\n",
      "34           67        0    0    0    1    1    1    1    1    1    1                                    0\n",
      "             68        1    1    1    0    0    0    0    0    0    0    [349.33, 1193.0, 480.33, 1322.33]\n",
      "35           69        1    1    1    1    1    1    1    1    1    1                                    0\n",
      "36           70        1    1    1    1    1    1    1    0    1    0                                    0\n",
      "             71        0    0    0    0    0    0    0    1    0    0      [1451.0, 990.0, 1862.0, 1350.0]\n",
      "             72        0    0    0    0    0    0    0    0    0    1       [447.0, 2113.0, 619.0, 2285.0]\n",
      "37           73        0    1    1    1    1    1    1    1    1    1                                    0\n",
      "             74        1    0    0    0    0    0    0    0    0    0      [775.0, 1367.0, 1035.0, 1567.0]\n",
      "38           75        0    0    0    0    0    1    1    1    0    0                                    0\n",
      "             76        1    0    1    1    1    0    0    0    1    1   [1832.5, 1063.33, 1978.5, 1211.17]\n",
      "             77        0    1    0    0    0    0    0    0    1    0       [614.0, 1588.0, 767.5, 1708.5]\n",
      "39           78        1    1    1    1    1    1    1    1    1    1                                    0\n",
      "40           79        1    0    0    1    0    0    1    0    0    0                                    0\n",
      "             80        0    1    1    0    1    1    0    1    1    1  [2308.29, 1702.43, 2405.86, 1822.0]\n",
      "             81        0    0    0    0    0    0    0    1    0    0       [432.0, 1861.0, 601.0, 1988.0]\n",
      "41           82        1    0    0    0    0    0    0    0    0    0                                    0\n",
      "             83        0    1    1    1    1    1    1    1    1    1     [878.33, 702.0, 1067.33, 878.78]\n",
      "             84        0    0    0    0    0    1    0    0    0    0      [999.0, 1284.0, 1281.0, 1589.0]\n",
      "42           85        1    1    1    1    1    1    1    1    1    1                                    0\n",
      "43           86        1    0    0    1    0    1    0    1    1    0                                    0\n",
      "             87        0    1    1    0    1    0    1    0    0    1     [1593.0, 1839.2, 1762.0, 1981.0]\n",
      "44           88        1    0    1    1    1    1    1    0    1    0                                    0\n",
      "             89        0    0    0    0    0    0    0    1    0    0     [1350.0, 1161.0, 1713.0, 1579.0]\n",
      "             90        0    0    0    0    0    0    0    0    0    1      [833.0, 1848.0, 1016.0, 2185.0]\n",
      "             91        0    1    0    0    0    0    0    0    0    0        [882.0, 508.0, 1124.0, 787.0]\n",
      "45           92        1    1    1    1    1    1    1    1    1    1      [1952.6, 728.7, 2258.0, 1007.6]\n",
      "46           93        1    1    1    1    1    1    1    1    1    1                                    0\n",
      "47           94        1    1    1    1    1    1    1    1    1    1                                    0\n",
      "48           95        0    0    1    1    1    1    1    0    1    1                                    0\n",
      "             96        0    0    0    0    0    0    0    1    0    0      [1055.0, 831.0, 1293.0, 1131.0]\n",
      "             97        1    1    0    0    0    0    0    1    0    0   [931.67, 1329.67, 1223.33, 1717.0]\n",
      "49           98        0    0    1    1    0    1    1    0    0    1                                    0\n",
      "             99        1    0    0    0    0    0    0    0    0    0     [1027.0, 1349.0, 1318.0, 1798.0]\n",
      "             100       0    1    0    0    1    0    0    1    1    0      [807.5, 949.25, 963.25, 1082.0]\n",
      "50           101       0    0    1    1    1    1    1    1    1    1                                    0\n",
      "             102       1    0    0    0    0    0    0    0    0    0      [1505.0, 912.0, 1894.0, 1267.0]\n",
      "             103       0    1    0    0    0    0    0    0    0    0       [388.0, 1518.0, 716.0, 1770.0]\n",
      "51           104       0    0    0    1    0    0    1    0    0    0                                    0\n",
      "             105       1    1    1    0    1    1    0    1    1    1  [1038.25, 640.25, 1285.38, 1014.25]\n",
      "52           106       1    1    1    1    1    1    1    1    1    1                                    0\n",
      "53           107       1    1    1    1    1    1    1    0    1    1                                    0\n",
      "             108       0    0    0    0    0    0    0    1    0    0     [1371.0, 1015.0, 1566.0, 1227.0]\n",
      "54           109       1    1    1    1    1    1    1    1    1    1         [558.7, 723.8, 712.5, 860.8]\n",
      "             110       0    0    0    0    0    0    0    1    0    0       [692.0, 1530.0, 855.0, 1728.0]\n",
      "55           111       1    1    1    1    1    1    1    1    1    1       [533.6, 1333.9, 709.0, 1478.2]\n",
      "56           112       1    1    1    1    1    1    1    1    1    1                                    0\n",
      "57           113       1    1    1    1    1    1    1    1    1    1                                    0\n",
      "58           114       1    0    1    1    1    1    1    1    1    1                                    0\n",
      "             115       0    1    0    0    0    0    0    0    0    0       [368.0, 1600.0, 630.0, 1820.0]\n",
      "59           116       1    1    1    1    1    1    1    1    1    1       [2030.8, 743.3, 2219.8, 977.8]\n",
      "60           117       0    1    0    1    0    1    0    1    1    0                                    0\n",
      "             118       0    0    0    0    0    0    1    0    0    1       [1195.5, 746.5, 1354.0, 890.5]\n",
      "             119       1    0    1    0    1    0    1    0    0    0    [608.5, 1214.75, 724.25, 1319.75]\n",
      "61           120       1    1    1    1    1    1    1    1    1    1                                    0\n",
      "62           121       1    0    1    1    1    1    1    0    1    1                                    0\n",
      "             122       0    0    0    0    0    0    0    1    0    0     [1981.0, 2001.0, 2110.0, 2141.0]\n",
      "             123       0    1    0    0    0    0    0    1    0    0       [672.5, 1571.5, 790.5, 1744.0]\n",
      "63           124       1    1    1    1    1    1    1    1    1    1                                    0\n",
      "64           125       0    0    1    1    1    1    0    0    0    0                                    0\n",
      "             126       0    1    0    0    0    0    2    1    1    1  [1086.67, 948.83, 1281.33, 1158.83]\n",
      "             127       1    0    0    0    0    0    1    0    0    0         [646.0, 789.0, 872.0, 983.0]\n",
      "65           128       1    1    1    1    1    1    1    0    1    1                                    0\n",
      "             129       0    0    0    0    0    0    0    1    0    0     [1686.0, 1704.0, 1877.0, 1901.0]\n",
      "66           130       1    1    1    1    1    1    1    1    1    1                                    0\n",
      "67           131       0    1    0    0    0    1    1    0    0    1                                    0\n",
      "             132       1    0    1    1    2    0    0    1    1    0   [771.71, 1514.0, 1016.29, 1789.14]\n",
      "68           133       1    1    1    1    1    1    1    1    1    1                                    0\n",
      "69           134       1    0    1    1    1    1    1    0    1    1                                    0\n",
      "             135       0    0    0    0    0    0    0    1    0    0       [1383.0, 462.0, 1548.0, 620.0]\n",
      "             136       0    1    0    0    0    0    0    0    0    0        [983.0, 635.0, 1144.0, 876.0]\n",
      "70           137       1    1    1    1    1    1    1    1    1    1                                    0\n",
      "71           138       1    0    1    1    1    0    1    1    1    1                                    0\n",
      "             139       0    0    0    0    0    1    0    0    0    0         [540.0, 562.0, 752.0, 718.0]\n",
      "             140       0    1    0    0    0    0    0    0    0    0       [697.0, 1086.0, 940.0, 1264.0]\n",
      "72           141       1    1    1    1    1    1    2    1    1    1  [1943.55, 1543.27, 2189.73, 1777.0]\n",
      "73           142       1    1    0    1    0    0    0    1    0    1                                    0\n",
      "             143       0    0    1    0    0    1    1    0    1    0    [1381.0, 594.75, 1507.75, 742.75]\n",
      "             144       0    0    0    0    1    0    0    0    0    0       [736.0, 1000.0, 862.0, 1105.0]\n",
      "74           145       1    1    1    1    1    1    1    1    1    1        [810.1, 660.7, 1019.6, 873.4]\n",
      "75           146       1    1    1    1    1    1    1    0    1    1                                    0\n",
      "             147       0    0    0    0    0    0    0    1    0    0        [873.0, 649.0, 1001.0, 743.0]\n",
      "76           148       1    1    1    1    1    1    1    1    1    1       [520.7, 1415.1, 751.6, 1714.1]\n",
      "77           149       0    1    0    1    0    1    1    0    1    1                                    0\n",
      "             150       0    0    1    0    1    0    0    1    0    0     [445.67, 2064.0, 884.0, 2381.33]\n",
      "             151       1    0    0    0    0    0    0    0    0    0      [907.0, 1298.0, 1434.0, 1789.0]\n",
      "78           152       1    1    1    1    1    1    1    0    1    1                                    0\n",
      "             153       0    0    0    0    0    0    0    1    0    0     [1926.0, 1507.0, 2127.0, 1647.0]\n",
      "79           154       1    1    1    1    1    1    1    1    1    1         [421.9, 837.6, 548.3, 966.6]\n",
      "80           155       1    0    0    1    1    1    1    1    1    1                                    0\n",
      "             156       0    1    1    0    0    0    0    0    0    0     [1627.5, 1365.5, 1676.5, 1422.5]\n",
      "81           157       1    0    1    1    1    1    1    1    1    1                                    0\n",
      "             158       0    1    0    0    0    0    0    0    0    0       [1150.0, 436.0, 1338.0, 658.0]\n",
      "82           159       1    1    1    1    1    1    1    1    1    1                                    0\n",
      "83           160       1    1    0    1    1    1    1    1    1    1                                    0\n",
      "             161       0    0    1    0    0    0    0    0    0    0     [2038.0, 1491.0, 2160.0, 1661.0]\n",
      "84           162       0    1    1    1    1    1    1    0    1    1                                    0\n",
      "             163       1    0    0    0    0    0    0    1    0    0     [1112.5, 1492.5, 1402.0, 1885.5]\n",
      "85           164       1    1    1    1    1    1    1    1    1    1                                    0\n",
      "86           165       1    1    1    1    1    1    1    1    1    1                                    0\n",
      "87           166       1    1    1    1    1    1    1    1    1    1                                    0\n",
      "88           167       0    0    1    1    0    1    0    0    0    0                                    0\n",
      "             168       0    0    0    0    0    0    0    1    0    0      [1664.0, 932.0, 1703.0, 1011.0]\n",
      "             169       1    1    0    0    1    0    1    0    1    1       [696.83, 231.5, 938.17, 419.5]\n",
      "             170       0    0    0    0    0    0    0    1    0    0         [600.0, 737.0, 658.0, 789.0]\n",
      "             171       0    0    0    0    0    0    0    1    0    0       [611.0, 1103.0, 701.0, 1182.0]\n",
      "89           172       1    1    1    1    1    1    1    0    1    1                                    0\n",
      "             173       0    0    0    0    0    0    0    1    0    0      [819.0, 1266.0, 1034.0, 1513.0]\n",
      "90           174       1    1    1    1    1    1    1    1    1    1                                    0\n",
      "91           175       1    1    1    1    1    1    1    1    1    1                                    0\n",
      "92           176       0    0    0    0    0    0    0    0    0    1       [1634.0, 658.0, 1831.0, 772.0]\n",
      "             177       0    0    0    1    0    0    0    0    0    0       [535.0, 1714.0, 709.0, 1891.0]\n",
      "             178       1    1    1    1    1    1    1    1    1    1         [644.8, 678.4, 810.8, 861.9]\n",
      "             179       1    0    0    0    0    0    0    0    0    0      [833.0, 1539.0, 1080.0, 1792.0]\n",
      "93           180       1    1    1    1    1    1    1    1    1    1        [574.0, 843.5, 812.8, 1036.8]\n",
      "94           181       0    1    1    1    1    1    1    1    1    1                                    0\n",
      "             182       1    0    0    0    0    0    0    0    0    0      [740.0, 1051.0, 1254.0, 1589.0]\n",
      "95           183       0    0    0    0    0    0    0    0    0    1                                    0\n",
      "             184       1    1    1    1    1    1    1    1    1    0      [654.0, 655.78, 809.33, 783.33]\n",
      "96           185       1    1    1    1    1    1    1    0    1    1                                    0\n",
      "             186       0    0    0    0    0    0    0    1    0    0        [908.0, 764.0, 1066.0, 991.0]\n",
      "97           187       0    0    0    1    0    0    0    0    0    0                                    0\n",
      "             188       1    1    1    0    1    1    1    0    1    1   [1942.38, 1894.62, 2096.5, 2060.0]\n",
      "             189       0    0    0    0    0    0    0    1    0    0       [719.0, 1111.0, 771.0, 1236.0]\n",
      "98           190       0    1    0    1    0    1    0    0    0    0                                    0\n",
      "             191       0    0    0    0    0    0    0    0    0    1       [1819.0, 755.0, 1951.0, 888.0]\n",
      "             192       1    0    1    0    1    0    1    1    0    1   [2031.33, 480.83, 2191.83, 635.17]\n",
      "             193       0    0    0    0    0    0    0    0    1    1     [2254.0, 1719.5, 2463.5, 1962.0]\n",
      "             194       0    0    0    0    0    0    1    0    0    0     [2373.0, 2183.0, 2495.0, 2318.0]\n",
      "             195       0    0    0    0    1    0    0    0    0    1       [580.0, 1535.5, 804.5, 1759.0]\n",
      "             196       0    0    0    0    0    0    0    0    0    1       [603.0, 1251.0, 779.0, 1427.0]\n",
      "             197       0    0    0    0    0    0    0    0    0    1      [799.0, 1402.0, 1020.0, 1579.0]\n",
      "99           198       1    1    1    1    1    1    1    1    1    1                                    0\n",
      "100          199       1    1    1    1    1    1    1    1    1    1      [1794.2, 997.9, 2070.3, 1242.4]\n"
     ]
    }
   ],
   "source": [
    "print(lesion_df.to_string())"
   ]
  },
  {
   "cell_type": "code",
   "execution_count": 290,
   "metadata": {},
   "outputs": [
    {
     "data": {
      "text/html": [
       "<div>\n",
       "<style scoped>\n",
       "    .dataframe tbody tr th:only-of-type {\n",
       "        vertical-align: middle;\n",
       "    }\n",
       "\n",
       "    .dataframe tbody tr th {\n",
       "        vertical-align: top;\n",
       "    }\n",
       "\n",
       "    .dataframe thead th {\n",
       "        text-align: right;\n",
       "    }\n",
       "</style>\n",
       "<table border=\"1\" class=\"dataframe\">\n",
       "  <thead>\n",
       "    <tr style=\"text-align: right;\">\n",
       "      <th></th>\n",
       "      <th></th>\n",
       "      <th>R11</th>\n",
       "      <th>R14</th>\n",
       "      <th>R15</th>\n",
       "      <th>R16</th>\n",
       "      <th>R20</th>\n",
       "      <th>R21</th>\n",
       "      <th>R23</th>\n",
       "      <th>R26</th>\n",
       "      <th>R28</th>\n",
       "      <th>R29</th>\n",
       "      <th>avg_mask</th>\n",
       "    </tr>\n",
       "    <tr>\n",
       "      <th>DB_PatientId</th>\n",
       "      <th>lesion</th>\n",
       "      <th></th>\n",
       "      <th></th>\n",
       "      <th></th>\n",
       "      <th></th>\n",
       "      <th></th>\n",
       "      <th></th>\n",
       "      <th></th>\n",
       "      <th></th>\n",
       "      <th></th>\n",
       "      <th></th>\n",
       "      <th></th>\n",
       "    </tr>\n",
       "  </thead>\n",
       "  <tbody>\n",
       "    <tr>\n",
       "      <th rowspan=\"3\" valign=\"top\">1</th>\n",
       "      <th>0</th>\n",
       "      <td>0</td>\n",
       "      <td>1</td>\n",
       "      <td>0</td>\n",
       "      <td>0</td>\n",
       "      <td>0</td>\n",
       "      <td>0</td>\n",
       "      <td>0</td>\n",
       "      <td>0</td>\n",
       "      <td>0</td>\n",
       "      <td>0</td>\n",
       "      <td>0</td>\n",
       "    </tr>\n",
       "    <tr>\n",
       "      <th>1</th>\n",
       "      <td>1</td>\n",
       "      <td>0</td>\n",
       "      <td>1</td>\n",
       "      <td>1</td>\n",
       "      <td>1</td>\n",
       "      <td>1</td>\n",
       "      <td>1</td>\n",
       "      <td>1</td>\n",
       "      <td>1</td>\n",
       "      <td>1</td>\n",
       "      <td>[1691.67, 976.44, 1933.33, 1204.22]</td>\n",
       "    </tr>\n",
       "    <tr>\n",
       "      <th>2</th>\n",
       "      <td>1</td>\n",
       "      <td>0</td>\n",
       "      <td>0</td>\n",
       "      <td>0</td>\n",
       "      <td>0</td>\n",
       "      <td>0</td>\n",
       "      <td>0</td>\n",
       "      <td>0</td>\n",
       "      <td>0</td>\n",
       "      <td>0</td>\n",
       "      <td>[892.0, 1460.0, 1131.0, 1710.0]</td>\n",
       "    </tr>\n",
       "    <tr>\n",
       "      <th rowspan=\"2\" valign=\"top\">2</th>\n",
       "      <th>3</th>\n",
       "      <td>1</td>\n",
       "      <td>0</td>\n",
       "      <td>0</td>\n",
       "      <td>1</td>\n",
       "      <td>1</td>\n",
       "      <td>1</td>\n",
       "      <td>1</td>\n",
       "      <td>0</td>\n",
       "      <td>1</td>\n",
       "      <td>1</td>\n",
       "      <td>0</td>\n",
       "    </tr>\n",
       "    <tr>\n",
       "      <th>4</th>\n",
       "      <td>0</td>\n",
       "      <td>0</td>\n",
       "      <td>1</td>\n",
       "      <td>0</td>\n",
       "      <td>0</td>\n",
       "      <td>0</td>\n",
       "      <td>0</td>\n",
       "      <td>1</td>\n",
       "      <td>0</td>\n",
       "      <td>0</td>\n",
       "      <td>[979.5, 1240.5, 1148.5, 1417.0]</td>\n",
       "    </tr>\n",
       "    <tr>\n",
       "      <th>...</th>\n",
       "      <th>...</th>\n",
       "      <td>...</td>\n",
       "      <td>...</td>\n",
       "      <td>...</td>\n",
       "      <td>...</td>\n",
       "      <td>...</td>\n",
       "      <td>...</td>\n",
       "      <td>...</td>\n",
       "      <td>...</td>\n",
       "      <td>...</td>\n",
       "      <td>...</td>\n",
       "      <td>...</td>\n",
       "    </tr>\n",
       "    <tr>\n",
       "      <th rowspan=\"3\" valign=\"top\">98</th>\n",
       "      <th>195</th>\n",
       "      <td>0</td>\n",
       "      <td>0</td>\n",
       "      <td>0</td>\n",
       "      <td>0</td>\n",
       "      <td>1</td>\n",
       "      <td>0</td>\n",
       "      <td>0</td>\n",
       "      <td>0</td>\n",
       "      <td>0</td>\n",
       "      <td>1</td>\n",
       "      <td>[580.0, 1535.5, 804.5, 1759.0]</td>\n",
       "    </tr>\n",
       "    <tr>\n",
       "      <th>196</th>\n",
       "      <td>0</td>\n",
       "      <td>0</td>\n",
       "      <td>0</td>\n",
       "      <td>0</td>\n",
       "      <td>0</td>\n",
       "      <td>0</td>\n",
       "      <td>0</td>\n",
       "      <td>0</td>\n",
       "      <td>0</td>\n",
       "      <td>1</td>\n",
       "      <td>[603.0, 1251.0, 779.0, 1427.0]</td>\n",
       "    </tr>\n",
       "    <tr>\n",
       "      <th>197</th>\n",
       "      <td>0</td>\n",
       "      <td>0</td>\n",
       "      <td>0</td>\n",
       "      <td>0</td>\n",
       "      <td>0</td>\n",
       "      <td>0</td>\n",
       "      <td>0</td>\n",
       "      <td>0</td>\n",
       "      <td>0</td>\n",
       "      <td>1</td>\n",
       "      <td>[799.0, 1402.0, 1020.0, 1579.0]</td>\n",
       "    </tr>\n",
       "    <tr>\n",
       "      <th>99</th>\n",
       "      <th>198</th>\n",
       "      <td>1</td>\n",
       "      <td>1</td>\n",
       "      <td>1</td>\n",
       "      <td>1</td>\n",
       "      <td>1</td>\n",
       "      <td>1</td>\n",
       "      <td>1</td>\n",
       "      <td>1</td>\n",
       "      <td>1</td>\n",
       "      <td>1</td>\n",
       "      <td>0</td>\n",
       "    </tr>\n",
       "    <tr>\n",
       "      <th>100</th>\n",
       "      <th>199</th>\n",
       "      <td>1</td>\n",
       "      <td>1</td>\n",
       "      <td>1</td>\n",
       "      <td>1</td>\n",
       "      <td>1</td>\n",
       "      <td>1</td>\n",
       "      <td>1</td>\n",
       "      <td>1</td>\n",
       "      <td>1</td>\n",
       "      <td>1</td>\n",
       "      <td>[1794.2, 997.9, 2070.3, 1242.4]</td>\n",
       "    </tr>\n",
       "  </tbody>\n",
       "</table>\n",
       "<p>200 rows × 11 columns</p>\n",
       "</div>"
      ],
      "text/plain": [
       "                     R11  R14  R15  R16  R20  R21  R23  R26  R28  R29  \\\n",
       "DB_PatientId lesion                                                     \n",
       "1            0         0    1    0    0    0    0    0    0    0    0   \n",
       "             1         1    0    1    1    1    1    1    1    1    1   \n",
       "             2         1    0    0    0    0    0    0    0    0    0   \n",
       "2            3         1    0    0    1    1    1    1    0    1    1   \n",
       "             4         0    0    1    0    0    0    0    1    0    0   \n",
       "...                  ...  ...  ...  ...  ...  ...  ...  ...  ...  ...   \n",
       "98           195       0    0    0    0    1    0    0    0    0    1   \n",
       "             196       0    0    0    0    0    0    0    0    0    1   \n",
       "             197       0    0    0    0    0    0    0    0    0    1   \n",
       "99           198       1    1    1    1    1    1    1    1    1    1   \n",
       "100          199       1    1    1    1    1    1    1    1    1    1   \n",
       "\n",
       "                                                avg_mask  \n",
       "DB_PatientId lesion                                       \n",
       "1            0                                         0  \n",
       "             1       [1691.67, 976.44, 1933.33, 1204.22]  \n",
       "             2           [892.0, 1460.0, 1131.0, 1710.0]  \n",
       "2            3                                         0  \n",
       "             4           [979.5, 1240.5, 1148.5, 1417.0]  \n",
       "...                                                  ...  \n",
       "98           195          [580.0, 1535.5, 804.5, 1759.0]  \n",
       "             196          [603.0, 1251.0, 779.0, 1427.0]  \n",
       "             197         [799.0, 1402.0, 1020.0, 1579.0]  \n",
       "99           198                                       0  \n",
       "100          199         [1794.2, 997.9, 2070.3, 1242.4]  \n",
       "\n",
       "[200 rows x 11 columns]"
      ]
     },
     "execution_count": 290,
     "metadata": {},
     "output_type": "execute_result"
    }
   ],
   "source": [
    "lesion_df"
   ]
  },
  {
   "cell_type": "code",
   "execution_count": 569,
   "metadata": {},
   "outputs": [],
   "source": [
    "lesion_df = lesion_df.reset_index()\n",
    "lesion_df.to_csv('./Lesion_based_data/lesion_df.csv', index = False)"
   ]
  },
  {
   "cell_type": "markdown",
   "metadata": {},
   "source": [
    "## Majority Voting"
   ]
  },
  {
   "cell_type": "code",
   "execution_count": 90,
   "metadata": {},
   "outputs": [],
   "source": [
    "lesion_df = pd.read_csv('./Lesion_based_data/lesion_df.csv')"
   ]
  },
  {
   "cell_type": "code",
   "execution_count": 91,
   "metadata": {},
   "outputs": [],
   "source": [
    "agg = {rater:'sum' for rater in raters}\n",
    "agg['avg_mask'] = 'first'\n",
    "\n",
    "lesion_df = lesion_df.groupby(['DB_PatientId', 'lesion']).aggregate(agg)"
   ]
  },
  {
   "cell_type": "code",
   "execution_count": 92,
   "metadata": {},
   "outputs": [
    {
     "data": {
      "text/html": [
       "<div>\n",
       "<style scoped>\n",
       "    .dataframe tbody tr th:only-of-type {\n",
       "        vertical-align: middle;\n",
       "    }\n",
       "\n",
       "    .dataframe tbody tr th {\n",
       "        vertical-align: top;\n",
       "    }\n",
       "\n",
       "    .dataframe thead th {\n",
       "        text-align: right;\n",
       "    }\n",
       "</style>\n",
       "<table border=\"1\" class=\"dataframe\">\n",
       "  <thead>\n",
       "    <tr style=\"text-align: right;\">\n",
       "      <th></th>\n",
       "      <th></th>\n",
       "      <th>R11</th>\n",
       "      <th>R14</th>\n",
       "      <th>R15</th>\n",
       "      <th>R16</th>\n",
       "      <th>R20</th>\n",
       "      <th>R21</th>\n",
       "      <th>R23</th>\n",
       "      <th>R26</th>\n",
       "      <th>R28</th>\n",
       "      <th>R29</th>\n",
       "      <th>avg_mask</th>\n",
       "    </tr>\n",
       "    <tr>\n",
       "      <th>DB_PatientId</th>\n",
       "      <th>lesion</th>\n",
       "      <th></th>\n",
       "      <th></th>\n",
       "      <th></th>\n",
       "      <th></th>\n",
       "      <th></th>\n",
       "      <th></th>\n",
       "      <th></th>\n",
       "      <th></th>\n",
       "      <th></th>\n",
       "      <th></th>\n",
       "      <th></th>\n",
       "    </tr>\n",
       "  </thead>\n",
       "  <tbody>\n",
       "    <tr>\n",
       "      <th rowspan=\"3\" valign=\"top\">1</th>\n",
       "      <th>0</th>\n",
       "      <td>0</td>\n",
       "      <td>1</td>\n",
       "      <td>0</td>\n",
       "      <td>0</td>\n",
       "      <td>0</td>\n",
       "      <td>0</td>\n",
       "      <td>0</td>\n",
       "      <td>0</td>\n",
       "      <td>0</td>\n",
       "      <td>0</td>\n",
       "      <td>0</td>\n",
       "    </tr>\n",
       "    <tr>\n",
       "      <th>1</th>\n",
       "      <td>1</td>\n",
       "      <td>0</td>\n",
       "      <td>1</td>\n",
       "      <td>1</td>\n",
       "      <td>1</td>\n",
       "      <td>1</td>\n",
       "      <td>1</td>\n",
       "      <td>1</td>\n",
       "      <td>1</td>\n",
       "      <td>1</td>\n",
       "      <td>[1691.67  976.44 1933.33 1204.22]</td>\n",
       "    </tr>\n",
       "    <tr>\n",
       "      <th>2</th>\n",
       "      <td>1</td>\n",
       "      <td>0</td>\n",
       "      <td>0</td>\n",
       "      <td>0</td>\n",
       "      <td>0</td>\n",
       "      <td>0</td>\n",
       "      <td>0</td>\n",
       "      <td>0</td>\n",
       "      <td>0</td>\n",
       "      <td>0</td>\n",
       "      <td>[ 892. 1460. 1131. 1710.]</td>\n",
       "    </tr>\n",
       "    <tr>\n",
       "      <th rowspan=\"2\" valign=\"top\">2</th>\n",
       "      <th>3</th>\n",
       "      <td>1</td>\n",
       "      <td>0</td>\n",
       "      <td>0</td>\n",
       "      <td>1</td>\n",
       "      <td>1</td>\n",
       "      <td>1</td>\n",
       "      <td>1</td>\n",
       "      <td>0</td>\n",
       "      <td>1</td>\n",
       "      <td>1</td>\n",
       "      <td>0</td>\n",
       "    </tr>\n",
       "    <tr>\n",
       "      <th>4</th>\n",
       "      <td>0</td>\n",
       "      <td>0</td>\n",
       "      <td>1</td>\n",
       "      <td>0</td>\n",
       "      <td>0</td>\n",
       "      <td>0</td>\n",
       "      <td>0</td>\n",
       "      <td>1</td>\n",
       "      <td>0</td>\n",
       "      <td>0</td>\n",
       "      <td>[ 979.5 1240.5 1148.5 1417. ]</td>\n",
       "    </tr>\n",
       "    <tr>\n",
       "      <th>...</th>\n",
       "      <th>...</th>\n",
       "      <td>...</td>\n",
       "      <td>...</td>\n",
       "      <td>...</td>\n",
       "      <td>...</td>\n",
       "      <td>...</td>\n",
       "      <td>...</td>\n",
       "      <td>...</td>\n",
       "      <td>...</td>\n",
       "      <td>...</td>\n",
       "      <td>...</td>\n",
       "      <td>...</td>\n",
       "    </tr>\n",
       "    <tr>\n",
       "      <th rowspan=\"3\" valign=\"top\">98</th>\n",
       "      <th>195</th>\n",
       "      <td>0</td>\n",
       "      <td>0</td>\n",
       "      <td>0</td>\n",
       "      <td>0</td>\n",
       "      <td>1</td>\n",
       "      <td>0</td>\n",
       "      <td>0</td>\n",
       "      <td>0</td>\n",
       "      <td>0</td>\n",
       "      <td>1</td>\n",
       "      <td>[ 580.  1535.5  804.5 1759. ]</td>\n",
       "    </tr>\n",
       "    <tr>\n",
       "      <th>196</th>\n",
       "      <td>0</td>\n",
       "      <td>0</td>\n",
       "      <td>0</td>\n",
       "      <td>0</td>\n",
       "      <td>0</td>\n",
       "      <td>0</td>\n",
       "      <td>0</td>\n",
       "      <td>0</td>\n",
       "      <td>0</td>\n",
       "      <td>1</td>\n",
       "      <td>[ 603. 1251.  779. 1427.]</td>\n",
       "    </tr>\n",
       "    <tr>\n",
       "      <th>197</th>\n",
       "      <td>0</td>\n",
       "      <td>0</td>\n",
       "      <td>0</td>\n",
       "      <td>0</td>\n",
       "      <td>0</td>\n",
       "      <td>0</td>\n",
       "      <td>0</td>\n",
       "      <td>0</td>\n",
       "      <td>0</td>\n",
       "      <td>1</td>\n",
       "      <td>[ 799. 1402. 1020. 1579.]</td>\n",
       "    </tr>\n",
       "    <tr>\n",
       "      <th>99</th>\n",
       "      <th>198</th>\n",
       "      <td>1</td>\n",
       "      <td>1</td>\n",
       "      <td>1</td>\n",
       "      <td>1</td>\n",
       "      <td>1</td>\n",
       "      <td>1</td>\n",
       "      <td>1</td>\n",
       "      <td>1</td>\n",
       "      <td>1</td>\n",
       "      <td>1</td>\n",
       "      <td>0</td>\n",
       "    </tr>\n",
       "    <tr>\n",
       "      <th>100</th>\n",
       "      <th>199</th>\n",
       "      <td>1</td>\n",
       "      <td>1</td>\n",
       "      <td>1</td>\n",
       "      <td>1</td>\n",
       "      <td>1</td>\n",
       "      <td>1</td>\n",
       "      <td>1</td>\n",
       "      <td>1</td>\n",
       "      <td>1</td>\n",
       "      <td>1</td>\n",
       "      <td>[1794.2  997.9 2070.3 1242.4]</td>\n",
       "    </tr>\n",
       "  </tbody>\n",
       "</table>\n",
       "<p>200 rows × 11 columns</p>\n",
       "</div>"
      ],
      "text/plain": [
       "                     R11  R14  R15  R16  R20  R21  R23  R26  R28  R29  \\\n",
       "DB_PatientId lesion                                                     \n",
       "1            0         0    1    0    0    0    0    0    0    0    0   \n",
       "             1         1    0    1    1    1    1    1    1    1    1   \n",
       "             2         1    0    0    0    0    0    0    0    0    0   \n",
       "2            3         1    0    0    1    1    1    1    0    1    1   \n",
       "             4         0    0    1    0    0    0    0    1    0    0   \n",
       "...                  ...  ...  ...  ...  ...  ...  ...  ...  ...  ...   \n",
       "98           195       0    0    0    0    1    0    0    0    0    1   \n",
       "             196       0    0    0    0    0    0    0    0    0    1   \n",
       "             197       0    0    0    0    0    0    0    0    0    1   \n",
       "99           198       1    1    1    1    1    1    1    1    1    1   \n",
       "100          199       1    1    1    1    1    1    1    1    1    1   \n",
       "\n",
       "                                              avg_mask  \n",
       "DB_PatientId lesion                                     \n",
       "1            0                                       0  \n",
       "             1       [1691.67  976.44 1933.33 1204.22]  \n",
       "             2               [ 892. 1460. 1131. 1710.]  \n",
       "2            3                                       0  \n",
       "             4           [ 979.5 1240.5 1148.5 1417. ]  \n",
       "...                                                ...  \n",
       "98           195         [ 580.  1535.5  804.5 1759. ]  \n",
       "             196             [ 603. 1251.  779. 1427.]  \n",
       "             197             [ 799. 1402. 1020. 1579.]  \n",
       "99           198                                     0  \n",
       "100          199         [1794.2  997.9 2070.3 1242.4]  \n",
       "\n",
       "[200 rows x 11 columns]"
      ]
     },
     "execution_count": 92,
     "metadata": {},
     "output_type": "execute_result"
    }
   ],
   "source": [
    "lesion_df"
   ]
  },
  {
   "cell_type": "code",
   "execution_count": 66,
   "metadata": {},
   "outputs": [],
   "source": [
    "# vote 수 계산\n",
    "lesion_df['votes'] = list(lesion_df[raters].sum(axis=1))\n",
    "# lesion_df = lesion_df.reset_index() #,'2D__Lesion_Index'"
   ]
  },
  {
   "cell_type": "code",
   "execution_count": 67,
   "metadata": {},
   "outputs": [],
   "source": [
    "def kmajority_votes_df(k, df):\n",
    "    majority_votes = {}\n",
    "    for idx, selected_raters in enumerate(list(combinations(raters,k))):\n",
    "        selected_raters = list(selected_raters)\n",
    "        majority_vote = np.array(df[selected_raters].mode(axis=1)[0]).astype(int)\n",
    "        majority_votes[f'{k}vote{idx}']=majority_vote\n",
    "    return majority_votes"
   ]
  },
  {
   "cell_type": "code",
   "execution_count": 68,
   "metadata": {
    "scrolled": true
   },
   "outputs": [
    {
     "data": {
      "text/plain": [
       "{'9vote0': array([0, 1, 0, 1, 0, 0, 1, 1, 0, 0, 1, 0, 0, 0, 0, 1, 1, 1, 0, 1, 0, 1,\n",
       "        0, 1, 1, 1, 0, 1, 1, 0, 1, 1, 1, 0, 0, 1, 1, 0, 0, 1, 0, 1, 0, 1,\n",
       "        0, 0, 1, 0, 0, 1, 1, 0, 0, 0, 1, 0, 0, 1, 1, 1, 0, 1, 0, 1, 0, 1,\n",
       "        0, 1, 0, 1, 1, 0, 0, 1, 0, 0, 1, 0, 1, 0, 1, 0, 0, 1, 0, 1, 1, 0,\n",
       "        1, 0, 0, 0, 1, 1, 1, 1, 0, 0, 0, 0, 0, 1, 0, 0, 0, 1, 1, 1, 0, 1,\n",
       "        0, 1, 1, 1, 1, 0, 1, 1, 0, 0, 1, 1, 0, 0, 1, 0, 0, 0, 1, 0, 1, 0,\n",
       "        1, 1, 1, 0, 0, 1, 1, 0, 0, 1, 0, 0, 0, 1, 1, 0, 1, 1, 0, 0, 1, 0,\n",
       "        1, 1, 0, 1, 0, 1, 1, 0, 1, 0, 1, 1, 1, 0, 0, 1, 0, 0, 1, 0, 1, 1,\n",
       "        0, 0, 1, 0, 1, 1, 0, 0, 1, 1, 0, 0, 1, 0, 0, 0, 1, 0, 0, 0, 0, 0,\n",
       "        1, 1]),\n",
       " '9vote1': array([0, 1, 0, 1, 0, 0, 1, 1, 0, 0, 1, 0, 0, 0, 0, 1, 1, 1, 0, 1, 0, 1,\n",
       "        0, 1, 1, 1, 0, 1, 1, 0, 1, 1, 1, 0, 0, 1, 1, 0, 0, 1, 0, 1, 0, 1,\n",
       "        0, 0, 1, 0, 0, 1, 1, 0, 0, 0, 1, 0, 0, 1, 1, 1, 0, 1, 0, 1, 0, 1,\n",
       "        0, 1, 0, 1, 1, 0, 0, 1, 0, 0, 1, 0, 1, 0, 1, 0, 0, 1, 0, 1, 0, 1,\n",
       "        1, 0, 0, 0, 1, 1, 1, 1, 0, 0, 1, 0, 0, 1, 0, 0, 0, 1, 1, 1, 0, 1,\n",
       "        0, 1, 1, 1, 1, 0, 1, 0, 0, 0, 1, 1, 0, 0, 1, 0, 0, 0, 1, 0, 1, 0,\n",
       "        0, 1, 1, 0, 0, 1, 1, 0, 0, 1, 1, 0, 0, 1, 1, 0, 1, 1, 0, 0, 1, 0,\n",
       "        1, 1, 0, 1, 0, 1, 1, 0, 1, 0, 1, 1, 1, 0, 0, 1, 0, 0, 1, 0, 1, 1,\n",
       "        0, 0, 1, 0, 1, 1, 0, 0, 1, 1, 0, 0, 1, 0, 0, 0, 1, 0, 0, 0, 0, 0,\n",
       "        1, 1]),\n",
       " '9vote2': array([0, 1, 0, 1, 0, 0, 1, 1, 0, 0, 1, 0, 0, 0, 0, 1, 1, 1, 0, 1, 0, 1,\n",
       "        0, 1, 1, 1, 0, 1, 1, 0, 1, 1, 1, 0, 0, 1, 1, 0, 0, 1, 0, 1, 0, 1,\n",
       "        0, 0, 1, 0, 0, 1, 1, 0, 0, 0, 1, 0, 0, 1, 1, 1, 0, 1, 0, 1, 0, 1,\n",
       "        0, 1, 0, 1, 1, 0, 0, 1, 0, 0, 1, 0, 1, 0, 1, 0, 0, 1, 0, 1, 0, 1,\n",
       "        1, 0, 0, 0, 1, 1, 1, 1, 0, 0, 1, 0, 0, 1, 0, 0, 0, 1, 1, 1, 0, 1,\n",
       "        0, 1, 1, 1, 1, 0, 1, 0, 0, 0, 1, 1, 0, 0, 1, 0, 0, 0, 1, 0, 1, 0,\n",
       "        0, 1, 1, 0, 0, 1, 1, 0, 0, 1, 0, 0, 0, 1, 1, 0, 1, 1, 0, 0, 1, 0,\n",
       "        1, 1, 0, 1, 0, 1, 1, 0, 1, 0, 1, 1, 1, 0, 0, 1, 0, 0, 1, 0, 1, 1,\n",
       "        0, 0, 1, 0, 1, 1, 0, 0, 1, 1, 0, 0, 1, 0, 0, 0, 1, 0, 0, 0, 0, 0,\n",
       "        1, 1]),\n",
       " '9vote3': array([0, 1, 0, 1, 0, 0, 1, 1, 0, 0, 1, 0, 0, 0, 0, 1, 1, 1, 0, 1, 0, 1,\n",
       "        0, 1, 1, 1, 0, 1, 1, 0, 1, 1, 1, 0, 0, 1, 1, 0, 0, 1, 0, 1, 0, 1,\n",
       "        0, 0, 1, 0, 0, 1, 1, 0, 0, 0, 1, 0, 0, 1, 1, 1, 0, 1, 0, 1, 0, 1,\n",
       "        0, 1, 0, 1, 1, 0, 0, 1, 0, 0, 1, 0, 1, 0, 1, 0, 0, 1, 0, 1, 1, 0,\n",
       "        1, 0, 0, 0, 1, 1, 1, 1, 0, 0, 0, 0, 0, 1, 0, 0, 0, 1, 1, 1, 0, 1,\n",
       "        0, 1, 1, 1, 1, 0, 1, 1, 0, 0, 1, 1, 0, 0, 1, 0, 0, 0, 1, 0, 1, 0,\n",
       "        1, 1, 1, 0, 0, 1, 1, 0, 0, 1, 1, 0, 0, 1, 1, 0, 1, 1, 0, 0, 1, 0,\n",
       "        1, 1, 0, 1, 0, 1, 1, 0, 1, 0, 1, 1, 1, 0, 0, 1, 0, 0, 1, 0, 1, 1,\n",
       "        0, 0, 1, 0, 1, 1, 0, 0, 1, 1, 0, 0, 1, 0, 0, 0, 1, 0, 0, 0, 0, 0,\n",
       "        1, 1]),\n",
       " '9vote4': array([0, 1, 0, 1, 0, 0, 1, 1, 0, 0, 1, 0, 0, 0, 0, 1, 1, 1, 0, 1, 0, 1,\n",
       "        0, 1, 1, 1, 0, 1, 1, 0, 1, 1, 1, 0, 0, 1, 1, 0, 0, 1, 0, 1, 0, 1,\n",
       "        0, 0, 1, 0, 0, 1, 1, 0, 0, 0, 1, 0, 0, 1, 1, 1, 0, 1, 0, 1, 0, 1,\n",
       "        0, 1, 0, 1, 1, 0, 0, 1, 0, 0, 1, 0, 1, 0, 1, 0, 0, 1, 0, 1, 0, 1,\n",
       "        1, 0, 0, 0, 1, 1, 1, 1, 0, 0, 0, 0, 0, 1, 0, 0, 0, 1, 1, 1, 0, 1,\n",
       "        0, 1, 1, 1, 1, 0, 1, 0, 0, 0, 1, 1, 0, 0, 1, 0, 0, 0, 1, 0, 1, 0,\n",
       "        1, 1, 1, 0, 0, 1, 1, 0, 0, 1, 1, 0, 0, 1, 1, 0, 1, 1, 0, 0, 1, 0,\n",
       "        1, 1, 0, 1, 0, 1, 1, 0, 1, 0, 1, 1, 1, 0, 0, 1, 0, 0, 1, 0, 1, 1,\n",
       "        0, 0, 1, 0, 1, 1, 0, 0, 1, 1, 0, 0, 1, 0, 0, 0, 1, 0, 0, 0, 0, 0,\n",
       "        1, 1]),\n",
       " '9vote5': array([0, 1, 0, 1, 0, 0, 1, 1, 0, 0, 1, 0, 0, 0, 0, 1, 1, 1, 0, 1, 0, 1,\n",
       "        0, 1, 1, 1, 0, 1, 1, 0, 1, 1, 1, 0, 0, 1, 1, 0, 0, 1, 0, 1, 0, 1,\n",
       "        0, 0, 1, 0, 0, 1, 1, 0, 0, 0, 1, 0, 0, 1, 1, 1, 0, 1, 0, 1, 0, 1,\n",
       "        0, 1, 0, 1, 1, 0, 0, 1, 0, 0, 1, 0, 1, 0, 1, 0, 0, 1, 0, 1, 1, 0,\n",
       "        1, 0, 0, 0, 1, 1, 1, 1, 0, 0, 1, 0, 0, 1, 0, 0, 0, 1, 1, 1, 0, 1,\n",
       "        0, 1, 1, 1, 1, 0, 1, 1, 0, 0, 1, 1, 0, 0, 1, 0, 0, 0, 1, 0, 1, 0,\n",
       "        1, 1, 1, 0, 0, 1, 1, 0, 0, 1, 1, 0, 0, 1, 1, 0, 1, 1, 0, 0, 1, 0,\n",
       "        1, 1, 0, 1, 0, 1, 1, 0, 1, 0, 1, 1, 1, 0, 0, 1, 0, 0, 1, 0, 1, 1,\n",
       "        0, 0, 1, 0, 1, 1, 0, 0, 1, 1, 0, 0, 1, 0, 0, 0, 1, 0, 0, 0, 0, 0,\n",
       "        1, 1]),\n",
       " '9vote6': array([0, 1, 0, 1, 0, 0, 1, 1, 0, 0, 1, 0, 0, 0, 0, 1, 1, 1, 0, 1, 0, 1,\n",
       "        0, 1, 1, 1, 0, 1, 1, 0, 1, 1, 1, 0, 0, 1, 1, 0, 0, 1, 0, 1, 0, 1,\n",
       "        0, 0, 1, 0, 0, 1, 1, 0, 0, 0, 1, 0, 0, 1, 1, 1, 0, 1, 0, 1, 0, 1,\n",
       "        0, 1, 0, 1, 1, 0, 0, 1, 0, 0, 1, 0, 1, 0, 1, 0, 0, 1, 0, 1, 0, 1,\n",
       "        1, 0, 0, 0, 1, 1, 1, 1, 0, 0, 0, 0, 0, 1, 0, 0, 0, 1, 1, 1, 0, 1,\n",
       "        0, 1, 1, 1, 1, 0, 1, 0, 0, 0, 1, 1, 0, 0, 1, 0, 0, 0, 1, 0, 1, 0,\n",
       "        0, 1, 1, 0, 0, 1, 1, 0, 0, 1, 0, 0, 0, 1, 1, 0, 1, 1, 0, 0, 1, 0,\n",
       "        1, 1, 0, 1, 0, 1, 1, 0, 1, 0, 1, 1, 1, 0, 0, 1, 0, 0, 1, 0, 1, 1,\n",
       "        0, 0, 1, 0, 1, 1, 0, 0, 1, 1, 0, 0, 1, 0, 0, 0, 1, 0, 0, 0, 0, 0,\n",
       "        1, 1]),\n",
       " '9vote7': array([0, 1, 0, 1, 0, 0, 1, 1, 0, 0, 1, 0, 0, 0, 0, 1, 1, 1, 0, 1, 0, 1,\n",
       "        0, 1, 1, 1, 0, 1, 1, 0, 1, 1, 1, 0, 0, 1, 1, 0, 0, 1, 0, 1, 0, 1,\n",
       "        0, 0, 1, 0, 0, 1, 1, 0, 0, 0, 1, 0, 0, 1, 1, 1, 0, 1, 0, 1, 0, 1,\n",
       "        0, 1, 0, 1, 1, 0, 0, 1, 0, 0, 1, 0, 1, 0, 1, 0, 0, 1, 0, 1, 1, 0,\n",
       "        1, 0, 0, 0, 1, 1, 1, 1, 0, 0, 0, 0, 0, 1, 0, 0, 0, 1, 1, 1, 0, 1,\n",
       "        0, 1, 1, 1, 1, 0, 1, 1, 0, 0, 1, 1, 0, 0, 1, 0, 0, 0, 1, 0, 1, 0,\n",
       "        0, 1, 1, 0, 0, 1, 1, 0, 0, 1, 1, 0, 0, 1, 1, 0, 1, 1, 0, 0, 1, 0,\n",
       "        1, 1, 0, 1, 0, 1, 1, 0, 1, 0, 1, 1, 1, 0, 0, 1, 0, 0, 1, 0, 1, 1,\n",
       "        0, 0, 1, 0, 1, 1, 0, 0, 1, 1, 0, 0, 1, 0, 0, 0, 1, 0, 0, 0, 0, 0,\n",
       "        1, 1]),\n",
       " '9vote8': array([0, 1, 0, 1, 0, 0, 1, 1, 0, 0, 1, 0, 0, 0, 0, 1, 1, 1, 0, 1, 0, 1,\n",
       "        0, 1, 1, 1, 0, 1, 1, 0, 1, 1, 1, 0, 0, 1, 1, 0, 0, 1, 0, 1, 0, 1,\n",
       "        0, 0, 1, 0, 0, 1, 1, 0, 0, 0, 1, 0, 0, 1, 1, 1, 0, 1, 0, 1, 0, 1,\n",
       "        0, 1, 0, 1, 1, 0, 0, 1, 0, 0, 1, 0, 1, 0, 1, 0, 0, 1, 0, 1, 1, 0,\n",
       "        1, 0, 0, 0, 1, 1, 1, 1, 0, 0, 1, 0, 0, 1, 0, 0, 0, 1, 1, 1, 0, 1,\n",
       "        0, 1, 1, 1, 1, 0, 1, 0, 0, 0, 1, 1, 0, 0, 1, 0, 0, 0, 1, 0, 1, 0,\n",
       "        1, 1, 1, 0, 0, 1, 1, 0, 0, 1, 0, 0, 0, 1, 1, 0, 1, 1, 0, 0, 1, 0,\n",
       "        1, 1, 0, 1, 0, 1, 1, 0, 1, 0, 1, 1, 1, 0, 0, 1, 0, 0, 1, 0, 1, 1,\n",
       "        0, 0, 1, 0, 1, 1, 0, 0, 1, 1, 0, 0, 1, 0, 0, 0, 1, 0, 0, 0, 0, 0,\n",
       "        1, 1]),\n",
       " '9vote9': array([0, 1, 0, 1, 0, 0, 1, 1, 0, 0, 1, 0, 0, 0, 0, 1, 1, 1, 0, 1, 0, 1,\n",
       "        0, 1, 1, 1, 0, 1, 1, 0, 1, 1, 1, 0, 0, 1, 1, 0, 0, 1, 0, 1, 0, 1,\n",
       "        0, 0, 1, 0, 0, 1, 1, 0, 0, 0, 1, 0, 0, 1, 1, 1, 0, 1, 0, 1, 0, 1,\n",
       "        0, 1, 0, 1, 1, 0, 0, 1, 0, 0, 1, 0, 1, 0, 1, 0, 0, 1, 0, 1, 0, 1,\n",
       "        1, 0, 0, 0, 1, 1, 1, 1, 0, 0, 1, 0, 0, 1, 0, 0, 0, 1, 1, 1, 0, 1,\n",
       "        0, 1, 1, 1, 1, 0, 1, 1, 0, 0, 1, 1, 0, 0, 1, 0, 0, 0, 1, 0, 1, 0,\n",
       "        0, 1, 1, 0, 0, 1, 1, 0, 0, 1, 0, 0, 0, 1, 1, 0, 1, 1, 0, 0, 1, 0,\n",
       "        1, 1, 0, 1, 0, 1, 1, 0, 1, 0, 1, 1, 1, 0, 0, 1, 0, 0, 1, 0, 1, 1,\n",
       "        0, 0, 1, 0, 1, 1, 0, 0, 1, 1, 0, 0, 1, 0, 0, 0, 1, 0, 0, 0, 0, 0,\n",
       "        1, 1])}"
      ]
     },
     "execution_count": 68,
     "metadata": {},
     "output_type": "execute_result"
    }
   ],
   "source": [
    "# 9\n",
    "mv9_dict = kmajority_votes_df(9, lesion_df)\n",
    "mv7_dict = kmajority_votes_df(7, lesion_df)\n",
    "mv5_dict = kmajority_votes_df(5, lesion_df)\n",
    "mv3_dict = kmajority_votes_df(3, lesion_df)\n",
    "mv9_dict"
   ]
  },
  {
   "cell_type": "code",
   "execution_count": 69,
   "metadata": {},
   "outputs": [],
   "source": [
    "# # 가장 높은 vote를 받은 애들만 남기기\n",
    "# max_series = lesion_df.groupby(['DB_PatientId'])['votes'].transform('max') # 각 그룹의 row 개수만큼 max value를 나열한 series\n",
    "# lesion_df = lesion_df[(lesion_df['votes']==max_series)]\n",
    "# lesion_df[40:53]"
   ]
  },
  {
   "cell_type": "code",
   "execution_count": 70,
   "metadata": {
    "scrolled": true
   },
   "outputs": [
    {
     "name": "stdout",
     "output_type": "stream",
     "text": [
      "                     R11  R14  R15  R16  R20  R21  R23  R26  R28  R29                           avg_mask  votes\n",
      "DB_PatientId lesion                                                                                            \n",
      "1            0         0    1    0    0    0    0    0    0    0    0                                  0      1\n",
      "             1         1    0    1    1    1    1    1    1    1    1  [1691.67  976.44 1933.33 1204.22]      9\n",
      "             2         1    0    0    0    0    0    0    0    0    0          [ 892. 1460. 1131. 1710.]      1\n",
      "2            3         1    0    0    1    1    1    1    0    1    1                                  0      7\n",
      "             4         0    0    1    0    0    0    0    1    0    0      [ 979.5 1240.5 1148.5 1417. ]      2\n",
      "             5         0    1    0    0    0    0    0    0    0    0          [ 568. 1249.  770. 1460.]      1\n",
      "3            6         1    1    1    1    1    1    1    1    1    1                                  0     10\n",
      "4            7         1    1    0    1    1    1    1    1    1    1                                  0      9\n",
      "             8         0    0    1    0    0    0    0    0    0    0          [2110. 1623. 2287. 1778.]      1\n",
      "5            9         0    0    0    0    0    0    1    0    0    0                                  0      1\n",
      "             10        1    0    1    1    1    0    0    1    1    1  [1420.57 1499.71 1761.43 2002.  ]      7\n",
      "             11        0    1    0    0    0    1    0    0    0    0      [ 481.5 1565.   765.  1823. ]      2\n",
      "6            12        0    0    0    1    0    1    1    0    0    0                                  0      3\n",
      "             13        0    0    0    0    0    0    0    0    0    1          [1224. 1456. 1372. 1686.]      1\n",
      "             14        0    1    0    0    0    0    0    0    0    0          [1687.  449. 1866.  614.]      1\n",
      "             15        1    0    1    0    1    0    0    1    1    1  [ 699.17 1841.67 1070.67 2289.83]      6\n",
      "7            16        1    1    1    1    1    1    1    1    1    1                                  0     10\n",
      "8            17        1    1    1    1    0    1    1    1    1    1                                  0      9\n",
      "             18        0    0    0    0    1    0    0    0    0    0          [2214. 1272. 2479. 1834.]      1\n",
      "9            19        1    1    1    1    1    1    1    1    1    0                                  0      9\n",
      "             20        0    0    0    0    0    0    0    0    0    1          [ 986.  364. 1061.  580.]      1\n",
      "10           21        1    1    1    1    1    1    1    1    1    1                                  0     10\n",
      "11           22        0    1    1    0    0    0    1    0    0    0                                  0      3\n",
      "             23        1    0    0    1    1    1    0    1    1    1      [532.14 313.43 743.43 468.57]      7\n",
      "12           24        1    1    1    1    1    1    1    1    1    1                                  0     10\n",
      "13           25        1    1    1    1    1    1    1    1    1    0                                  0      9\n",
      "             26        0    0    0    0    0    0    0    0    0    1          [1081.  293. 1279.  465.]      1\n",
      "14           27        1    1    1    1    1    1    1    1    1    1      [1793.3  919.1 2073.1 1298.7]     10\n",
      "15           28        1    1    1    1    1    1    1    1    1    1      [ 388.2 1106.6  524.8 1252.2]     10\n",
      "             29        0    0    0    0    0    0    0    0    1    0          [ 371. 1364.  469. 1458.]      1\n",
      "16           30        1    1    1    1    1    1    1    1    1    1                                  0     10\n",
      "17           31        1    1    1    1    1    1    1    1    1    1                                  0     10\n",
      "18           32        1    0    1    1    0    1    1    0    1    1                                  0      7\n",
      "             33        0    1    0    0    0    0    0    1    0    0      [1463.5  865.5 1605.5 1007. ]      2\n",
      "             34        0    0    0    0    1    0    0    0    0    0          [ 892. 1228. 1019. 1367.]      1\n",
      "19           35        1    1    1    1    1    1    1    1    1    1                                  0     10\n",
      "20           36        1    1    0    1    1    1    1    1    1    1                                  0      9\n",
      "             37        0    0    1    0    0    0    0    0    0    0          [ 908. 2021. 1015. 2120.]      1\n",
      "21           38        0    0    0    0    0    0    0    0    0    1          [1641. 1394. 2002. 1868.]      1\n",
      "             39        1    1    1    1    1    1    1    1    1    1      [1835.5  622.9 1967.7  766.2]     10\n",
      "             40        0    0    0    0    0    0    0    1    0    0          [ 707.  496. 1030.  775.]      1\n",
      "22           41        1    0    0    1    1    1    1    1    1    1                                  0      8\n",
      "             42        0    1    1    0    0    0    0    0    0    0      [ 469.  1118.   610.5 1301.5]      2\n",
      "23           43        1    1    1    1    1    1    1    0    1    1                                  0      9\n",
      "             44        0    0    0    0    0    0    0    1    0    0          [1608.  892. 1810. 1079.]      1\n",
      "24           45        1    1    0    0    0    0    1    0    0    0                                  0      3\n",
      "             46        0    0    1    1    1    1    0    0    1    1  [ 434.   1054.67  605.83 1194.5 ]      6\n",
      "             47        0    0    0    0    0    0    0    1    0    0          [ 503. 1574.  819. 1776.]      1\n",
      "25           48        0    0    0    0    0    1    0    0    0    0                                  0      1\n",
      "             49        1    1    1    1    1    0    1    1    1    1      [518.33 264.22 724.33 447.33]      9\n",
      "26           50        1    1    1    1    1    1    1    1    1    0                                  0      9\n",
      "             51        0    0    0    0    0    0    0    0    0    1          [1681.  620. 1822.  724.]      1\n",
      "27           52        0    0    0    0    0    1    0    1    0    0                                  0      2\n",
      "             53        0    0    1    0    0    0    0    0    0    0              [376. 507. 452. 593.]      1\n",
      "             54        1    1    0    1    1    0    1    0    1    1  [ 585.71  891.14  746.14 1089.43]      7\n",
      "             55        0    0    0    0    0    0    0    0    0    1              [678. 459. 759. 558.]      1\n",
      "28           56        0    0    1    1    0    0    1    0    0    0                                  0      3\n",
      "             57        1    1    0    0    1    1    0    1    1    1  [1076.86  596.29 1356.57  958.71]      7\n",
      "29           58        1    1    1    1    1    1    1    1    1    1                                  0     10\n",
      "30           59        1    1    1    1    0    1    1    1    1    1                                  0      9\n",
      "             60        0    0    0    0    1    0    0    0    0    0          [1015. 1583. 1179. 1914.]      1\n",
      "31           61        1    1    1    1    1    1    1    0    1    1                                  0      9\n",
      "             62        0    0    0    0    0    0    0    1    0    0          [ 902. 1528. 1219. 1891.]      1\n",
      "32           63        1    0    1    1    1    1    1    1    1    1                                  0      9\n",
      "             64        0    1    0    0    0    0    0    0    0    0          [ 492. 1464.  883. 1783.]      1\n",
      "33           65        1    1    1    1    1    1    1    1    1    0                                  0      9\n",
      "             66        0    0    0    0    0    0    0    0    0    1              [700. 225. 767. 273.]      1\n",
      "34           67        0    0    0    1    1    1    1    1    1    1                                  0      7\n",
      "             68        1    1    1    0    0    0    0    0    0    0  [ 349.33 1193.    480.33 1322.33]      3\n",
      "35           69        1    1    1    1    1    1    1    1    1    1                                  0     10\n",
      "36           70        1    1    1    1    1    1    1    0    1    0                                  0      8\n",
      "             71        0    0    0    0    0    0    0    1    0    0          [1451.  990. 1862. 1350.]      1\n",
      "             72        0    0    0    0    0    0    0    0    0    1          [ 447. 2113.  619. 2285.]      1\n",
      "37           73        0    1    1    1    1    1    1    1    1    1                                  0      9\n",
      "             74        1    0    0    0    0    0    0    0    0    0          [ 775. 1367. 1035. 1567.]      1\n",
      "38           75        0    0    0    0    0    1    1    1    0    0                                  0      3\n",
      "             76        1    0    1    1    1    0    0    0    1    1  [1832.5  1063.33 1978.5  1211.17]      6\n",
      "             77        0    1    0    0    0    0    0    0    1    0      [ 614.  1588.   767.5 1708.5]      2\n",
      "39           78        1    1    1    1    1    1    1    1    1    1                                  0     10\n",
      "40           79        1    0    0    1    0    0    1    0    0    0                                  0      3\n",
      "             80        0    1    1    0    1    1    0    1    1    1  [2308.29 1702.43 2405.86 1822.  ]      7\n",
      "             81        0    0    0    0    0    0    0    1    0    0          [ 432. 1861.  601. 1988.]      1\n",
      "41           82        1    0    0    0    0    0    0    0    0    0                                  0      1\n",
      "             83        0    1    1    1    1    1    1    1    1    1  [ 878.33  702.   1067.33  878.78]      9\n",
      "             84        0    0    0    0    0    1    0    0    0    0          [ 999. 1284. 1281. 1589.]      1\n",
      "42           85        1    1    1    1    1    1    1    1    1    1                                  0     10\n",
      "43           86        1    0    0    1    0    1    0    1    1    0                                  0      5\n",
      "             87        0    1    1    0    1    0    1    0    0    1      [1593.  1839.2 1762.  1981. ]      5\n",
      "44           88        1    0    1    1    1    1    1    0    1    0                                  0      7\n",
      "             89        0    0    0    0    0    0    0    1    0    0          [1350. 1161. 1713. 1579.]      1\n",
      "             90        0    0    0    0    0    0    0    0    0    1          [ 833. 1848. 1016. 2185.]      1\n",
      "             91        0    1    0    0    0    0    0    0    0    0          [ 882.  508. 1124.  787.]      1\n",
      "45           92        1    1    1    1    1    1    1    1    1    1      [1952.6  728.7 2258.  1007.6]     10\n",
      "46           93        1    1    1    1    1    1    1    1    1    1                                  0     10\n",
      "47           94        1    1    1    1    1    1    1    1    1    1                                  0     10\n",
      "48           95        0    0    1    1    1    1    1    0    1    1                                  0      7\n",
      "             96        0    0    0    0    0    0    0    1    0    0          [1055.  831. 1293. 1131.]      1\n",
      "             97        1    1    0    0    0    0    0    1    0    0  [ 931.67 1329.67 1223.33 1717.  ]      3\n",
      "49           98        0    0    1    1    0    1    1    0    0    1                                  0      5\n",
      "             99        1    0    0    0    0    0    0    0    0    0          [1027. 1349. 1318. 1798.]      1\n",
      "             100       0    1    0    0    1    0    0    1    1    0  [ 807.5   949.25  963.25 1082.  ]      4\n",
      "50           101       0    0    1    1    1    1    1    1    1    1                                  0      8\n",
      "             102       1    0    0    0    0    0    0    0    0    0          [1505.  912. 1894. 1267.]      1\n",
      "             103       0    1    0    0    0    0    0    0    0    0          [ 388. 1518.  716. 1770.]      1\n",
      "51           104       0    0    0    1    0    0    1    0    0    0                                  0      2\n",
      "             105       1    1    1    0    1    1    0    1    1    1  [1038.25  640.25 1285.38 1014.25]      8\n",
      "52           106       1    1    1    1    1    1    1    1    1    1                                  0     10\n",
      "53           107       1    1    1    1    1    1    1    0    1    1                                  0      9\n",
      "             108       0    0    0    0    0    0    0    1    0    0          [1371. 1015. 1566. 1227.]      1\n",
      "54           109       1    1    1    1    1    1    1    1    1    1          [558.7 723.8 712.5 860.8]     10\n",
      "             110       0    0    0    0    0    0    0    1    0    0          [ 692. 1530.  855. 1728.]      1\n",
      "55           111       1    1    1    1    1    1    1    1    1    1      [ 533.6 1333.9  709.  1478.2]     10\n",
      "56           112       1    1    1    1    1    1    1    1    1    1                                  0     10\n",
      "57           113       1    1    1    1    1    1    1    1    1    1                                  0     10\n",
      "58           114       1    0    1    1    1    1    1    1    1    1                                  0      9\n",
      "             115       0    1    0    0    0    0    0    0    0    0          [ 368. 1600.  630. 1820.]      1\n",
      "59           116       1    1    1    1    1    1    1    1    1    1      [2030.8  743.3 2219.8  977.8]     10\n",
      "60           117       0    1    0    1    0    1    0    1    1    0                                  0      5\n",
      "             118       0    0    0    0    0    0    1    0    0    1      [1195.5  746.5 1354.   890.5]      2\n",
      "             119       1    0    1    0    1    0    1    0    0    0  [ 608.5  1214.75  724.25 1319.75]      4\n",
      "61           120       1    1    1    1    1    1    1    1    1    1                                  0     10\n",
      "62           121       1    0    1    1    1    1    1    0    1    1                                  0      8\n",
      "             122       0    0    0    0    0    0    0    1    0    0          [1981. 2001. 2110. 2141.]      1\n",
      "             123       0    1    0    0    0    0    0    1    0    0      [ 672.5 1571.5  790.5 1744. ]      2\n",
      "63           124       1    1    1    1    1    1    1    1    1    1                                  0     10\n",
      "64           125       0    0    1    1    1    1    0    0    0    0                                  0      4\n",
      "             126       0    1    0    0    0    0    2    1    1    1  [1086.67  948.83 1281.33 1158.83]      6\n",
      "             127       1    0    0    0    0    0    1    0    0    0              [646. 789. 872. 983.]      2\n",
      "65           128       1    1    1    1    1    1    1    0    1    1                                  0      9\n",
      "             129       0    0    0    0    0    0    0    1    0    0          [1686. 1704. 1877. 1901.]      1\n",
      "66           130       1    1    1    1    1    1    1    1    1    1                                  0     10\n",
      "67           131       0    1    0    0    0    1    1    0    0    1                                  0      4\n",
      "             132       1    0    1    1    2    0    0    1    1    0  [ 771.71 1514.   1016.29 1789.14]      7\n",
      "68           133       1    1    1    1    1    1    1    1    1    1                                  0     10\n",
      "69           134       1    0    1    1    1    1    1    0    1    1                                  0      8\n",
      "             135       0    0    0    0    0    0    0    1    0    0          [1383.  462. 1548.  620.]      1\n",
      "             136       0    1    0    0    0    0    0    0    0    0          [ 983.  635. 1144.  876.]      1\n",
      "70           137       1    1    1    1    1    1    1    1    1    1                                  0     10\n",
      "71           138       1    0    1    1    1    0    1    1    1    1                                  0      8\n",
      "             139       0    0    0    0    0    1    0    0    0    0              [540. 562. 752. 718.]      1\n",
      "             140       0    1    0    0    0    0    0    0    0    0          [ 697. 1086.  940. 1264.]      1\n",
      "72           141       1    1    1    1    1    1    2    1    1    1  [1943.55 1543.27 2189.73 1777.  ]     11\n",
      "73           142       1    1    0    1    0    0    0    1    0    1                                  0      5\n",
      "             143       0    0    1    0    0    1    1    0    1    0  [1381.    594.75 1507.75  742.75]      4\n",
      "             144       0    0    0    0    1    0    0    0    0    0          [ 736. 1000.  862. 1105.]      1\n",
      "74           145       1    1    1    1    1    1    1    1    1    1      [ 810.1  660.7 1019.6  873.4]     10\n",
      "75           146       1    1    1    1    1    1    1    0    1    1                                  0      9\n",
      "             147       0    0    0    0    0    0    0    1    0    0          [ 873.  649. 1001.  743.]      1\n",
      "76           148       1    1    1    1    1    1    1    1    1    1      [ 520.7 1415.1  751.6 1714.1]     10\n",
      "77           149       0    1    0    1    0    1    1    0    1    1                                  0      6\n",
      "             150       0    0    1    0    1    0    0    1    0    0  [ 445.67 2064.    884.   2381.33]      3\n",
      "             151       1    0    0    0    0    0    0    0    0    0          [ 907. 1298. 1434. 1789.]      1\n",
      "78           152       1    1    1    1    1    1    1    0    1    1                                  0      9\n",
      "             153       0    0    0    0    0    0    0    1    0    0          [1926. 1507. 2127. 1647.]      1\n",
      "79           154       1    1    1    1    1    1    1    1    1    1          [421.9 837.6 548.3 966.6]     10\n",
      "80           155       1    0    0    1    1    1    1    1    1    1                                  0      8\n",
      "             156       0    1    1    0    0    0    0    0    0    0      [1627.5 1365.5 1676.5 1422.5]      2\n",
      "81           157       1    0    1    1    1    1    1    1    1    1                                  0      9\n",
      "             158       0    1    0    0    0    0    0    0    0    0          [1150.  436. 1338.  658.]      1\n",
      "82           159       1    1    1    1    1    1    1    1    1    1                                  0     10\n",
      "83           160       1    1    0    1    1    1    1    1    1    1                                  0      9\n",
      "             161       0    0    1    0    0    0    0    0    0    0          [2038. 1491. 2160. 1661.]      1\n",
      "84           162       0    1    1    1    1    1    1    0    1    1                                  0      8\n",
      "             163       1    0    0    0    0    0    0    1    0    0      [1112.5 1492.5 1402.  1885.5]      2\n",
      "85           164       1    1    1    1    1    1    1    1    1    1                                  0     10\n",
      "86           165       1    1    1    1    1    1    1    1    1    1                                  0     10\n",
      "87           166       1    1    1    1    1    1    1    1    1    1                                  0     10\n",
      "88           167       0    0    1    1    0    1    0    0    0    0                                  0      3\n",
      "             168       0    0    0    0    0    0    0    1    0    0          [1664.  932. 1703. 1011.]      1\n",
      "             169       1    1    0    0    1    0    1    0    1    1      [696.83 231.5  938.17 419.5 ]      6\n",
      "             170       0    0    0    0    0    0    0    1    0    0              [600. 737. 658. 789.]      1\n",
      "             171       0    0    0    0    0    0    0    1    0    0          [ 611. 1103.  701. 1182.]      1\n",
      "89           172       1    1    1    1    1    1    1    0    1    1                                  0      9\n",
      "             173       0    0    0    0    0    0    0    1    0    0          [ 819. 1266. 1034. 1513.]      1\n",
      "90           174       1    1    1    1    1    1    1    1    1    1                                  0     10\n",
      "91           175       1    1    1    1    1    1    1    1    1    1                                  0     10\n",
      "92           176       0    0    0    0    0    0    0    0    0    1          [1634.  658. 1831.  772.]      1\n",
      "             177       0    0    0    1    0    0    0    0    0    0          [ 535. 1714.  709. 1891.]      1\n",
      "             178       1    1    1    1    1    1    1    1    1    1          [644.8 678.4 810.8 861.9]     10\n",
      "             179       1    0    0    0    0    0    0    0    0    0          [ 833. 1539. 1080. 1792.]      1\n",
      "93           180       1    1    1    1    1    1    1    1    1    1      [ 574.   843.5  812.8 1036.8]     10\n",
      "94           181       0    1    1    1    1    1    1    1    1    1                                  0      9\n",
      "             182       1    0    0    0    0    0    0    0    0    0          [ 740. 1051. 1254. 1589.]      1\n",
      "95           183       0    0    0    0    0    0    0    0    0    1                                  0      1\n",
      "             184       1    1    1    1    1    1    1    1    1    0      [654.   655.78 809.33 783.33]      9\n",
      "96           185       1    1    1    1    1    1    1    0    1    1                                  0      9\n",
      "             186       0    0    0    0    0    0    0    1    0    0          [ 908.  764. 1066.  991.]      1\n",
      "97           187       0    0    0    1    0    0    0    0    0    0                                  0      1\n",
      "             188       1    1    1    0    1    1    1    0    1    1  [1942.38 1894.62 2096.5  2060.  ]      8\n",
      "             189       0    0    0    0    0    0    0    1    0    0          [ 719. 1111.  771. 1236.]      1\n",
      "98           190       0    1    0    1    0    1    0    0    0    0                                  0      3\n",
      "             191       0    0    0    0    0    0    0    0    0    1          [1819.  755. 1951.  888.]      1\n",
      "             192       1    0    1    0    1    0    1    1    0    1  [2031.33  480.83 2191.83  635.17]      6\n",
      "             193       0    0    0    0    0    0    0    0    1    1      [2254.  1719.5 2463.5 1962. ]      2\n",
      "             194       0    0    0    0    0    0    1    0    0    0          [2373. 2183. 2495. 2318.]      1\n",
      "             195       0    0    0    0    1    0    0    0    0    1      [ 580.  1535.5  804.5 1759. ]      2\n",
      "             196       0    0    0    0    0    0    0    0    0    1          [ 603. 1251.  779. 1427.]      1\n",
      "             197       0    0    0    0    0    0    0    0    0    1          [ 799. 1402. 1020. 1579.]      1\n",
      "99           198       1    1    1    1    1    1    1    1    1    1                                  0     10\n",
      "100          199       1    1    1    1    1    1    1    1    1    1      [1794.2  997.9 2070.3 1242.4]     10\n"
     ]
    }
   ],
   "source": [
    "print(lesion_df.to_string())"
   ]
  },
  {
   "cell_type": "code",
   "execution_count": 75,
   "metadata": {},
   "outputs": [],
   "source": [
    "lesion_mask_df = lesion_df.reset_index()[['DB_PatientId','avg_mask']]"
   ]
  },
  {
   "cell_type": "code",
   "execution_count": 74,
   "metadata": {
    "collapsed": true,
    "jupyter": {
     "outputs_hidden": true
    }
   },
   "outputs": [
    {
     "ename": "ValueError",
     "evalue": "Length of values (200) does not match length of index (100)",
     "output_type": "error",
     "traceback": [
      "\u001b[0;31m---------------------------------------------------------------------------\u001b[0m",
      "\u001b[0;31mValueError\u001b[0m                                Traceback (most recent call last)",
      "\u001b[0;32m<ipython-input-74-79ac63343ea9>\u001b[0m in \u001b[0;36m<module>\u001b[0;34m\u001b[0m\n\u001b[1;32m      3\u001b[0m     \u001b[0mresult\u001b[0m \u001b[0;34m=\u001b[0m \u001b[0mlesion_mask_df\u001b[0m\u001b[0;34m.\u001b[0m\u001b[0mcopy\u001b[0m\u001b[0;34m(\u001b[0m\u001b[0;34m)\u001b[0m\u001b[0;34m\u001b[0m\u001b[0;34m\u001b[0m\u001b[0m\n\u001b[1;32m      4\u001b[0m     \u001b[0;32mfor\u001b[0m \u001b[0mkey\u001b[0m \u001b[0;32min\u001b[0m \u001b[0mmajority_votes_k\u001b[0m\u001b[0;34m[\u001b[0m\u001b[0mk\u001b[0m\u001b[0;34m]\u001b[0m\u001b[0;34m.\u001b[0m\u001b[0mkeys\u001b[0m\u001b[0;34m(\u001b[0m\u001b[0;34m)\u001b[0m\u001b[0;34m:\u001b[0m\u001b[0;34m\u001b[0m\u001b[0;34m\u001b[0m\u001b[0m\n\u001b[0;32m----> 5\u001b[0;31m         \u001b[0mresult\u001b[0m\u001b[0;34m[\u001b[0m\u001b[0mkey\u001b[0m\u001b[0;34m]\u001b[0m \u001b[0;34m=\u001b[0m \u001b[0mmajority_votes_k\u001b[0m\u001b[0;34m[\u001b[0m\u001b[0mk\u001b[0m\u001b[0;34m]\u001b[0m\u001b[0;34m[\u001b[0m\u001b[0mkey\u001b[0m\u001b[0;34m]\u001b[0m\u001b[0;34m\u001b[0m\u001b[0;34m\u001b[0m\u001b[0m\n\u001b[0m\u001b[1;32m      6\u001b[0m     \u001b[0mresult\u001b[0m\u001b[0;34m.\u001b[0m\u001b[0mrename\u001b[0m\u001b[0;34m(\u001b[0m\u001b[0mcolumns\u001b[0m \u001b[0;34m=\u001b[0m \u001b[0;34m{\u001b[0m\u001b[0;34m'avg_mask'\u001b[0m \u001b[0;34m:\u001b[0m \u001b[0;34m'mask'\u001b[0m\u001b[0;34m}\u001b[0m\u001b[0;34m,\u001b[0m \u001b[0minplace\u001b[0m \u001b[0;34m=\u001b[0m \u001b[0;32mTrue\u001b[0m\u001b[0;34m)\u001b[0m\u001b[0;34m\u001b[0m\u001b[0;34m\u001b[0m\u001b[0m\n\u001b[1;32m      7\u001b[0m     \u001b[0mresult\u001b[0m\u001b[0;34m.\u001b[0m\u001b[0mto_csv\u001b[0m\u001b[0;34m(\u001b[0m\u001b[0;34mf'./constructed/lesion-based_{k}_majority_votes.csv'\u001b[0m\u001b[0;34m,\u001b[0m \u001b[0mindex\u001b[0m\u001b[0;34m=\u001b[0m\u001b[0;32mNone\u001b[0m\u001b[0;34m)\u001b[0m\u001b[0;34m\u001b[0m\u001b[0;34m\u001b[0m\u001b[0m\n",
      "\u001b[0;32m/usr/local/lib/python3.6/dist-packages/pandas/core/frame.py\u001b[0m in \u001b[0;36m__setitem__\u001b[0;34m(self, key, value)\u001b[0m\n\u001b[1;32m   3042\u001b[0m         \u001b[0;32melse\u001b[0m\u001b[0;34m:\u001b[0m\u001b[0;34m\u001b[0m\u001b[0;34m\u001b[0m\u001b[0m\n\u001b[1;32m   3043\u001b[0m             \u001b[0;31m# set column\u001b[0m\u001b[0;34m\u001b[0m\u001b[0;34m\u001b[0m\u001b[0;34m\u001b[0m\u001b[0m\n\u001b[0;32m-> 3044\u001b[0;31m             \u001b[0mself\u001b[0m\u001b[0;34m.\u001b[0m\u001b[0m_set_item\u001b[0m\u001b[0;34m(\u001b[0m\u001b[0mkey\u001b[0m\u001b[0;34m,\u001b[0m \u001b[0mvalue\u001b[0m\u001b[0;34m)\u001b[0m\u001b[0;34m\u001b[0m\u001b[0;34m\u001b[0m\u001b[0m\n\u001b[0m\u001b[1;32m   3045\u001b[0m \u001b[0;34m\u001b[0m\u001b[0m\n\u001b[1;32m   3046\u001b[0m     \u001b[0;32mdef\u001b[0m \u001b[0m_setitem_slice\u001b[0m\u001b[0;34m(\u001b[0m\u001b[0mself\u001b[0m\u001b[0;34m,\u001b[0m \u001b[0mkey\u001b[0m\u001b[0;34m:\u001b[0m \u001b[0mslice\u001b[0m\u001b[0;34m,\u001b[0m \u001b[0mvalue\u001b[0m\u001b[0;34m)\u001b[0m\u001b[0;34m:\u001b[0m\u001b[0;34m\u001b[0m\u001b[0;34m\u001b[0m\u001b[0m\n",
      "\u001b[0;32m/usr/local/lib/python3.6/dist-packages/pandas/core/frame.py\u001b[0m in \u001b[0;36m_set_item\u001b[0;34m(self, key, value)\u001b[0m\n\u001b[1;32m   3118\u001b[0m         \"\"\"\n\u001b[1;32m   3119\u001b[0m         \u001b[0mself\u001b[0m\u001b[0;34m.\u001b[0m\u001b[0m_ensure_valid_index\u001b[0m\u001b[0;34m(\u001b[0m\u001b[0mvalue\u001b[0m\u001b[0;34m)\u001b[0m\u001b[0;34m\u001b[0m\u001b[0;34m\u001b[0m\u001b[0m\n\u001b[0;32m-> 3120\u001b[0;31m         \u001b[0mvalue\u001b[0m \u001b[0;34m=\u001b[0m \u001b[0mself\u001b[0m\u001b[0;34m.\u001b[0m\u001b[0m_sanitize_column\u001b[0m\u001b[0;34m(\u001b[0m\u001b[0mkey\u001b[0m\u001b[0;34m,\u001b[0m \u001b[0mvalue\u001b[0m\u001b[0;34m)\u001b[0m\u001b[0;34m\u001b[0m\u001b[0;34m\u001b[0m\u001b[0m\n\u001b[0m\u001b[1;32m   3121\u001b[0m         \u001b[0mNDFrame\u001b[0m\u001b[0;34m.\u001b[0m\u001b[0m_set_item\u001b[0m\u001b[0;34m(\u001b[0m\u001b[0mself\u001b[0m\u001b[0;34m,\u001b[0m \u001b[0mkey\u001b[0m\u001b[0;34m,\u001b[0m \u001b[0mvalue\u001b[0m\u001b[0;34m)\u001b[0m\u001b[0;34m\u001b[0m\u001b[0;34m\u001b[0m\u001b[0m\n\u001b[1;32m   3122\u001b[0m \u001b[0;34m\u001b[0m\u001b[0m\n",
      "\u001b[0;32m/usr/local/lib/python3.6/dist-packages/pandas/core/frame.py\u001b[0m in \u001b[0;36m_sanitize_column\u001b[0;34m(self, key, value, broadcast)\u001b[0m\n\u001b[1;32m   3766\u001b[0m \u001b[0;34m\u001b[0m\u001b[0m\n\u001b[1;32m   3767\u001b[0m             \u001b[0;31m# turn me into an ndarray\u001b[0m\u001b[0;34m\u001b[0m\u001b[0;34m\u001b[0m\u001b[0;34m\u001b[0m\u001b[0m\n\u001b[0;32m-> 3768\u001b[0;31m             \u001b[0mvalue\u001b[0m \u001b[0;34m=\u001b[0m \u001b[0msanitize_index\u001b[0m\u001b[0;34m(\u001b[0m\u001b[0mvalue\u001b[0m\u001b[0;34m,\u001b[0m \u001b[0mself\u001b[0m\u001b[0;34m.\u001b[0m\u001b[0mindex\u001b[0m\u001b[0;34m)\u001b[0m\u001b[0;34m\u001b[0m\u001b[0;34m\u001b[0m\u001b[0m\n\u001b[0m\u001b[1;32m   3769\u001b[0m             \u001b[0;32mif\u001b[0m \u001b[0;32mnot\u001b[0m \u001b[0misinstance\u001b[0m\u001b[0;34m(\u001b[0m\u001b[0mvalue\u001b[0m\u001b[0;34m,\u001b[0m \u001b[0;34m(\u001b[0m\u001b[0mnp\u001b[0m\u001b[0;34m.\u001b[0m\u001b[0mndarray\u001b[0m\u001b[0;34m,\u001b[0m \u001b[0mIndex\u001b[0m\u001b[0;34m)\u001b[0m\u001b[0;34m)\u001b[0m\u001b[0;34m:\u001b[0m\u001b[0;34m\u001b[0m\u001b[0;34m\u001b[0m\u001b[0m\n\u001b[1;32m   3770\u001b[0m                 \u001b[0;32mif\u001b[0m \u001b[0misinstance\u001b[0m\u001b[0;34m(\u001b[0m\u001b[0mvalue\u001b[0m\u001b[0;34m,\u001b[0m \u001b[0mlist\u001b[0m\u001b[0;34m)\u001b[0m \u001b[0;32mand\u001b[0m \u001b[0mlen\u001b[0m\u001b[0;34m(\u001b[0m\u001b[0mvalue\u001b[0m\u001b[0;34m)\u001b[0m \u001b[0;34m>\u001b[0m \u001b[0;36m0\u001b[0m\u001b[0;34m:\u001b[0m\u001b[0;34m\u001b[0m\u001b[0;34m\u001b[0m\u001b[0m\n",
      "\u001b[0;32m/usr/local/lib/python3.6/dist-packages/pandas/core/internals/construction.py\u001b[0m in \u001b[0;36msanitize_index\u001b[0;34m(data, index)\u001b[0m\n\u001b[1;32m    746\u001b[0m     \u001b[0;32mif\u001b[0m \u001b[0mlen\u001b[0m\u001b[0;34m(\u001b[0m\u001b[0mdata\u001b[0m\u001b[0;34m)\u001b[0m \u001b[0;34m!=\u001b[0m \u001b[0mlen\u001b[0m\u001b[0;34m(\u001b[0m\u001b[0mindex\u001b[0m\u001b[0;34m)\u001b[0m\u001b[0;34m:\u001b[0m\u001b[0;34m\u001b[0m\u001b[0;34m\u001b[0m\u001b[0m\n\u001b[1;32m    747\u001b[0m         raise ValueError(\n\u001b[0;32m--> 748\u001b[0;31m             \u001b[0;34m\"Length of values \"\u001b[0m\u001b[0;34m\u001b[0m\u001b[0;34m\u001b[0m\u001b[0m\n\u001b[0m\u001b[1;32m    749\u001b[0m             \u001b[0;34mf\"({len(data)}) \"\u001b[0m\u001b[0;34m\u001b[0m\u001b[0;34m\u001b[0m\u001b[0m\n\u001b[1;32m    750\u001b[0m             \u001b[0;34m\"does not match length of index \"\u001b[0m\u001b[0;34m\u001b[0m\u001b[0;34m\u001b[0m\u001b[0m\n",
      "\u001b[0;31mValueError\u001b[0m: Length of values (200) does not match length of index (100)"
     ]
    }
   ],
   "source": [
    "majority_votes_k = [0,0,0,mv3_dict,0,mv5_dict,0,mv7_dict,0,mv9_dict]\n",
    "for k in [3,5,7,9]:\n",
    "    result = lesion_mask_df.copy()\n",
    "    for key in majority_votes_k[k].keys():\n",
    "        result[key] = majority_votes_k[k][key]\n",
    "    result.rename(columns = {'avg_mask' : 'mask'}, inplace = True)\n",
    "    result.to_csv(f'./constructed/lesion-based_{k}_majority_votes.csv', index=None)"
   ]
  },
  {
   "cell_type": "code",
   "execution_count": null,
   "metadata": {},
   "outputs": [],
   "source": [
    "k=7\n",
    "temp = pd.read_csv(f'./constructed/lesion-based_{k}_majority_votes.csv')\n",
    "temp"
   ]
  },
  {
   "cell_type": "markdown",
   "metadata": {},
   "source": [
    "## Individual"
   ]
  },
  {
   "cell_type": "code",
   "execution_count": null,
   "metadata": {},
   "outputs": [],
   "source": [
    "def boxreform(box):\n",
    "    if box == 0: return 0\n",
    "    else:\n",
    "        coor = np.array([0,0,0,0])\n",
    "        coor[0] += int(box.split('-')[0][1:-1].split(',')[0])\n",
    "        coor[1] += int(box.split('-')[0][1:-1].split(',')[1])\n",
    "        coor[2] += int(box.split('-')[1][1:-1].split(',')[0])\n",
    "        coor[3] += int(box.split('-')[1][1:-1].split(',')[1])\n",
    "        return coor"
   ]
  },
  {
   "cell_type": "code",
   "execution_count": null,
   "metadata": {},
   "outputs": [],
   "source": [
    "result = pd.read_csv('./Lesion_based_data/R20_1.csv')\n",
    "result = result[['DB_PatientId', '2D__maskpos']]\n",
    "result = result.sort_values(by=['DB_PatientId'])\n",
    "result = result[~result.DB_PatientId.isin(delete_case)]\n",
    "result = result.reset_index(drop=True)\n",
    "result['DB_PatientId'] = [map(i) for i in result['DB_PatientId']]\n",
    "result = result.fillna(0)\n",
    "\n",
    "new_mask_lst = []\n",
    "for mask in result['2D__maskpos']:\n",
    "    new_mask_lst.append(boxreform(mask))\n",
    "result = result[['DB_PatientId']]\n",
    "result['mask'] = new_mask_lst\n",
    "result.to_csv(f'./constructed/lesion-based_R20.csv', index=None)"
   ]
  },
  {
   "cell_type": "markdown",
   "metadata": {},
   "source": [
    "## LCA"
   ]
  },
  {
   "cell_type": "code",
   "execution_count": 93,
   "metadata": {},
   "outputs": [],
   "source": [
    "lesion_mask_df = lesion_df.reset_index()"
   ]
  },
  {
   "cell_type": "code",
   "execution_count": 95,
   "metadata": {},
   "outputs": [
    {
     "data": {
      "text/plain": [
       "94"
      ]
     },
     "execution_count": 95,
     "metadata": {},
     "output_type": "execute_result"
    }
   ],
   "source": [
    "result = lesion_mask_df.copy()\n",
    "lca_df = pd.read_csv('./Lesion_based_lca/lesionlca2_save.txt', names = raters + ['C1', 'C2', 'Answer', 'ID'], delimiter = \"\\s+\")\n",
    "lca_df['Answer'].replace({1:1, 2: 0}, inplace=True)\n",
    "result['Answer'] = lca_df['Answer'].astype(int)\n",
    "result = result[result['Answer']==1][['DB_PatientId', 'avg_mask']]\n",
    "result.rename(columns = {'avg_mask' : 'mask'}, inplace = True)\n",
    "result.to_csv(f'./constructed/lesion-based_lca_2.csv', index=None)\n",
    "df = pd.read_csv(f'./constructed/lesion-based_lca_2.csv')\n",
    "len(set(result['DB_PatientId']))\n",
    "# result"
   ]
  },
  {
   "cell_type": "code",
   "execution_count": 97,
   "metadata": {},
   "outputs": [
    {
     "data": {
      "text/plain": [
       "{43, 49, 60, 64, 73, 98}"
      ]
     },
     "execution_count": 97,
     "metadata": {},
     "output_type": "execute_result"
    }
   ],
   "source": [
    "set(range(1,101)) - set(result['DB_PatientId'])"
   ]
  },
  {
   "cell_type": "code",
   "execution_count": 98,
   "metadata": {},
   "outputs": [
    {
     "data": {
      "text/plain": [
       "100"
      ]
     },
     "execution_count": 98,
     "metadata": {},
     "output_type": "execute_result"
    }
   ],
   "source": [
    "result = lesion_mask_df.copy()\n",
    "lca_df = pd.read_csv('./Lesion_based_lca/lesionlca3_save.txt', names = raters + ['C1', 'C2', 'C3', 'Answer', 'ID'], delimiter = \"\\s+\")\n",
    "lca_df['Answer'].replace({1:1, 2: 1, 3:0}, inplace=True)\n",
    "result['Answer'] = lca_df['Answer'].astype(int)\n",
    "result = result[result['Answer']==1][['DB_PatientId', 'avg_mask']]\n",
    "result.rename(columns = {'avg_mask' : 'mask'}, inplace = True)\n",
    "result.to_csv(f'./constructed/lesion-based_lca_3.csv', index=None)\n",
    "df = pd.read_csv(f'./constructed/lesion-based_lca_3.csv')\n",
    "len(set(result['DB_PatientId']))"
   ]
  },
  {
   "cell_type": "markdown",
   "metadata": {},
   "source": [
    "#### check -- problem in MV and LCA\n",
    "--> Sol) Just omit those cases"
   ]
  },
  {
   "cell_type": "code",
   "execution_count": 100,
   "metadata": {},
   "outputs": [],
   "source": [
    "k=9\n",
    "i=0"
   ]
  },
  {
   "cell_type": "code",
   "execution_count": 104,
   "metadata": {},
   "outputs": [
    {
     "data": {
      "text/plain": [
       "[64, 49, 73]"
      ]
     },
     "execution_count": 104,
     "metadata": {},
     "output_type": "execute_result"
    }
   ],
   "source": [
    "df = pd.read_csv(f'./constructed/lesion-based_{k}_majority_votes.csv')\n",
    "df = df[df[f'{k}vote{i}']==1][['DB_PatientId', 'mask']]\n",
    "omit_lst = list(set(range(1,101))-set(df['DB_PatientId']))\n",
    "omit_lst"
   ]
  },
  {
   "cell_type": "code",
   "execution_count": 110,
   "metadata": {},
   "outputs": [
    {
     "data": {
      "text/plain": [
       "[1, 2, 3, 2, 3, 4]"
      ]
     },
     "execution_count": 110,
     "metadata": {},
     "output_type": "execute_result"
    }
   ],
   "source": [
    "[1,2,3]+[2,3,4]"
   ]
  },
  {
   "cell_type": "code",
   "execution_count": 113,
   "metadata": {},
   "outputs": [
    {
     "data": {
      "text/plain": [
       "{2,\n",
       " 5,\n",
       " 6,\n",
       " 18,\n",
       " 24,\n",
       " 27,\n",
       " 36,\n",
       " 38,\n",
       " 44,\n",
       " 49,\n",
       " 50,\n",
       " 60,\n",
       " 64,\n",
       " 67,\n",
       " 69,\n",
       " 71,\n",
       " 73,\n",
       " 77,\n",
       " 88,\n",
       " 97,\n",
       " 98}"
      ]
     },
     "execution_count": 113,
     "metadata": {},
     "output_type": "execute_result"
    }
   ],
   "source": [
    "omits = []\n",
    "for k in [3,5,7,9]:\n",
    "    for i in range(len(list(combinations(raters,k)))):\n",
    "        df = pd.read_csv(f'./constructed/lesion-based_{k}_majority_votes.csv')\n",
    "        df = df[df[f'{k}vote{i}']==1][['DB_PatientId', 'mask']]\n",
    "        omit_lst = list(set(range(1,101))-set(df['DB_PatientId']))\n",
    "        omits = omits + omit_lst\n",
    "set(omits)"
   ]
  },
  {
   "cell_type": "code",
   "execution_count": 102,
   "metadata": {},
   "outputs": [
    {
     "data": {
      "text/plain": [
       "('R11', 'R14', 'R15', 'R16', 'R20', 'R21', 'R23', 'R26', 'R28')"
      ]
     },
     "execution_count": 102,
     "metadata": {},
     "output_type": "execute_result"
    }
   ],
   "source": [
    "list(combinations(raters,k))[0]"
   ]
  },
  {
   "cell_type": "code",
   "execution_count": 103,
   "metadata": {},
   "outputs": [
    {
     "data": {
      "text/html": [
       "<div>\n",
       "<style scoped>\n",
       "    .dataframe tbody tr th:only-of-type {\n",
       "        vertical-align: middle;\n",
       "    }\n",
       "\n",
       "    .dataframe tbody tr th {\n",
       "        vertical-align: top;\n",
       "    }\n",
       "\n",
       "    .dataframe thead th {\n",
       "        text-align: right;\n",
       "    }\n",
       "</style>\n",
       "<table border=\"1\" class=\"dataframe\">\n",
       "  <thead>\n",
       "    <tr style=\"text-align: right;\">\n",
       "      <th></th>\n",
       "      <th>DB_PatientId</th>\n",
       "      <th>lesion</th>\n",
       "      <th>R11</th>\n",
       "      <th>R14</th>\n",
       "      <th>R15</th>\n",
       "      <th>R16</th>\n",
       "      <th>R20</th>\n",
       "      <th>R21</th>\n",
       "      <th>R23</th>\n",
       "      <th>R26</th>\n",
       "      <th>R28</th>\n",
       "      <th>R29</th>\n",
       "      <th>avg_mask</th>\n",
       "    </tr>\n",
       "  </thead>\n",
       "  <tbody>\n",
       "    <tr>\n",
       "      <th>131</th>\n",
       "      <td>67</td>\n",
       "      <td>131</td>\n",
       "      <td>0</td>\n",
       "      <td>1</td>\n",
       "      <td>0</td>\n",
       "      <td>0</td>\n",
       "      <td>0</td>\n",
       "      <td>1</td>\n",
       "      <td>1</td>\n",
       "      <td>0</td>\n",
       "      <td>0</td>\n",
       "      <td>1</td>\n",
       "      <td>0</td>\n",
       "    </tr>\n",
       "    <tr>\n",
       "      <th>132</th>\n",
       "      <td>67</td>\n",
       "      <td>132</td>\n",
       "      <td>1</td>\n",
       "      <td>0</td>\n",
       "      <td>1</td>\n",
       "      <td>1</td>\n",
       "      <td>2</td>\n",
       "      <td>0</td>\n",
       "      <td>0</td>\n",
       "      <td>1</td>\n",
       "      <td>1</td>\n",
       "      <td>0</td>\n",
       "      <td>[ 771.71 1514.   1016.29 1789.14]</td>\n",
       "    </tr>\n",
       "  </tbody>\n",
       "</table>\n",
       "</div>"
      ],
      "text/plain": [
       "     DB_PatientId  lesion  R11  R14  R15  R16  R20  R21  R23  R26  R28  R29  \\\n",
       "131            67     131    0    1    0    0    0    1    1    0    0    1   \n",
       "132            67     132    1    0    1    1    2    0    0    1    1    0   \n",
       "\n",
       "                              avg_mask  \n",
       "131                                  0  \n",
       "132  [ 771.71 1514.   1016.29 1789.14]  "
      ]
     },
     "execution_count": 103,
     "metadata": {},
     "output_type": "execute_result"
    }
   ],
   "source": [
    "lesion_df = pd.read_csv('./Lesion_based_data/lesion_df.csv').reset_index(drop=True)\n",
    "lesion_df = lesion_df[lesion_df['DB_PatientId']==omit_lst[1]]\n",
    "lesion_df"
   ]
  },
  {
   "cell_type": "markdown",
   "metadata": {},
   "source": [
    "##### lesion_df = pd.read_csv('./Lesion_based_data/lesion_df.csv').reset_index()"
   ]
  },
  {
   "cell_type": "markdown",
   "metadata": {},
   "source": [
    "## F1-score"
   ]
  },
  {
   "cell_type": "code",
   "execution_count": 9,
   "metadata": {},
   "outputs": [],
   "source": [
    "# 1    2    3    4    5    6    7    8    9    10\n",
    "# R11, R14, R15, R16, R20, R21, R23, R26, R28, R29\n",
    "\n",
    "raters = ['R11', 'R14', 'R15', 'R16', 'R20', 'R21', 'R23', 'R26', 'R28', 'R29']"
   ]
  },
  {
   "cell_type": "code",
   "execution_count": 17,
   "metadata": {},
   "outputs": [],
   "source": [
    "lesion_df = pd.read_csv('./Lesion_based_data/lesion_df.csv').reset_index()"
   ]
  },
  {
   "cell_type": "code",
   "execution_count": 18,
   "metadata": {},
   "outputs": [
    {
     "data": {
      "text/plain": [
       "array([1691.67,  976.44, 1933.33, 1204.22])"
      ]
     },
     "execution_count": 18,
     "metadata": {},
     "output_type": "execute_result"
    }
   ],
   "source": [
    "def str2arr(strg):\n",
    "    if strg in [0,'0']:\n",
    "        return 0\n",
    "\n",
    "    coors = strg[1:-1].split(' ')\n",
    "    while '' in coors:\n",
    "        coors.remove('')\n",
    "    coors = np.array(coors).astype(float)\n",
    "    return coors\n",
    "\n",
    "str2arr(list(lesion_df['avg_mask'])[1])"
   ]
  },
  {
   "cell_type": "code",
   "execution_count": 19,
   "metadata": {},
   "outputs": [],
   "source": [
    "# herbwood.tistory.com/3?category=867198\n",
    "# Boolean function for intersection\n",
    "\n",
    "def boxesIntersect(boxA, boxB):\n",
    "    boxA = str2arr(boxA)\n",
    "    boxB = str2arr(boxB)\n",
    "    \n",
    "    if type(boxA) == int:\n",
    "        if type(boxB) == int: # TN\n",
    "            return 'TN'\n",
    "        else: # FP\n",
    "            return 'FP'\n",
    "        \n",
    "    elif type(boxB) == int: # FN\n",
    "        return 'FN'\n",
    "    \n",
    "    else: # TP 일수도 아닐 수도 (겹치면 True, 안겹치면 False)\n",
    "        boxA = boxA.astype(float)\n",
    "        boxB = boxB.astype(float)\n",
    "\n",
    "        if boxA[0] > boxB[2]:\n",
    "            return 'FP' # boxA is on the right of boxB\n",
    "        if boxB[0] > boxA[2]:\n",
    "            return 'FP' # boxA is on the left of boxB\n",
    "        if boxA[3] < boxB[1]:\n",
    "            return 'FP' # boxA is above boxB\n",
    "        if boxA[1] > boxB[3]:\n",
    "            return 'FP' # boxA is below boxB\n",
    "        return True"
   ]
  },
  {
   "cell_type": "code",
   "execution_count": 14,
   "metadata": {
    "scrolled": true
   },
   "outputs": [
    {
     "ename": "NameError",
     "evalue": "name 'ct_answer' is not defined",
     "output_type": "error",
     "traceback": [
      "\u001b[0;31m---------------------------------------------------------------------------\u001b[0m",
      "\u001b[0;31mNameError\u001b[0m                                 Traceback (most recent call last)",
      "\u001b[0;32m<ipython-input-14-6855ad2f76bb>\u001b[0m in \u001b[0;36m<module>\u001b[0;34m\u001b[0m\n\u001b[1;32m      1\u001b[0m \u001b[0;31m# check\u001b[0m\u001b[0;34m\u001b[0m\u001b[0;34m\u001b[0m\u001b[0;34m\u001b[0m\u001b[0m\n\u001b[1;32m      2\u001b[0m \u001b[0;34m\u001b[0m\u001b[0m\n\u001b[0;32m----> 3\u001b[0;31m \u001b[0;32mfor\u001b[0m \u001b[0mi\u001b[0m \u001b[0;32min\u001b[0m \u001b[0mrange\u001b[0m\u001b[0;34m(\u001b[0m\u001b[0mmin\u001b[0m\u001b[0;34m(\u001b[0m\u001b[0mlen\u001b[0m\u001b[0;34m(\u001b[0m\u001b[0mct_answer\u001b[0m\u001b[0;34m)\u001b[0m\u001b[0;34m,\u001b[0m \u001b[0mlen\u001b[0m\u001b[0;34m(\u001b[0m\u001b[0msilvergt\u001b[0m\u001b[0;34m)\u001b[0m\u001b[0;34m)\u001b[0m\u001b[0;34m)\u001b[0m\u001b[0;34m:\u001b[0m\u001b[0;34m\u001b[0m\u001b[0;34m\u001b[0m\u001b[0m\n\u001b[0m\u001b[1;32m      4\u001b[0m     \u001b[0mprint\u001b[0m\u001b[0;34m(\u001b[0m\u001b[0mct_answer\u001b[0m\u001b[0;34m[\u001b[0m\u001b[0;34m'mask'\u001b[0m\u001b[0;34m]\u001b[0m\u001b[0;34m[\u001b[0m\u001b[0mi\u001b[0m\u001b[0;34m]\u001b[0m\u001b[0;34m,\u001b[0m \u001b[0msilvergt\u001b[0m\u001b[0;34m[\u001b[0m\u001b[0;34m'mask'\u001b[0m\u001b[0;34m]\u001b[0m\u001b[0;34m[\u001b[0m\u001b[0mi\u001b[0m\u001b[0;34m]\u001b[0m\u001b[0;34m)\u001b[0m\u001b[0;34m\u001b[0m\u001b[0;34m\u001b[0m\u001b[0m\n\u001b[1;32m      5\u001b[0m     \u001b[0mprint\u001b[0m\u001b[0;34m(\u001b[0m\u001b[0mboxesIntersect\u001b[0m\u001b[0;34m(\u001b[0m\u001b[0mct_answer\u001b[0m\u001b[0;34m[\u001b[0m\u001b[0;34m'mask'\u001b[0m\u001b[0;34m]\u001b[0m\u001b[0;34m[\u001b[0m\u001b[0mi\u001b[0m\u001b[0;34m]\u001b[0m\u001b[0;34m,\u001b[0m \u001b[0msilvergt\u001b[0m\u001b[0;34m[\u001b[0m\u001b[0;34m'mask'\u001b[0m\u001b[0;34m]\u001b[0m\u001b[0;34m[\u001b[0m\u001b[0mi\u001b[0m\u001b[0;34m]\u001b[0m\u001b[0;34m)\u001b[0m\u001b[0;34m)\u001b[0m\u001b[0;34m\u001b[0m\u001b[0;34m\u001b[0m\u001b[0m\n",
      "\u001b[0;31mNameError\u001b[0m: name 'ct_answer' is not defined"
     ]
    }
   ],
   "source": [
    "# check\n",
    "\n",
    "for i in range(min(len(ct_answer), len(silvergt))):\n",
    "    print(ct_answer['mask'][i], silvergt['mask'][i])\n",
    "    print(boxesIntersect(ct_answer['mask'][i], silvergt['mask'][i]))\n",
    "    print('=====================')"
   ]
  },
  {
   "cell_type": "code",
   "execution_count": 20,
   "metadata": {},
   "outputs": [],
   "source": [
    "def iou(A,B):  \n",
    "    if boxesIntersect(A, B) != True:\n",
    "        return 0\n",
    "    \n",
    "    A = str2arr(A).astype(float)\n",
    "    B = str2arr(B).astype(float)\n",
    "    \n",
    "    # A = (x1, y1, x2, y2)\n",
    "    A_area = (A[2] - A[0] + 1) * (A[3] - A[1] + 1)\n",
    "    B_area = (B[2] - B[0] + 1) * (B[3] - B[1] + 1)\n",
    "\n",
    "    # find intersection box\n",
    "    x1 = max(A[0], B[0])\n",
    "    y1 = max(A[1], B[1])\n",
    "    x2 = min(A[2], B[2])\n",
    "    y2 = min(A[3], B[3])\n",
    "\n",
    "    # compute the width and height of the intersection\n",
    "    w = max(0, x2 - x1 + 1)\n",
    "    h = max(0, y2 - y1 + 1)\n",
    "\n",
    "    inter = w * h\n",
    "    iou_ = inter / (A_area + B_area - inter)\n",
    "\n",
    "    return iou_"
   ]
  },
  {
   "cell_type": "code",
   "execution_count": 21,
   "metadata": {
    "scrolled": true
   },
   "outputs": [],
   "source": [
    "# check\n",
    "\n",
    "thres = 0.5\n",
    "\n",
    "def marking(silver,thres):\n",
    "    result = []\n",
    "\n",
    "    for caseId in range(1,101):\n",
    "#         print(f'===========Case {caseId}=========')\n",
    "        ct_ans = list(ct_answer[ct_answer['DB_PatientId']==caseId]['mask'])[0]\n",
    "        silver_ans = list(silver[silver['DB_PatientId']==caseId]['mask'])\n",
    "        for i in range(len(silver_ans)):\n",
    "#             print(ct_ans, silver_ans[i])\n",
    "#             print(boxesIntersect(ct_ans, silver_ans[i]))\n",
    "            if boxesIntersect(ct_ans, silver_ans[i]) == True:\n",
    "#                 print(iou(ct_ans, silver_ans[i]))\n",
    "                if iou(ct_ans, silver_ans[i])>thres:\n",
    "#                     print('TP')\n",
    "                    result.append('TP')\n",
    "                else:\n",
    "#                     print('FP')\n",
    "                    result.append('FP')\n",
    "            else:\n",
    "                result.append(boxesIntersect(ct_ans, silver_ans[i]))\n",
    "\n",
    "    return result"
   ]
  },
  {
   "cell_type": "code",
   "execution_count": 22,
   "metadata": {},
   "outputs": [],
   "source": [
    "def f1score(silver, thres, prnt=True):\n",
    "    result = marking(silver, thres)\n",
    "\n",
    "    TP = result.count('TP')\n",
    "    FP = result.count('FP')\n",
    "    TN = result.count('TN')\n",
    "    FN = result.count('FN')\n",
    "\n",
    "    precision = TP / (TP+FP)\n",
    "    recall = TP / (TP+FN)\n",
    "\n",
    "    f1 = 2 * (precision * recall)/(precision+recall)\n",
    "    \n",
    "    if prnt:\n",
    "        print(f'TP {TP}')\n",
    "        print(f'FP {FP}')\n",
    "        print(f'TN {TN}')\n",
    "        print(f'FN {FN}')\n",
    "        print(f'precision {precision}')\n",
    "        print(f'recall {recall}')\n",
    "        print(f'f1-score {f1}')\n",
    "\n",
    "    return precision, recall, f1"
   ]
  },
  {
   "cell_type": "code",
   "execution_count": 23,
   "metadata": {},
   "outputs": [
    {
     "data": {
      "text/html": [
       "<div>\n",
       "<style scoped>\n",
       "    .dataframe tbody tr th:only-of-type {\n",
       "        vertical-align: middle;\n",
       "    }\n",
       "\n",
       "    .dataframe tbody tr th {\n",
       "        vertical-align: top;\n",
       "    }\n",
       "\n",
       "    .dataframe thead th {\n",
       "        text-align: right;\n",
       "    }\n",
       "</style>\n",
       "<table border=\"1\" class=\"dataframe\">\n",
       "  <thead>\n",
       "    <tr style=\"text-align: right;\">\n",
       "      <th></th>\n",
       "      <th>DB_PatientId</th>\n",
       "      <th>mask</th>\n",
       "    </tr>\n",
       "  </thead>\n",
       "  <tbody>\n",
       "    <tr>\n",
       "      <th>0</th>\n",
       "      <td>1</td>\n",
       "      <td>[1657  929 1977 1218]</td>\n",
       "    </tr>\n",
       "    <tr>\n",
       "      <th>1</th>\n",
       "      <td>2</td>\n",
       "      <td>0</td>\n",
       "    </tr>\n",
       "    <tr>\n",
       "      <th>2</th>\n",
       "      <td>3</td>\n",
       "      <td>0</td>\n",
       "    </tr>\n",
       "    <tr>\n",
       "      <th>3</th>\n",
       "      <td>4</td>\n",
       "      <td>0</td>\n",
       "    </tr>\n",
       "    <tr>\n",
       "      <th>4</th>\n",
       "      <td>5</td>\n",
       "      <td>[1253 1479 1786 2023]</td>\n",
       "    </tr>\n",
       "  </tbody>\n",
       "</table>\n",
       "</div>"
      ],
      "text/plain": [
       "   DB_PatientId                   mask\n",
       "0             1  [1657  929 1977 1218]\n",
       "1             2                      0\n",
       "2             3                      0\n",
       "3             4                      0\n",
       "4             5  [1253 1479 1786 2023]"
      ]
     },
     "execution_count": 23,
     "metadata": {},
     "output_type": "execute_result"
    }
   ],
   "source": [
    "ct_answer = pd.read_csv('./constructed/lesion-based_CT.csv')\n",
    "ct_answer.head()"
   ]
  },
  {
   "cell_type": "code",
   "execution_count": 24,
   "metadata": {},
   "outputs": [],
   "source": [
    "THRES = 0.5"
   ]
  },
  {
   "cell_type": "markdown",
   "metadata": {},
   "source": [
    "### Individual (R20)"
   ]
  },
  {
   "cell_type": "code",
   "execution_count": 25,
   "metadata": {
    "scrolled": true
   },
   "outputs": [
    {
     "name": "stdout",
     "output_type": "stream",
     "text": [
      "TP 22\n",
      "FP 18\n",
      "TN 46\n",
      "FN 16\n",
      "precision 0.55\n",
      "recall 0.5789473684210527\n",
      "f1-score 0.5641025641025641\n",
      "TP 8\n",
      "FP 35\n",
      "TN 42\n",
      "FN 15\n",
      "precision 0.18604651162790697\n",
      "recall 0.34782608695652173\n",
      "f1-score 0.24242424242424243\n",
      "TP 14\n",
      "FP 25\n",
      "TN 46\n",
      "FN 15\n",
      "precision 0.358974358974359\n",
      "recall 0.4827586206896552\n",
      "f1-score 0.4117647058823529\n",
      "TP 15\n",
      "FP 10\n",
      "TN 50\n",
      "FN 26\n",
      "precision 0.6\n",
      "recall 0.36585365853658536\n",
      "f1-score 0.4545454545454546\n",
      "TP 23\n",
      "FP 18\n",
      "TN 47\n",
      "FN 14\n",
      "precision 0.5609756097560976\n",
      "recall 0.6216216216216216\n",
      "f1-score 0.5897435897435899\n",
      "TP 18\n",
      "FP 9\n",
      "TN 50\n",
      "FN 24\n",
      "precision 0.6666666666666666\n",
      "recall 0.42857142857142855\n",
      "f1-score 0.5217391304347826\n",
      "TP 20\n",
      "FP 11\n",
      "TN 50\n",
      "FN 24\n",
      "precision 0.6451612903225806\n",
      "recall 0.45454545454545453\n",
      "f1-score 0.5333333333333333\n",
      "TP 22\n",
      "FP 33\n",
      "TN 37\n",
      "FN 15\n",
      "precision 0.4\n",
      "recall 0.5945945945945946\n",
      "f1-score 0.4782608695652174\n",
      "TP 18\n",
      "FP 18\n",
      "TN 50\n",
      "FN 16\n",
      "precision 0.5\n",
      "recall 0.5294117647058824\n",
      "f1-score 0.5142857142857143\n",
      "TP 12\n",
      "FP 35\n",
      "TN 47\n",
      "FN 15\n",
      "precision 0.2553191489361702\n",
      "recall 0.4444444444444444\n",
      "f1-score 0.32432432432432434\n"
     ]
    }
   ],
   "source": [
    "prec = []\n",
    "rec = []\n",
    "f1s = []\n",
    "\n",
    "for rater in raters:\n",
    "    silvergt = pd.read_csv(f'./constructed/lesion-based_{rater}.csv')\n",
    "    silvergt = silvergt[['DB_PatientId','mask']]\n",
    "    silvergt = silvergt.reset_index(drop=True)\n",
    "#     print(f'{rater} f1score: {f1score(silvergt,THRES)}')\n",
    "#     print('=========================')\n",
    "    scores = f1score(silvergt, THRES)\n",
    "    prec.append(scores[0])\n",
    "    rec.append(scores[1])\n",
    "    f1s.append(scores[2])"
   ]
  },
  {
   "cell_type": "code",
   "execution_count": 17,
   "metadata": {},
   "outputs": [
    {
     "data": {
      "text/plain": [
       "(0.4848575043087241, 0.09442735330513066)"
      ]
     },
     "execution_count": 17,
     "metadata": {},
     "output_type": "execute_result"
    }
   ],
   "source": [
    "statistics.mean(rec), statistics.stdev(rec)"
   ]
  },
  {
   "cell_type": "code",
   "execution_count": 18,
   "metadata": {},
   "outputs": [
    {
     "name": "stdout",
     "output_type": "stream",
     "text": [
      "TP 23\n",
      "FP 18\n",
      "TN 47\n",
      "FN 14\n",
      "precision 0.5609756097560976\n",
      "recall 0.6216216216216216\n",
      "f1-score 0.5897435897435899\n"
     ]
    },
    {
     "data": {
      "text/plain": [
       "(0.5609756097560976, 0.6216216216216216, 0.5897435897435899)"
      ]
     },
     "execution_count": 18,
     "metadata": {},
     "output_type": "execute_result"
    }
   ],
   "source": [
    "silvergt = pd.read_csv('./constructed/lesion-based_R20.csv')\n",
    "silvergt = silvergt[['DB_PatientId','mask']]\n",
    "silvergt = silvergt.reset_index(drop=True)\n",
    "f1score(silvergt,THRES)"
   ]
  },
  {
   "cell_type": "code",
   "execution_count": 19,
   "metadata": {},
   "outputs": [
    {
     "name": "stderr",
     "output_type": "stream",
     "text": [
      "/usr/local/lib/python3.6/dist-packages/seaborn/distributions.py:2619: FutureWarning: `distplot` is a deprecated function and will be removed in a future version. Please adapt your code to use either `displot` (a figure-level function with similar flexibility) or `histplot` (an axes-level function for histograms).\n",
      "  warnings.warn(msg, FutureWarning)\n"
     ]
    },
    {
     "data": {
      "text/plain": [
       "(0.0, 1.0)"
      ]
     },
     "execution_count": 19,
     "metadata": {},
     "output_type": "execute_result"
    },
    {
     "data": {
      "image/png": "[encoded data removed]",
      "text/plain": [
       "<Figure size 432x288 with 1 Axes>"
      ]
     },
     "metadata": {
      "needs_background": "light"
     },
     "output_type": "display_data"
    }
   ],
   "source": [
    "import seaborn as sns\n",
    "import matplotlib.pyplot as plt\n",
    "\n",
    "sns.distplot(f1s)\n",
    "plt.xlim(0, 1)\n",
    "# plt.title('3 majority votes [n=120]')"
   ]
  },
  {
   "cell_type": "markdown",
   "metadata": {},
   "source": [
    "### MV"
   ]
  },
  {
   "cell_type": "code",
   "execution_count": 20,
   "metadata": {},
   "outputs": [],
   "source": [
    "k = 9\n",
    "i = 0 # len(list(combinations(raters,k)))"
   ]
  },
  {
   "cell_type": "code",
   "execution_count": 21,
   "metadata": {},
   "outputs": [
    {
     "data": {
      "text/plain": [
       "(10, ('R11', 'R14', 'R15', 'R16', 'R20', 'R21', 'R23', 'R26', 'R28'))"
      ]
     },
     "execution_count": 21,
     "metadata": {},
     "output_type": "execute_result"
    }
   ],
   "source": [
    "len(list(combinations(raters,k))), list(combinations(raters,k))[i]"
   ]
  },
  {
   "cell_type": "code",
   "execution_count": 22,
   "metadata": {},
   "outputs": [
    {
     "name": "stdout",
     "output_type": "stream",
     "text": [
      "TP 23\n",
      "FP 8\n",
      "TN 50\n",
      "FN 16\n",
      "precision 0.7419354838709677\n",
      "recall 0.5897435897435898\n",
      "f1-score 0.6571428571428573\n"
     ]
    },
    {
     "data": {
      "text/plain": [
       "(0.7419354838709677, 0.5897435897435898, 0.6571428571428573)"
      ]
     },
     "execution_count": 22,
     "metadata": {},
     "output_type": "execute_result"
    }
   ],
   "source": [
    "silvergt = pd.read_csv(f'./constructed/lesion-based_{k}_majority_votes.csv')\n",
    "silvergt = silvergt[silvergt[f'{k}vote{i}']==1][['DB_PatientId','mask']]\n",
    "silvergt = silvergt.reset_index(drop=True)\n",
    "f1score(silvergt,THRES)"
   ]
  },
  {
   "cell_type": "code",
   "execution_count": 23,
   "metadata": {},
   "outputs": [
    {
     "data": {
      "text/plain": [
       "[64, 49, 73]"
      ]
     },
     "execution_count": 23,
     "metadata": {},
     "output_type": "execute_result"
    }
   ],
   "source": [
    "omit_lst = list(set(range(1,101))-set(silvergt['DB_PatientId']))\n",
    "omit_lst"
   ]
  },
  {
   "cell_type": "markdown",
   "metadata": {},
   "source": [
    "#### MV average f1-score"
   ]
  },
  {
   "cell_type": "code",
   "execution_count": 5,
   "metadata": {},
   "outputs": [],
   "source": [
    "def average_score(k, score):\n",
    "    if score == 'precision': idx = 0\n",
    "    elif score == 'recall': idx = 1\n",
    "    elif score == 'f1': idx = 2\n",
    "        \n",
    "    scores=[]\n",
    "    for i in range(len(list(combinations(raters,k)))):\n",
    "        selected_raters = list(combinations(raters,k))[i]\n",
    "        majority_votes_df = pd.read_csv(f'./constructed/lesion-based_{k}_majority_votes.csv')\n",
    "        majority_votes_df = majority_votes_df[majority_votes_df[f'{k}vote{i}']==1][['DB_PatientId','mask']]\n",
    "        majority_votes_df = majority_votes_df.reset_index(drop=True)\n",
    "        scores.append(f1score(majority_votes_df,THRES,prnt=False)[idx])\n",
    "\n",
    "    average_score_ = statistics.mean(scores)\n",
    "    sd_score_ = statistics.stdev(scores)\n",
    "    print(f'=={k} majority votes f1-score [n = {len(list(combinations(raters,k)))}]==')\n",
    "    print(f'ㄴaverage: {average_score_}')\n",
    "    print(f'ㄴstandard deviation: {sd_score_}')\n",
    "\n",
    "    return scores, average_score_, sd_score_"
   ]
  },
  {
   "cell_type": "code",
   "execution_count": 26,
   "metadata": {
    "scrolled": true
   },
   "outputs": [
    {
     "name": "stdout",
     "output_type": "stream",
     "text": [
      "==9 majority votes f1-score [n = 10]==\n",
      "ㄴaverage: 0.7581182795698924\n",
      "ㄴstandard deviation: 0.015706226514224993\n",
      "==7 majority votes f1-score [n = 120]==\n",
      "ㄴaverage: 0.762760068753319\n",
      "ㄴstandard deviation: 0.026376233292309655\n",
      "==5 majority votes f1-score [n = 252]==\n",
      "ㄴaverage: 0.7614029236121937\n",
      "ㄴstandard deviation: 0.029258420884323066\n",
      "==3 majority votes f1-score [n = 120]==\n",
      "ㄴaverage: 0.7430842454442108\n",
      "ㄴstandard deviation: 0.03618243117672269\n",
      "==9 majority votes f1-score [n = 10]==\n",
      "ㄴaverage: 0.5952810967380929\n",
      "ㄴstandard deviation: 0.021682591979676542\n",
      "==7 majority votes f1-score [n = 120]==\n",
      "ㄴaverage: 0.5926823585424356\n",
      "ㄴstandard deviation: 0.02926313730758341\n",
      "==5 majority votes f1-score [n = 252]==\n",
      "ㄴaverage: 0.5817162058730867\n",
      "ㄴstandard deviation: 0.04260711772111495\n",
      "==3 majority votes f1-score [n = 120]==\n",
      "ㄴaverage: 0.5716860471368338\n",
      "ㄴstandard deviation: 0.057873957738516855\n",
      "==9 majority votes f1-score [n = 10]==\n",
      "ㄴaverage: 0.6667740257972958\n",
      "ㄴstandard deviation: 0.017837947819285042\n",
      "==7 majority votes f1-score [n = 120]==\n",
      "ㄴaverage: 0.6665437191440097\n",
      "ㄴstandard deviation: 0.022265735152751\n",
      "==5 majority votes f1-score [n = 252]==\n",
      "ㄴaverage: 0.6583941316397145\n",
      "ㄴstandard deviation: 0.02935154615091425\n",
      "==3 majority votes f1-score [n = 120]==\n",
      "ㄴaverage: 0.6437337849014922\n",
      "ㄴstandard deviation: 0.036447631313175556\n"
     ]
    }
   ],
   "source": [
    "avg_precision_9 = average_score(9,'precision')[0]\n",
    "avg_precision_7 = average_score(7,'precision')[0]\n",
    "avg_precision_5 = average_score(5,'precision')[0]\n",
    "avg_precision_3 = average_score(3,'precision')[0]\n",
    "\n",
    "avg_recall_9 = average_score(9,'recall')[0]\n",
    "avg_recall_7 = average_score(7,'recall')[0]\n",
    "avg_recall_5 = average_score(5,'recall')[0]\n",
    "avg_recall_3 = average_score(3,'recall')[0]\n",
    "\n",
    "avg_f1_9 = average_score(9,'f1')[0]\n",
    "avg_f1_7 = average_score(7,'f1')[0]\n",
    "avg_f1_5 = average_score(5,'f1')[0]\n",
    "avg_f1_3 = average_score(3,'f1')[0]"
   ]
  },
  {
   "cell_type": "code",
   "execution_count": 56,
   "metadata": {},
   "outputs": [],
   "source": [
    "import matplotlib.pyplot as plt\n",
    "import seaborn as sns"
   ]
  },
  {
   "cell_type": "code",
   "execution_count": 83,
   "metadata": {},
   "outputs": [
    {
     "data": {
      "image/png": "[encoded data removed]",
      "text/plain": [
       "<Figure size 1440x360 with 1 Axes>"
      ]
     },
     "metadata": {
      "needs_background": "light"
     },
     "output_type": "display_data"
    }
   ],
   "source": [
    "plt.figure(figsize=(20,5))\n",
    "\n",
    "sns.kdeplot(data = avg_precision_9, color=\"red\", shade=True)\n",
    "sns.kdeplot(data = avg_precision_7, color=\"orange\", shade=True)\n",
    "sns.kdeplot(data = avg_precision_5, color=\"yellow\", shade=True)\n",
    "sns.kdeplot(data = avg_precision_3, color=\"green\", shade=True)\n",
    "sns.kdeplot(data = prec, color=\"blue\", shade=True) # prec, rec, f1\n",
    "plt.show()"
   ]
  },
  {
   "cell_type": "code",
   "execution_count": 107,
   "metadata": {},
   "outputs": [
    {
     "name": "stdout",
     "output_type": "stream",
     "text": [
      "t-statistics:3.8514632252418575, p-value: 0.00015918453018197172\n"
     ]
    }
   ],
   "source": [
    "from scipy import stats\n",
    "\n",
    "t_stat, p_val = stats.ttest_ind(avg_f1_5, avg_f1_3,\n",
    "                                equal_var=False)\n",
    "print(f\"t-statistics:{t_stat}, p-value: {p_val}\")"
   ]
  },
  {
   "cell_type": "code",
   "execution_count": null,
   "metadata": {},
   "outputs": [],
   "source": [
    "import seaborn as sns\n",
    "import matplotlib.pyplot as plt\n",
    "\n",
    "sns.distplot(average_score(9, 'f1')[0])\n",
    "plt.xlim(0.5, 0.75)\n",
    "# plt.title('3 majority votes [n=120]')"
   ]
  },
  {
   "cell_type": "markdown",
   "metadata": {},
   "source": [
    "### Consensus"
   ]
  },
  {
   "cell_type": "code",
   "execution_count": 243,
   "metadata": {},
   "outputs": [
    {
     "name": "stdout",
     "output_type": "stream",
     "text": [
      "TP 21\n",
      "FP 11\n",
      "TN 50\n",
      "FN 19\n",
      "precision 0.65625\n",
      "recall 0.525\n",
      "f1-score 0.5833333333333334\n"
     ]
    },
    {
     "data": {
      "text/plain": [
       "0.5833333333333334"
      ]
     },
     "execution_count": 243,
     "metadata": {},
     "output_type": "execute_result"
    }
   ],
   "source": [
    "silvergt = pd.read_csv('./constructed/lesion-based_consensus2.csv')\n",
    "silvergt = silvergt[['DB_PatientId','mask']]\n",
    "silvergt = silvergt.reset_index(drop=True)\n",
    "f1score(silvergt,THRES)"
   ]
  },
  {
   "cell_type": "code",
   "execution_count": 244,
   "metadata": {},
   "outputs": [
    {
     "name": "stdout",
     "output_type": "stream",
     "text": [
      "TP 21\n",
      "FP 10\n",
      "TN 49\n",
      "FN 20\n",
      "precision 0.6774193548387096\n",
      "recall 0.5121951219512195\n",
      "f1-score 0.5833333333333334\n"
     ]
    },
    {
     "data": {
      "text/plain": [
       "0.5833333333333334"
      ]
     },
     "execution_count": 244,
     "metadata": {},
     "output_type": "execute_result"
    }
   ],
   "source": [
    "silvergt = pd.read_csv('./constructed/lesion-based_consensus3.csv')\n",
    "silvergt = silvergt[['DB_PatientId','mask']]\n",
    "silvergt = silvergt.reset_index(drop=True)\n",
    "f1score(silvergt,THRES)"
   ]
  },
  {
   "cell_type": "markdown",
   "metadata": {},
   "source": [
    "### LCA"
   ]
  },
  {
   "cell_type": "code",
   "execution_count": 246,
   "metadata": {},
   "outputs": [
    {
     "name": "stdout",
     "output_type": "stream",
     "text": [
      "TP 22\n",
      "FP 8\n",
      "TN 50\n",
      "FN 14\n",
      "precision 0.7333333333333333\n",
      "recall 0.6111111111111112\n",
      "f1-score 0.6666666666666666\n"
     ]
    },
    {
     "data": {
      "text/plain": [
       "0.6666666666666666"
      ]
     },
     "execution_count": 246,
     "metadata": {},
     "output_type": "execute_result"
    }
   ],
   "source": [
    "silvergt = pd.read_csv('./constructed/lesion-based_lca_2.csv')\n",
    "silvergt = silvergt[['DB_PatientId','mask']]\n",
    "silvergt = silvergt.reset_index(drop=True)\n",
    "f1score(silvergt,THRES)"
   ]
  },
  {
   "cell_type": "code",
   "execution_count": 247,
   "metadata": {},
   "outputs": [
    {
     "name": "stdout",
     "output_type": "stream",
     "text": [
      "TP 24\n",
      "FP 9\n",
      "TN 50\n",
      "FN 18\n",
      "precision 0.7272727272727273\n",
      "recall 0.5714285714285714\n",
      "f1-score 0.64\n"
     ]
    },
    {
     "data": {
      "text/plain": [
       "0.64"
      ]
     },
     "execution_count": 247,
     "metadata": {},
     "output_type": "execute_result"
    }
   ],
   "source": [
    "silvergt = pd.read_csv('./constructed/lesion-based_lca_3.csv')\n",
    "silvergt = silvergt[['DB_PatientId','mask']]\n",
    "silvergt = silvergt.reset_index(drop=True)\n",
    "f1score(silvergt,THRES)"
   ]
  },
  {
   "cell_type": "code",
   "execution_count": null,
   "metadata": {},
   "outputs": [],
   "source": []
  },
  {
   "cell_type": "code",
   "execution_count": null,
   "metadata": {},
   "outputs": [],
   "source": []
  },
  {
   "cell_type": "code",
   "execution_count": null,
   "metadata": {},
   "outputs": [],
   "source": []
  },
  {
   "cell_type": "code",
   "execution_count": null,
   "metadata": {},
   "outputs": [],
   "source": [
    "# Target journal\n",
    "IF >10\n",
    "(25) Lancet digital health\n",
    "(11 ->20?) Radiology v\n",
    "(12) NPJ digital medicine (do as ai says)"
   ]
  }
 ],
 "metadata": {
  "kernelspec": {
   "display_name": "Python 3",
   "language": "python",
   "name": "python3"
  },
  "language_info": {
   "codemirror_mode": {
    "name": "ipython",
    "version": 3
   },
   "file_extension": ".py",
   "mimetype": "text/x-python",
   "name": "python",
   "nbconvert_exporter": "python",
   "pygments_lexer": "ipython3",
   "version": "3.6.9"
  }
 },
 "nbformat": 4,
 "nbformat_minor": 4
}
